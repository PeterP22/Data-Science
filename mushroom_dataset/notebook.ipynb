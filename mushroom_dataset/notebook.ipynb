{
  "nbformat": 4,
  "nbformat_minor": 0,
  "metadata": {
    "colab": {
      "provenance": [],
      "gpuType": "T4"
    },
    "kernelspec": {
      "name": "python3",
      "display_name": "Python 3"
    },
    "language_info": {
      "name": "python"
    },
    "accelerator": "GPU"
  },
  "cells": [
    {
      "cell_type": "code",
      "execution_count": 1,
      "metadata": {
        "id": "GtX13qcl4psi"
      },
      "outputs": [],
      "source": [
        "import pandas as pd"
      ]
    },
    {
      "cell_type": "code",
      "source": [
        "# import the datasets \n",
        "df_primary = pd.read_csv('primary_data.csv', sep=';')"
      ],
      "metadata": {
        "id": "VJVk4MLt489r"
      },
      "execution_count": 2,
      "outputs": []
    },
    {
      "cell_type": "code",
      "source": [
        "# check the dataset\n",
        "df_primary.head()"
      ],
      "metadata": {
        "colab": {
          "base_uri": "https://localhost:8080/",
          "height": 418
        },
        "id": "ixw6WZn75BB9",
        "outputId": "56797aab-0927-4669-9b7d-12d9325dfc25"
      },
      "execution_count": 3,
      "outputs": [
        {
          "output_type": "execute_result",
          "data": {
            "text/plain": [
              "           family               name class cap-diameter cap-shape Cap-surface  \\\n",
              "0  Amanita Family         Fly Agaric     p     [10, 20]    [x, f]      [g, h]   \n",
              "1  Amanita Family        Panther Cap     p      [5, 10]    [p, x]         [g]   \n",
              "2  Amanita Family  False Panther Cap     p     [10, 15]    [x, f]         NaN   \n",
              "3  Amanita Family        The Blusher     e      [5, 15]    [x, f]         NaN   \n",
              "4  Amanita Family          Death Cap     p      [5, 12]    [x, f]         [h]   \n",
              "\n",
              "  cap-color does-bruise-or-bleed gill-attachment gill-spacing  ... stem-root  \\\n",
              "0    [e, o]                  [f]             [e]          NaN  ...       [s]   \n",
              "1       [n]                  [f]             [e]          NaN  ...       NaN   \n",
              "2    [g, n]                  [f]             [e]          NaN  ...       NaN   \n",
              "3       [n]                  [t]             NaN          NaN  ...       [b]   \n",
              "4       [r]                  [f]             NaN          [c]  ...       NaN   \n",
              "\n",
              "  stem-surface stem-color veil-type veil-color has-ring ring-type  \\\n",
              "0          [y]        [w]       [u]        [w]      [t]    [g, p]   \n",
              "1          [y]        [w]       [u]        [w]      [t]       [p]   \n",
              "2          NaN        [w]       [u]        [w]      [t]    [e, g]   \n",
              "3          NaN        [w]       [u]        [w]      [t]       [g]   \n",
              "4          NaN        [w]       [u]        [w]      [t]    [g, p]   \n",
              "\n",
              "  Spore-print-color habitat     season  \n",
              "0               NaN     [d]  [u, a, w]  \n",
              "1               NaN     [d]     [u, a]  \n",
              "2               NaN     [d]     [u, a]  \n",
              "3               NaN     [d]     [u, a]  \n",
              "4               NaN     [d]     [u, a]  \n",
              "\n",
              "[5 rows x 23 columns]"
            ],
            "text/html": [
              "\n",
              "  <div id=\"df-73c616cb-a07f-435b-9cf0-144be9b9682e\">\n",
              "    <div class=\"colab-df-container\">\n",
              "      <div>\n",
              "<style scoped>\n",
              "    .dataframe tbody tr th:only-of-type {\n",
              "        vertical-align: middle;\n",
              "    }\n",
              "\n",
              "    .dataframe tbody tr th {\n",
              "        vertical-align: top;\n",
              "    }\n",
              "\n",
              "    .dataframe thead th {\n",
              "        text-align: right;\n",
              "    }\n",
              "</style>\n",
              "<table border=\"1\" class=\"dataframe\">\n",
              "  <thead>\n",
              "    <tr style=\"text-align: right;\">\n",
              "      <th></th>\n",
              "      <th>family</th>\n",
              "      <th>name</th>\n",
              "      <th>class</th>\n",
              "      <th>cap-diameter</th>\n",
              "      <th>cap-shape</th>\n",
              "      <th>Cap-surface</th>\n",
              "      <th>cap-color</th>\n",
              "      <th>does-bruise-or-bleed</th>\n",
              "      <th>gill-attachment</th>\n",
              "      <th>gill-spacing</th>\n",
              "      <th>...</th>\n",
              "      <th>stem-root</th>\n",
              "      <th>stem-surface</th>\n",
              "      <th>stem-color</th>\n",
              "      <th>veil-type</th>\n",
              "      <th>veil-color</th>\n",
              "      <th>has-ring</th>\n",
              "      <th>ring-type</th>\n",
              "      <th>Spore-print-color</th>\n",
              "      <th>habitat</th>\n",
              "      <th>season</th>\n",
              "    </tr>\n",
              "  </thead>\n",
              "  <tbody>\n",
              "    <tr>\n",
              "      <th>0</th>\n",
              "      <td>Amanita Family</td>\n",
              "      <td>Fly Agaric</td>\n",
              "      <td>p</td>\n",
              "      <td>[10, 20]</td>\n",
              "      <td>[x, f]</td>\n",
              "      <td>[g, h]</td>\n",
              "      <td>[e, o]</td>\n",
              "      <td>[f]</td>\n",
              "      <td>[e]</td>\n",
              "      <td>NaN</td>\n",
              "      <td>...</td>\n",
              "      <td>[s]</td>\n",
              "      <td>[y]</td>\n",
              "      <td>[w]</td>\n",
              "      <td>[u]</td>\n",
              "      <td>[w]</td>\n",
              "      <td>[t]</td>\n",
              "      <td>[g, p]</td>\n",
              "      <td>NaN</td>\n",
              "      <td>[d]</td>\n",
              "      <td>[u, a, w]</td>\n",
              "    </tr>\n",
              "    <tr>\n",
              "      <th>1</th>\n",
              "      <td>Amanita Family</td>\n",
              "      <td>Panther Cap</td>\n",
              "      <td>p</td>\n",
              "      <td>[5, 10]</td>\n",
              "      <td>[p, x]</td>\n",
              "      <td>[g]</td>\n",
              "      <td>[n]</td>\n",
              "      <td>[f]</td>\n",
              "      <td>[e]</td>\n",
              "      <td>NaN</td>\n",
              "      <td>...</td>\n",
              "      <td>NaN</td>\n",
              "      <td>[y]</td>\n",
              "      <td>[w]</td>\n",
              "      <td>[u]</td>\n",
              "      <td>[w]</td>\n",
              "      <td>[t]</td>\n",
              "      <td>[p]</td>\n",
              "      <td>NaN</td>\n",
              "      <td>[d]</td>\n",
              "      <td>[u, a]</td>\n",
              "    </tr>\n",
              "    <tr>\n",
              "      <th>2</th>\n",
              "      <td>Amanita Family</td>\n",
              "      <td>False Panther Cap</td>\n",
              "      <td>p</td>\n",
              "      <td>[10, 15]</td>\n",
              "      <td>[x, f]</td>\n",
              "      <td>NaN</td>\n",
              "      <td>[g, n]</td>\n",
              "      <td>[f]</td>\n",
              "      <td>[e]</td>\n",
              "      <td>NaN</td>\n",
              "      <td>...</td>\n",
              "      <td>NaN</td>\n",
              "      <td>NaN</td>\n",
              "      <td>[w]</td>\n",
              "      <td>[u]</td>\n",
              "      <td>[w]</td>\n",
              "      <td>[t]</td>\n",
              "      <td>[e, g]</td>\n",
              "      <td>NaN</td>\n",
              "      <td>[d]</td>\n",
              "      <td>[u, a]</td>\n",
              "    </tr>\n",
              "    <tr>\n",
              "      <th>3</th>\n",
              "      <td>Amanita Family</td>\n",
              "      <td>The Blusher</td>\n",
              "      <td>e</td>\n",
              "      <td>[5, 15]</td>\n",
              "      <td>[x, f]</td>\n",
              "      <td>NaN</td>\n",
              "      <td>[n]</td>\n",
              "      <td>[t]</td>\n",
              "      <td>NaN</td>\n",
              "      <td>NaN</td>\n",
              "      <td>...</td>\n",
              "      <td>[b]</td>\n",
              "      <td>NaN</td>\n",
              "      <td>[w]</td>\n",
              "      <td>[u]</td>\n",
              "      <td>[w]</td>\n",
              "      <td>[t]</td>\n",
              "      <td>[g]</td>\n",
              "      <td>NaN</td>\n",
              "      <td>[d]</td>\n",
              "      <td>[u, a]</td>\n",
              "    </tr>\n",
              "    <tr>\n",
              "      <th>4</th>\n",
              "      <td>Amanita Family</td>\n",
              "      <td>Death Cap</td>\n",
              "      <td>p</td>\n",
              "      <td>[5, 12]</td>\n",
              "      <td>[x, f]</td>\n",
              "      <td>[h]</td>\n",
              "      <td>[r]</td>\n",
              "      <td>[f]</td>\n",
              "      <td>NaN</td>\n",
              "      <td>[c]</td>\n",
              "      <td>...</td>\n",
              "      <td>NaN</td>\n",
              "      <td>NaN</td>\n",
              "      <td>[w]</td>\n",
              "      <td>[u]</td>\n",
              "      <td>[w]</td>\n",
              "      <td>[t]</td>\n",
              "      <td>[g, p]</td>\n",
              "      <td>NaN</td>\n",
              "      <td>[d]</td>\n",
              "      <td>[u, a]</td>\n",
              "    </tr>\n",
              "  </tbody>\n",
              "</table>\n",
              "<p>5 rows × 23 columns</p>\n",
              "</div>\n",
              "      <button class=\"colab-df-convert\" onclick=\"convertToInteractive('df-73c616cb-a07f-435b-9cf0-144be9b9682e')\"\n",
              "              title=\"Convert this dataframe to an interactive table.\"\n",
              "              style=\"display:none;\">\n",
              "        \n",
              "  <svg xmlns=\"http://www.w3.org/2000/svg\" height=\"24px\"viewBox=\"0 0 24 24\"\n",
              "       width=\"24px\">\n",
              "    <path d=\"M0 0h24v24H0V0z\" fill=\"none\"/>\n",
              "    <path d=\"M18.56 5.44l.94 2.06.94-2.06 2.06-.94-2.06-.94-.94-2.06-.94 2.06-2.06.94zm-11 1L8.5 8.5l.94-2.06 2.06-.94-2.06-.94L8.5 2.5l-.94 2.06-2.06.94zm10 10l.94 2.06.94-2.06 2.06-.94-2.06-.94-.94-2.06-.94 2.06-2.06.94z\"/><path d=\"M17.41 7.96l-1.37-1.37c-.4-.4-.92-.59-1.43-.59-.52 0-1.04.2-1.43.59L10.3 9.45l-7.72 7.72c-.78.78-.78 2.05 0 2.83L4 21.41c.39.39.9.59 1.41.59.51 0 1.02-.2 1.41-.59l7.78-7.78 2.81-2.81c.8-.78.8-2.07 0-2.86zM5.41 20L4 18.59l7.72-7.72 1.47 1.35L5.41 20z\"/>\n",
              "  </svg>\n",
              "      </button>\n",
              "      \n",
              "  <style>\n",
              "    .colab-df-container {\n",
              "      display:flex;\n",
              "      flex-wrap:wrap;\n",
              "      gap: 12px;\n",
              "    }\n",
              "\n",
              "    .colab-df-convert {\n",
              "      background-color: #E8F0FE;\n",
              "      border: none;\n",
              "      border-radius: 50%;\n",
              "      cursor: pointer;\n",
              "      display: none;\n",
              "      fill: #1967D2;\n",
              "      height: 32px;\n",
              "      padding: 0 0 0 0;\n",
              "      width: 32px;\n",
              "    }\n",
              "\n",
              "    .colab-df-convert:hover {\n",
              "      background-color: #E2EBFA;\n",
              "      box-shadow: 0px 1px 2px rgba(60, 64, 67, 0.3), 0px 1px 3px 1px rgba(60, 64, 67, 0.15);\n",
              "      fill: #174EA6;\n",
              "    }\n",
              "\n",
              "    [theme=dark] .colab-df-convert {\n",
              "      background-color: #3B4455;\n",
              "      fill: #D2E3FC;\n",
              "    }\n",
              "\n",
              "    [theme=dark] .colab-df-convert:hover {\n",
              "      background-color: #434B5C;\n",
              "      box-shadow: 0px 1px 3px 1px rgba(0, 0, 0, 0.15);\n",
              "      filter: drop-shadow(0px 1px 2px rgba(0, 0, 0, 0.3));\n",
              "      fill: #FFFFFF;\n",
              "    }\n",
              "  </style>\n",
              "\n",
              "      <script>\n",
              "        const buttonEl =\n",
              "          document.querySelector('#df-73c616cb-a07f-435b-9cf0-144be9b9682e button.colab-df-convert');\n",
              "        buttonEl.style.display =\n",
              "          google.colab.kernel.accessAllowed ? 'block' : 'none';\n",
              "\n",
              "        async function convertToInteractive(key) {\n",
              "          const element = document.querySelector('#df-73c616cb-a07f-435b-9cf0-144be9b9682e');\n",
              "          const dataTable =\n",
              "            await google.colab.kernel.invokeFunction('convertToInteractive',\n",
              "                                                     [key], {});\n",
              "          if (!dataTable) return;\n",
              "\n",
              "          const docLinkHtml = 'Like what you see? Visit the ' +\n",
              "            '<a target=\"_blank\" href=https://colab.research.google.com/notebooks/data_table.ipynb>data table notebook</a>'\n",
              "            + ' to learn more about interactive tables.';\n",
              "          element.innerHTML = '';\n",
              "          dataTable['output_type'] = 'display_data';\n",
              "          await google.colab.output.renderOutput(dataTable, element);\n",
              "          const docLink = document.createElement('div');\n",
              "          docLink.innerHTML = docLinkHtml;\n",
              "          element.appendChild(docLink);\n",
              "        }\n",
              "      </script>\n",
              "    </div>\n",
              "  </div>\n",
              "  "
            ]
          },
          "metadata": {},
          "execution_count": 3
        }
      ]
    },
    {
      "cell_type": "code",
      "source": [
        "# print the rows and columns\n",
        "df_primary.shape"
      ],
      "metadata": {
        "colab": {
          "base_uri": "https://localhost:8080/"
        },
        "id": "iCdAkUez5DmO",
        "outputId": "c27a6c79-8b80-4c69-daa2-5836867d5330"
      },
      "execution_count": 4,
      "outputs": [
        {
          "output_type": "execute_result",
          "data": {
            "text/plain": [
              "(173, 23)"
            ]
          },
          "metadata": {},
          "execution_count": 4
        }
      ]
    },
    {
      "cell_type": "code",
      "source": [
        "# check the data types\n",
        "df_primary.dtypes"
      ],
      "metadata": {
        "colab": {
          "base_uri": "https://localhost:8080/"
        },
        "id": "1tXr57525E8O",
        "outputId": "1ca4d2d5-4a55-4f63-c777-9aa68c832ae9"
      },
      "execution_count": 5,
      "outputs": [
        {
          "output_type": "execute_result",
          "data": {
            "text/plain": [
              "family                  object\n",
              "name                    object\n",
              "class                   object\n",
              "cap-diameter            object\n",
              "cap-shape               object\n",
              "Cap-surface             object\n",
              "cap-color               object\n",
              "does-bruise-or-bleed    object\n",
              "gill-attachment         object\n",
              "gill-spacing            object\n",
              "gill-color              object\n",
              "stem-height             object\n",
              "stem-width              object\n",
              "stem-root               object\n",
              "stem-surface            object\n",
              "stem-color              object\n",
              "veil-type               object\n",
              "veil-color              object\n",
              "has-ring                object\n",
              "ring-type               object\n",
              "Spore-print-color       object\n",
              "habitat                 object\n",
              "season                  object\n",
              "dtype: object"
            ]
          },
          "metadata": {},
          "execution_count": 5
        }
      ]
    },
    {
      "cell_type": "code",
      "source": [
        "# import the second dataset\n",
        "df_secondary= pd.read_csv('secondary_data.csv', sep=';', na_values='')"
      ],
      "metadata": {
        "id": "OqEWl-3U5HY3"
      },
      "execution_count": 6,
      "outputs": []
    },
    {
      "cell_type": "code",
      "source": [
        "# check the dataset\n",
        "df_secondary.head()"
      ],
      "metadata": {
        "colab": {
          "base_uri": "https://localhost:8080/",
          "height": 314
        },
        "id": "XL2pRdus5L9T",
        "outputId": "762b287b-187f-4d2b-8a32-561da159475c"
      },
      "execution_count": 7,
      "outputs": [
        {
          "output_type": "execute_result",
          "data": {
            "text/plain": [
              "  class  cap-diameter cap-shape cap-surface cap-color does-bruise-or-bleed  \\\n",
              "0     p         15.26         x           g         o                    f   \n",
              "1     p         16.60         x           g         o                    f   \n",
              "2     p         14.07         x           g         o                    f   \n",
              "3     p         14.17         f           h         e                    f   \n",
              "4     p         14.64         x           h         o                    f   \n",
              "\n",
              "  gill-attachment gill-spacing gill-color  stem-height  ...  stem-root  \\\n",
              "0               e          NaN          w        16.95  ...          s   \n",
              "1               e          NaN          w        17.99  ...          s   \n",
              "2               e          NaN          w        17.80  ...          s   \n",
              "3               e          NaN          w        15.77  ...          s   \n",
              "4               e          NaN          w        16.53  ...          s   \n",
              "\n",
              "  stem-surface stem-color veil-type veil-color has-ring ring-type  \\\n",
              "0            y          w         u          w        t         g   \n",
              "1            y          w         u          w        t         g   \n",
              "2            y          w         u          w        t         g   \n",
              "3            y          w         u          w        t         p   \n",
              "4            y          w         u          w        t         p   \n",
              "\n",
              "  spore-print-color habitat season  \n",
              "0               NaN       d      w  \n",
              "1               NaN       d      u  \n",
              "2               NaN       d      w  \n",
              "3               NaN       d      w  \n",
              "4               NaN       d      w  \n",
              "\n",
              "[5 rows x 21 columns]"
            ],
            "text/html": [
              "\n",
              "  <div id=\"df-c658cfc4-1f16-41b4-9d6f-d12060225857\">\n",
              "    <div class=\"colab-df-container\">\n",
              "      <div>\n",
              "<style scoped>\n",
              "    .dataframe tbody tr th:only-of-type {\n",
              "        vertical-align: middle;\n",
              "    }\n",
              "\n",
              "    .dataframe tbody tr th {\n",
              "        vertical-align: top;\n",
              "    }\n",
              "\n",
              "    .dataframe thead th {\n",
              "        text-align: right;\n",
              "    }\n",
              "</style>\n",
              "<table border=\"1\" class=\"dataframe\">\n",
              "  <thead>\n",
              "    <tr style=\"text-align: right;\">\n",
              "      <th></th>\n",
              "      <th>class</th>\n",
              "      <th>cap-diameter</th>\n",
              "      <th>cap-shape</th>\n",
              "      <th>cap-surface</th>\n",
              "      <th>cap-color</th>\n",
              "      <th>does-bruise-or-bleed</th>\n",
              "      <th>gill-attachment</th>\n",
              "      <th>gill-spacing</th>\n",
              "      <th>gill-color</th>\n",
              "      <th>stem-height</th>\n",
              "      <th>...</th>\n",
              "      <th>stem-root</th>\n",
              "      <th>stem-surface</th>\n",
              "      <th>stem-color</th>\n",
              "      <th>veil-type</th>\n",
              "      <th>veil-color</th>\n",
              "      <th>has-ring</th>\n",
              "      <th>ring-type</th>\n",
              "      <th>spore-print-color</th>\n",
              "      <th>habitat</th>\n",
              "      <th>season</th>\n",
              "    </tr>\n",
              "  </thead>\n",
              "  <tbody>\n",
              "    <tr>\n",
              "      <th>0</th>\n",
              "      <td>p</td>\n",
              "      <td>15.26</td>\n",
              "      <td>x</td>\n",
              "      <td>g</td>\n",
              "      <td>o</td>\n",
              "      <td>f</td>\n",
              "      <td>e</td>\n",
              "      <td>NaN</td>\n",
              "      <td>w</td>\n",
              "      <td>16.95</td>\n",
              "      <td>...</td>\n",
              "      <td>s</td>\n",
              "      <td>y</td>\n",
              "      <td>w</td>\n",
              "      <td>u</td>\n",
              "      <td>w</td>\n",
              "      <td>t</td>\n",
              "      <td>g</td>\n",
              "      <td>NaN</td>\n",
              "      <td>d</td>\n",
              "      <td>w</td>\n",
              "    </tr>\n",
              "    <tr>\n",
              "      <th>1</th>\n",
              "      <td>p</td>\n",
              "      <td>16.60</td>\n",
              "      <td>x</td>\n",
              "      <td>g</td>\n",
              "      <td>o</td>\n",
              "      <td>f</td>\n",
              "      <td>e</td>\n",
              "      <td>NaN</td>\n",
              "      <td>w</td>\n",
              "      <td>17.99</td>\n",
              "      <td>...</td>\n",
              "      <td>s</td>\n",
              "      <td>y</td>\n",
              "      <td>w</td>\n",
              "      <td>u</td>\n",
              "      <td>w</td>\n",
              "      <td>t</td>\n",
              "      <td>g</td>\n",
              "      <td>NaN</td>\n",
              "      <td>d</td>\n",
              "      <td>u</td>\n",
              "    </tr>\n",
              "    <tr>\n",
              "      <th>2</th>\n",
              "      <td>p</td>\n",
              "      <td>14.07</td>\n",
              "      <td>x</td>\n",
              "      <td>g</td>\n",
              "      <td>o</td>\n",
              "      <td>f</td>\n",
              "      <td>e</td>\n",
              "      <td>NaN</td>\n",
              "      <td>w</td>\n",
              "      <td>17.80</td>\n",
              "      <td>...</td>\n",
              "      <td>s</td>\n",
              "      <td>y</td>\n",
              "      <td>w</td>\n",
              "      <td>u</td>\n",
              "      <td>w</td>\n",
              "      <td>t</td>\n",
              "      <td>g</td>\n",
              "      <td>NaN</td>\n",
              "      <td>d</td>\n",
              "      <td>w</td>\n",
              "    </tr>\n",
              "    <tr>\n",
              "      <th>3</th>\n",
              "      <td>p</td>\n",
              "      <td>14.17</td>\n",
              "      <td>f</td>\n",
              "      <td>h</td>\n",
              "      <td>e</td>\n",
              "      <td>f</td>\n",
              "      <td>e</td>\n",
              "      <td>NaN</td>\n",
              "      <td>w</td>\n",
              "      <td>15.77</td>\n",
              "      <td>...</td>\n",
              "      <td>s</td>\n",
              "      <td>y</td>\n",
              "      <td>w</td>\n",
              "      <td>u</td>\n",
              "      <td>w</td>\n",
              "      <td>t</td>\n",
              "      <td>p</td>\n",
              "      <td>NaN</td>\n",
              "      <td>d</td>\n",
              "      <td>w</td>\n",
              "    </tr>\n",
              "    <tr>\n",
              "      <th>4</th>\n",
              "      <td>p</td>\n",
              "      <td>14.64</td>\n",
              "      <td>x</td>\n",
              "      <td>h</td>\n",
              "      <td>o</td>\n",
              "      <td>f</td>\n",
              "      <td>e</td>\n",
              "      <td>NaN</td>\n",
              "      <td>w</td>\n",
              "      <td>16.53</td>\n",
              "      <td>...</td>\n",
              "      <td>s</td>\n",
              "      <td>y</td>\n",
              "      <td>w</td>\n",
              "      <td>u</td>\n",
              "      <td>w</td>\n",
              "      <td>t</td>\n",
              "      <td>p</td>\n",
              "      <td>NaN</td>\n",
              "      <td>d</td>\n",
              "      <td>w</td>\n",
              "    </tr>\n",
              "  </tbody>\n",
              "</table>\n",
              "<p>5 rows × 21 columns</p>\n",
              "</div>\n",
              "      <button class=\"colab-df-convert\" onclick=\"convertToInteractive('df-c658cfc4-1f16-41b4-9d6f-d12060225857')\"\n",
              "              title=\"Convert this dataframe to an interactive table.\"\n",
              "              style=\"display:none;\">\n",
              "        \n",
              "  <svg xmlns=\"http://www.w3.org/2000/svg\" height=\"24px\"viewBox=\"0 0 24 24\"\n",
              "       width=\"24px\">\n",
              "    <path d=\"M0 0h24v24H0V0z\" fill=\"none\"/>\n",
              "    <path d=\"M18.56 5.44l.94 2.06.94-2.06 2.06-.94-2.06-.94-.94-2.06-.94 2.06-2.06.94zm-11 1L8.5 8.5l.94-2.06 2.06-.94-2.06-.94L8.5 2.5l-.94 2.06-2.06.94zm10 10l.94 2.06.94-2.06 2.06-.94-2.06-.94-.94-2.06-.94 2.06-2.06.94z\"/><path d=\"M17.41 7.96l-1.37-1.37c-.4-.4-.92-.59-1.43-.59-.52 0-1.04.2-1.43.59L10.3 9.45l-7.72 7.72c-.78.78-.78 2.05 0 2.83L4 21.41c.39.39.9.59 1.41.59.51 0 1.02-.2 1.41-.59l7.78-7.78 2.81-2.81c.8-.78.8-2.07 0-2.86zM5.41 20L4 18.59l7.72-7.72 1.47 1.35L5.41 20z\"/>\n",
              "  </svg>\n",
              "      </button>\n",
              "      \n",
              "  <style>\n",
              "    .colab-df-container {\n",
              "      display:flex;\n",
              "      flex-wrap:wrap;\n",
              "      gap: 12px;\n",
              "    }\n",
              "\n",
              "    .colab-df-convert {\n",
              "      background-color: #E8F0FE;\n",
              "      border: none;\n",
              "      border-radius: 50%;\n",
              "      cursor: pointer;\n",
              "      display: none;\n",
              "      fill: #1967D2;\n",
              "      height: 32px;\n",
              "      padding: 0 0 0 0;\n",
              "      width: 32px;\n",
              "    }\n",
              "\n",
              "    .colab-df-convert:hover {\n",
              "      background-color: #E2EBFA;\n",
              "      box-shadow: 0px 1px 2px rgba(60, 64, 67, 0.3), 0px 1px 3px 1px rgba(60, 64, 67, 0.15);\n",
              "      fill: #174EA6;\n",
              "    }\n",
              "\n",
              "    [theme=dark] .colab-df-convert {\n",
              "      background-color: #3B4455;\n",
              "      fill: #D2E3FC;\n",
              "    }\n",
              "\n",
              "    [theme=dark] .colab-df-convert:hover {\n",
              "      background-color: #434B5C;\n",
              "      box-shadow: 0px 1px 3px 1px rgba(0, 0, 0, 0.15);\n",
              "      filter: drop-shadow(0px 1px 2px rgba(0, 0, 0, 0.3));\n",
              "      fill: #FFFFFF;\n",
              "    }\n",
              "  </style>\n",
              "\n",
              "      <script>\n",
              "        const buttonEl =\n",
              "          document.querySelector('#df-c658cfc4-1f16-41b4-9d6f-d12060225857 button.colab-df-convert');\n",
              "        buttonEl.style.display =\n",
              "          google.colab.kernel.accessAllowed ? 'block' : 'none';\n",
              "\n",
              "        async function convertToInteractive(key) {\n",
              "          const element = document.querySelector('#df-c658cfc4-1f16-41b4-9d6f-d12060225857');\n",
              "          const dataTable =\n",
              "            await google.colab.kernel.invokeFunction('convertToInteractive',\n",
              "                                                     [key], {});\n",
              "          if (!dataTable) return;\n",
              "\n",
              "          const docLinkHtml = 'Like what you see? Visit the ' +\n",
              "            '<a target=\"_blank\" href=https://colab.research.google.com/notebooks/data_table.ipynb>data table notebook</a>'\n",
              "            + ' to learn more about interactive tables.';\n",
              "          element.innerHTML = '';\n",
              "          dataTable['output_type'] = 'display_data';\n",
              "          await google.colab.output.renderOutput(dataTable, element);\n",
              "          const docLink = document.createElement('div');\n",
              "          docLink.innerHTML = docLinkHtml;\n",
              "          element.appendChild(docLink);\n",
              "        }\n",
              "      </script>\n",
              "    </div>\n",
              "  </div>\n",
              "  "
            ]
          },
          "metadata": {},
          "execution_count": 7
        }
      ]
    },
    {
      "cell_type": "code",
      "source": [
        "# print the rows and columns\n",
        "df_secondary.shape"
      ],
      "metadata": {
        "colab": {
          "base_uri": "https://localhost:8080/"
        },
        "id": "9DAWezZ_5NR2",
        "outputId": "e2d6e1f0-1941-4984-c8f7-4d9887432f08"
      },
      "execution_count": 8,
      "outputs": [
        {
          "output_type": "execute_result",
          "data": {
            "text/plain": [
              "(61069, 21)"
            ]
          },
          "metadata": {},
          "execution_count": 8
        }
      ]
    },
    {
      "cell_type": "code",
      "source": [
        "# check the data types\n",
        "df_secondary.dtypes"
      ],
      "metadata": {
        "colab": {
          "base_uri": "https://localhost:8080/"
        },
        "id": "eGmJ8bHE5Pa6",
        "outputId": "08b25d6a-6f1f-4d7b-d1c2-df683bd6ca3d"
      },
      "execution_count": 9,
      "outputs": [
        {
          "output_type": "execute_result",
          "data": {
            "text/plain": [
              "class                    object\n",
              "cap-diameter            float64\n",
              "cap-shape                object\n",
              "cap-surface              object\n",
              "cap-color                object\n",
              "does-bruise-or-bleed     object\n",
              "gill-attachment          object\n",
              "gill-spacing             object\n",
              "gill-color               object\n",
              "stem-height             float64\n",
              "stem-width              float64\n",
              "stem-root                object\n",
              "stem-surface             object\n",
              "stem-color               object\n",
              "veil-type                object\n",
              "veil-color               object\n",
              "has-ring                 object\n",
              "ring-type                object\n",
              "spore-print-color        object\n",
              "habitat                  object\n",
              "season                   object\n",
              "dtype: object"
            ]
          },
          "metadata": {},
          "execution_count": 9
        }
      ]
    },
    {
      "cell_type": "markdown",
      "source": [
        "Notes before starting...\n",
        "- Primary data = 173 mushroom species as entries\n",
        "- Secondary data = 61069 hypothetical mushroom species as entries (353 mushrooms created for each of the 173 species in the primary data). 1 binary class, 20 variables where 17 of them were nominal and 3 were quantitative.\n",
        "- 2 classes: poisonous and edible"
      ],
      "metadata": {
        "id": "GpqDOhu75WnI"
      }
    },
    {
      "cell_type": "code",
      "source": [
        "# import all required libraries\n",
        "import pandas as pd\n",
        "import numpy as np\n",
        "from sklearn.preprocessing import LabelEncoder, OneHotEncoder\n",
        "from sklearn.impute import SimpleImputer\n",
        "from sklearn.model_selection import train_test_split, cross_val_score, StratifiedKFold\n",
        "from sklearn.metrics import make_scorer, fbeta_score\n",
        "from sklearn.ensemble import RandomForestClassifier\n",
        "from sklearn.discriminant_analysis import LinearDiscriminantAnalysis\n",
        "from sklearn.linear_model import LogisticRegression\n",
        "from sklearn.naive_bayes import GaussianNB"
      ],
      "metadata": {
        "id": "PrB8tLT25aOA"
      },
      "execution_count": 10,
      "outputs": []
    },
    {
      "cell_type": "code",
      "source": [
        "# now we need to make multiple functions to reproduce the results of the paper specifically in figure 4\n",
        "def drop_missing_data(df):\n",
        "    df = df.loc[:, df.isnull().mean() < 0.5]\n",
        "    return df"
      ],
      "metadata": {
        "id": "zSLm1ihb5dYB"
      },
      "execution_count": 11,
      "outputs": []
    },
    {
      "cell_type": "code",
      "source": [
        "def impute_missing_data(df):\n",
        "    for column in df.columns:\n",
        "        df.loc[:, column].fillna(df[column].mode()[0], inplace=True)\n",
        "    return df"
      ],
      "metadata": {
        "id": "IQwRxv2P6_Cy"
      },
      "execution_count": 12,
      "outputs": []
    },
    {
      "cell_type": "code",
      "source": [
        "def separate_features_labels(df):\n",
        "    X = df.drop('class', axis=1)\n",
        "    y = df['class']\n",
        "    return X, y"
      ],
      "metadata": {
        "id": "kPcQfB447BL-"
      },
      "execution_count": 13,
      "outputs": []
    },
    {
      "cell_type": "code",
      "source": [
        "def encode_features_labels(X, y):\n",
        "    le = LabelEncoder()\n",
        "    y = le.fit_transform(y)\n",
        "    X = pd.get_dummies(X)\n",
        "    return X, y"
      ],
      "metadata": {
        "id": "IVWqJUR07DRc"
      },
      "execution_count": 14,
      "outputs": []
    },
    {
      "cell_type": "code",
      "source": [
        "def split_data(X, y):\n",
        "    X_train, X_test, y_train, y_test = train_test_split(X, y, test_size=0.2, random_state=42)\n",
        "    return X_train, X_test, y_train, y_test"
      ],
      "metadata": {
        "id": "dxct9qJ07HPK"
      },
      "execution_count": 15,
      "outputs": []
    },
    {
      "cell_type": "code",
      "source": [
        "def initialize_classifiers():\n",
        "    classifiers = {\n",
        "        'Naive Bayes': GaussianNB(),\n",
        "        'Logistic Regression': LogisticRegression(max_iter=1000),\n",
        "        'Linear Discriminant Analysis': LinearDiscriminantAnalysis(),\n",
        "        'Random Forest': RandomForestClassifier()\n",
        "    }\n",
        "    return classifiers"
      ],
      "metadata": {
        "id": "5kF5OipN7JFB"
      },
      "execution_count": 16,
      "outputs": []
    },
    {
      "cell_type": "code",
      "source": [
        "def cross_validate_and_evaluate(X_train, y_train, classifiers):\n",
        "    cv = StratifiedKFold(n_splits=5)\n",
        "    f2_scorer = make_scorer(fbeta_score, beta=2)\n",
        "\n",
        "    results = {}\n",
        "    \n",
        "    for name, classifier in classifiers.items():\n",
        "        accuracy = cross_val_score(classifier, X_train, y_train, cv=cv, scoring='accuracy')\n",
        "        f2_score = cross_val_score(classifier, X_train, y_train, cv=cv, scoring=f2_scorer)\n",
        "        \n",
        "        results[name] = {'accuracy': accuracy, 'f2_score': f2_score}\n",
        "        \n",
        "        print(f\"{name} - Accuracy: {accuracy.mean():.3f}, F2 Score: {f2_score.mean():.3f}\")\n",
        "    \n",
        "    return results"
      ],
      "metadata": {
        "id": "9HpZ7RBR7LMB"
      },
      "execution_count": 17,
      "outputs": []
    },
    {
      "cell_type": "code",
      "source": [
        "def process_and_train(df):\n",
        "    df = drop_missing_data(df)\n",
        "    df = impute_missing_data(df)\n",
        "    X, y = separate_features_labels(df)\n",
        "    X, y = encode_features_labels(X, y)\n",
        "    X_train, X_test, y_train, y_test = split_data(X, y)\n",
        "    classifiers = initialize_classifiers()\n",
        "    results = cross_validate_and_evaluate(X_train, y_train, classifiers)\n",
        "    return results"
      ],
      "metadata": {
        "id": "FJJYdABp7NkE"
      },
      "execution_count": 18,
      "outputs": []
    },
    {
      "cell_type": "code",
      "source": [
        "import warnings\n",
        "from pandas.errors import SettingWithCopyWarning\n",
        "\n",
        "warnings.simplefilter(action=\"ignore\", category=SettingWithCopyWarning)"
      ],
      "metadata": {
        "id": "9fdiFQBdL2IM"
      },
      "execution_count": 19,
      "outputs": []
    },
    {
      "cell_type": "code",
      "source": [
        "results_primary = process_and_train(df_primary)"
      ],
      "metadata": {
        "colab": {
          "base_uri": "https://localhost:8080/"
        },
        "id": "T7dtQ9S97Pvw",
        "outputId": "0ad157ee-b4e2-4a8b-eb92-64bc6aededaa"
      },
      "execution_count": 20,
      "outputs": [
        {
          "output_type": "stream",
          "name": "stdout",
          "text": [
            "Naive Bayes - Accuracy: 0.449, F2 Score: 0.474\n",
            "Logistic Regression - Accuracy: 0.471, F2 Score: 0.565\n",
            "Linear Discriminant Analysis - Accuracy: 0.492, F2 Score: 0.687\n",
            "Random Forest - Accuracy: 0.544, F2 Score: 0.712\n"
          ]
        }
      ]
    },
    {
      "cell_type": "code",
      "source": [
        "results_secondary = process_and_train(df_secondary)"
      ],
      "metadata": {
        "colab": {
          "base_uri": "https://localhost:8080/"
        },
        "id": "42vCg1lpJ1_f",
        "outputId": "028d02d5-0c90-4b37-efe2-969396251939"
      },
      "execution_count": 21,
      "outputs": [
        {
          "output_type": "stream",
          "name": "stdout",
          "text": [
            "Naive Bayes - Accuracy: 0.722, F2 Score: 0.768\n",
            "Logistic Regression - Accuracy: 0.776, F2 Score: 0.794\n",
            "Linear Discriminant Analysis - Accuracy: 0.778, F2 Score: 0.793\n",
            "Random Forest - Accuracy: 1.000, F2 Score: 1.000\n"
          ]
        }
      ]
    },
    {
      "cell_type": "code",
      "source": [
        "import matplotlib.pyplot as plt\n",
        "\n",
        "classifiers = ['Naive Bayes', 'Logistic Regression', 'Linear Discriminant Analysis', 'Random Forest']\n",
        "\n",
        "# Accuracy box plots\n",
        "fig, axs = plt.subplots(2, 2, figsize=(10, 10))\n",
        "\n",
        "for i, metric in enumerate(['accuracy', 'f2_score']):\n",
        "    for j, data in enumerate(['primary', 'secondary']):\n",
        "        axs[i, j].boxplot([results_primary[classifier][metric] if data == 'primary' else results_secondary[classifier][metric] for classifier in classifiers])\n",
        "        axs[i, j].set_xticklabels(classifiers, rotation=45)\n",
        "        axs[i, j].set_title(f'{metric.capitalize()} Scores for {data.capitalize()} Data')\n",
        "\n",
        "plt.tight_layout()\n",
        "plt.show()"
      ],
      "metadata": {
        "colab": {
          "base_uri": "https://localhost:8080/",
          "height": 1000
        },
        "id": "6yThgnIeASjk",
        "outputId": "5a446e60-e01e-4417-f31e-e115dc12bfb6"
      },
      "execution_count": 22,
      "outputs": [
        {
          "output_type": "display_data",
          "data": {
            "text/plain": [
              "<Figure size 1000x1000 with 4 Axes>"
            ],
            "image/png": "[encoded data removed]"
          },
          "metadata": {}
        }
      ]
    }
  ]
}