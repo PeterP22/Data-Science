{
 "cells": [
  {
   "cell_type": "markdown",
   "source": [
    "1. Loading the data and printing the data dimensions"
   ],
   "metadata": {
    "collapsed": false
   }
  },
  {
   "cell_type": "code",
   "execution_count": 138,
   "metadata": {
    "collapsed": true,
    "ExecuteTime": {
     "start_time": "2023-04-19T16:31:31.356131Z",
     "end_time": "2023-04-19T16:31:31.841854Z"
    }
   },
   "outputs": [
    {
     "data": {
      "text/plain": "  data_format development_key     status  year_completed clue_small_area  \\\n0  Pre May 16         X000674  COMPLETED          2007.0      Kensington   \n1  Pre May 16         X000645  COMPLETED          2005.0      Kensington   \n2  Pre May 16         X001046  COMPLETED          2007.0       Docklands   \n3  Pre May 16         X000827  COMPLETED          2007.0  Port Melbourne   \n4  Pre May 16         X001114  COMPLETED          2007.0       Docklands   \n\n   clue_block                                     street_address  property_id  \\\n0         555             54-62 Bateman Road KENSINGTON VIC 3031       595012   \n1         520          104-110 Altona Street KENSINGTON VIC 3031       597179   \n2        1105          720-750 Collins Street DOCKLANDS VIC 3008       598590   \n3         775     870-872 Lorimer Street PORT MELBOURNE VIC 3207       600453   \n4        1109  Aquavista 397-407 Docklands Drive DOCKLANDS VI...       601815   \n\n   property_id_2  property_id_3  ...  hospital_flr  recreation_flr  \\\n0            NaN            NaN  ...             0               0   \n1            NaN            NaN  ...             0               0   \n2            NaN            NaN  ...             0               0   \n3            NaN            NaN  ...             0               0   \n4            NaN            NaN  ...             0               0   \n\n   publicdispaly_flr  community_flr  car_spaces  bike_spaces  \\\n0                  0              0           0            0   \n1                  0              0           0            0   \n2                  0              0           0            0   \n3                  0              0           0            0   \n4                  0              0           0            0   \n\n   town_planning_application   longitude   latitude                   geopoint  \n0                          0  144.917487 -37.795549  -37.79554938, 144.9174869  \n1                          0  144.925214 -37.796234   -37.7962344, 144.9252138  \n2                          0  144.949339 -37.820002   -37.82000244, 144.949339  \n3                          0  144.935420 -37.823135  -37.82313528, 144.9354196  \n4                          0  144.940195 -37.814289   -37.81428927, 144.940195  \n\n[5 rows x 42 columns]",
      "text/html": "<div>\n<style scoped>\n    .dataframe tbody tr th:only-of-type {\n        vertical-align: middle;\n    }\n\n    .dataframe tbody tr th {\n        vertical-align: top;\n    }\n\n    .dataframe thead th {\n        text-align: right;\n    }\n</style>\n<table border=\"1\" class=\"dataframe\">\n  <thead>\n    <tr style=\"text-align: right;\">\n      <th></th>\n      <th>data_format</th>\n      <th>development_key</th>\n      <th>status</th>\n      <th>year_completed</th>\n      <th>clue_small_area</th>\n      <th>clue_block</th>\n      <th>street_address</th>\n      <th>property_id</th>\n      <th>property_id_2</th>\n      <th>property_id_3</th>\n      <th>...</th>\n      <th>hospital_flr</th>\n      <th>recreation_flr</th>\n      <th>publicdispaly_flr</th>\n      <th>community_flr</th>\n      <th>car_spaces</th>\n      <th>bike_spaces</th>\n      <th>town_planning_application</th>\n      <th>longitude</th>\n      <th>latitude</th>\n      <th>geopoint</th>\n    </tr>\n  </thead>\n  <tbody>\n    <tr>\n      <th>0</th>\n      <td>Pre May 16</td>\n      <td>X000674</td>\n      <td>COMPLETED</td>\n      <td>2007.0</td>\n      <td>Kensington</td>\n      <td>555</td>\n      <td>54-62 Bateman Road KENSINGTON VIC 3031</td>\n      <td>595012</td>\n      <td>NaN</td>\n      <td>NaN</td>\n      <td>...</td>\n      <td>0</td>\n      <td>0</td>\n      <td>0</td>\n      <td>0</td>\n      <td>0</td>\n      <td>0</td>\n      <td>0</td>\n      <td>144.917487</td>\n      <td>-37.795549</td>\n      <td>-37.79554938, 144.9174869</td>\n    </tr>\n    <tr>\n      <th>1</th>\n      <td>Pre May 16</td>\n      <td>X000645</td>\n      <td>COMPLETED</td>\n      <td>2005.0</td>\n      <td>Kensington</td>\n      <td>520</td>\n      <td>104-110 Altona Street KENSINGTON VIC 3031</td>\n      <td>597179</td>\n      <td>NaN</td>\n      <td>NaN</td>\n      <td>...</td>\n      <td>0</td>\n      <td>0</td>\n      <td>0</td>\n      <td>0</td>\n      <td>0</td>\n      <td>0</td>\n      <td>0</td>\n      <td>144.925214</td>\n      <td>-37.796234</td>\n      <td>-37.7962344, 144.9252138</td>\n    </tr>\n    <tr>\n      <th>2</th>\n      <td>Pre May 16</td>\n      <td>X001046</td>\n      <td>COMPLETED</td>\n      <td>2007.0</td>\n      <td>Docklands</td>\n      <td>1105</td>\n      <td>720-750 Collins Street DOCKLANDS VIC 3008</td>\n      <td>598590</td>\n      <td>NaN</td>\n      <td>NaN</td>\n      <td>...</td>\n      <td>0</td>\n      <td>0</td>\n      <td>0</td>\n      <td>0</td>\n      <td>0</td>\n      <td>0</td>\n      <td>0</td>\n      <td>144.949339</td>\n      <td>-37.820002</td>\n      <td>-37.82000244, 144.949339</td>\n    </tr>\n    <tr>\n      <th>3</th>\n      <td>Pre May 16</td>\n      <td>X000827</td>\n      <td>COMPLETED</td>\n      <td>2007.0</td>\n      <td>Port Melbourne</td>\n      <td>775</td>\n      <td>870-872 Lorimer Street PORT MELBOURNE VIC 3207</td>\n      <td>600453</td>\n      <td>NaN</td>\n      <td>NaN</td>\n      <td>...</td>\n      <td>0</td>\n      <td>0</td>\n      <td>0</td>\n      <td>0</td>\n      <td>0</td>\n      <td>0</td>\n      <td>0</td>\n      <td>144.935420</td>\n      <td>-37.823135</td>\n      <td>-37.82313528, 144.9354196</td>\n    </tr>\n    <tr>\n      <th>4</th>\n      <td>Pre May 16</td>\n      <td>X001114</td>\n      <td>COMPLETED</td>\n      <td>2007.0</td>\n      <td>Docklands</td>\n      <td>1109</td>\n      <td>Aquavista 397-407 Docklands Drive DOCKLANDS VI...</td>\n      <td>601815</td>\n      <td>NaN</td>\n      <td>NaN</td>\n      <td>...</td>\n      <td>0</td>\n      <td>0</td>\n      <td>0</td>\n      <td>0</td>\n      <td>0</td>\n      <td>0</td>\n      <td>0</td>\n      <td>144.940195</td>\n      <td>-37.814289</td>\n      <td>-37.81428927, 144.940195</td>\n    </tr>\n  </tbody>\n</table>\n<p>5 rows × 42 columns</p>\n</div>"
     },
     "execution_count": 138,
     "metadata": {},
     "output_type": "execute_result"
    }
   ],
   "source": [
    "# load the csv file named \"development-activity-monitoring.csv\" into a pandas dataframe\n",
    "import pandas as pd\n",
    "df = pd.read_csv(\"development-activity-monitor.csv\") # load the csv file into a pandas dataframe\n",
    "df.head() # display the first 5 rows of the dataframe"
   ]
  },
  {
   "cell_type": "code",
   "execution_count": 139,
   "outputs": [
    {
     "name": "stdout",
     "output_type": "stream",
     "text": [
      "The data has 1430 rows and 42 columns\n"
     ]
    }
   ],
   "source": [
    "# print the data dimensions\n",
    "print(\"The data has {} rows and {} columns\".format(df.shape[0], df.shape[1]))"
   ],
   "metadata": {
    "collapsed": false,
    "ExecuteTime": {
     "start_time": "2023-04-19T16:31:31.381064Z",
     "end_time": "2023-04-19T16:31:31.841854Z"
    }
   }
  },
  {
   "cell_type": "markdown",
   "source": [
    "2. Display the data type of all the features and if it's an integer, print the median value of the feature"
   ],
   "metadata": {
    "collapsed": false
   }
  },
  {
   "cell_type": "code",
   "execution_count": 140,
   "outputs": [
    {
     "data": {
      "text/plain": "data_format                     object\ndevelopment_key                 object\nstatus                          object\nyear_completed                 float64\nclue_small_area                 object\nclue_block                       int64\nstreet_address                  object\nproperty_id                      int64\nproperty_id_2                  float64\nproperty_id_3                  float64\nproperty_id_4                  float64\nproperty_id_5                  float64\nfloors_above                     int64\nresi_dwellings                   int64\nstudio_dwe                       int64\none_bdrm_dwe                     int64\ntwo_bdrm_dwe                     int64\nthree_bdrm_dwe                   int64\nstudent_apartments               int64\nstudent_beds                     int64\nstudent_accommodation_units      int64\ninstitutional_accom_beds         int64\nhotel_rooms                      int64\nserviced_apartments              int64\nhotels_serviced_apartments       int64\nhostel_beds                      int64\nchildcare_places                 int64\noffice_flr                       int64\nretail_flr                       int64\nindustrial_flr                   int64\nstorage_flr                      int64\neducation_flr                    int64\nhospital_flr                     int64\nrecreation_flr                   int64\npublicdispaly_flr                int64\ncommunity_flr                    int64\ncar_spaces                       int64\nbike_spaces                      int64\ntown_planning_application       object\nlongitude                      float64\nlatitude                       float64\ngeopoint                        object\ndtype: object"
     },
     "execution_count": 140,
     "metadata": {},
     "output_type": "execute_result"
    }
   ],
   "source": [
    "# display the data type of all features\n",
    "df.dtypes"
   ],
   "metadata": {
    "collapsed": false,
    "ExecuteTime": {
     "start_time": "2023-04-19T16:31:31.387048Z",
     "end_time": "2023-04-19T16:31:31.844846Z"
    }
   }
  },
  {
   "cell_type": "code",
   "execution_count": 141,
   "outputs": [
    {
     "data": {
      "text/plain": "   clue_block  property_id  floors_above  resi_dwellings  studio_dwe  \\\n0         555       595012             3              10           0   \n1         520       597179             4              33           0   \n2        1105       598590            10               0           0   \n3         775       600453             2               0           0   \n4        1109       601815            17               0           0   \n\n   one_bdrm_dwe  two_bdrm_dwe  three_bdrm_dwe  student_apartments  \\\n0             0             0               0                   0   \n1             0             0               0                   0   \n2             0             0               0                   0   \n3             0             0               0                   0   \n4             0             0               0                   0   \n\n   student_beds  ...  retail_flr  industrial_flr  storage_flr  education_flr  \\\n0             0  ...           0               0            0              0   \n1             0  ...           0               0            0              0   \n2             0  ...        4000               0            0              0   \n3             0  ...           0               0            0              0   \n4             0  ...        1560               0            0              0   \n\n   hospital_flr  recreation_flr  publicdispaly_flr  community_flr  car_spaces  \\\n0             0               0                  0              0           0   \n1             0               0                  0              0           0   \n2             0               0                  0              0           0   \n3             0               0                  0              0           0   \n4             0               0                  0              0           0   \n\n   bike_spaces  \n0            0  \n1            0  \n2            0  \n3            0  \n4            0  \n\n[5 rows x 28 columns]",
      "text/html": "<div>\n<style scoped>\n    .dataframe tbody tr th:only-of-type {\n        vertical-align: middle;\n    }\n\n    .dataframe tbody tr th {\n        vertical-align: top;\n    }\n\n    .dataframe thead th {\n        text-align: right;\n    }\n</style>\n<table border=\"1\" class=\"dataframe\">\n  <thead>\n    <tr style=\"text-align: right;\">\n      <th></th>\n      <th>clue_block</th>\n      <th>property_id</th>\n      <th>floors_above</th>\n      <th>resi_dwellings</th>\n      <th>studio_dwe</th>\n      <th>one_bdrm_dwe</th>\n      <th>two_bdrm_dwe</th>\n      <th>three_bdrm_dwe</th>\n      <th>student_apartments</th>\n      <th>student_beds</th>\n      <th>...</th>\n      <th>retail_flr</th>\n      <th>industrial_flr</th>\n      <th>storage_flr</th>\n      <th>education_flr</th>\n      <th>hospital_flr</th>\n      <th>recreation_flr</th>\n      <th>publicdispaly_flr</th>\n      <th>community_flr</th>\n      <th>car_spaces</th>\n      <th>bike_spaces</th>\n    </tr>\n  </thead>\n  <tbody>\n    <tr>\n      <th>0</th>\n      <td>555</td>\n      <td>595012</td>\n      <td>3</td>\n      <td>10</td>\n      <td>0</td>\n      <td>0</td>\n      <td>0</td>\n      <td>0</td>\n      <td>0</td>\n      <td>0</td>\n      <td>...</td>\n      <td>0</td>\n      <td>0</td>\n      <td>0</td>\n      <td>0</td>\n      <td>0</td>\n      <td>0</td>\n      <td>0</td>\n      <td>0</td>\n      <td>0</td>\n      <td>0</td>\n    </tr>\n    <tr>\n      <th>1</th>\n      <td>520</td>\n      <td>597179</td>\n      <td>4</td>\n      <td>33</td>\n      <td>0</td>\n      <td>0</td>\n      <td>0</td>\n      <td>0</td>\n      <td>0</td>\n      <td>0</td>\n      <td>...</td>\n      <td>0</td>\n      <td>0</td>\n      <td>0</td>\n      <td>0</td>\n      <td>0</td>\n      <td>0</td>\n      <td>0</td>\n      <td>0</td>\n      <td>0</td>\n      <td>0</td>\n    </tr>\n    <tr>\n      <th>2</th>\n      <td>1105</td>\n      <td>598590</td>\n      <td>10</td>\n      <td>0</td>\n      <td>0</td>\n      <td>0</td>\n      <td>0</td>\n      <td>0</td>\n      <td>0</td>\n      <td>0</td>\n      <td>...</td>\n      <td>4000</td>\n      <td>0</td>\n      <td>0</td>\n      <td>0</td>\n      <td>0</td>\n      <td>0</td>\n      <td>0</td>\n      <td>0</td>\n      <td>0</td>\n      <td>0</td>\n    </tr>\n    <tr>\n      <th>3</th>\n      <td>775</td>\n      <td>600453</td>\n      <td>2</td>\n      <td>0</td>\n      <td>0</td>\n      <td>0</td>\n      <td>0</td>\n      <td>0</td>\n      <td>0</td>\n      <td>0</td>\n      <td>...</td>\n      <td>0</td>\n      <td>0</td>\n      <td>0</td>\n      <td>0</td>\n      <td>0</td>\n      <td>0</td>\n      <td>0</td>\n      <td>0</td>\n      <td>0</td>\n      <td>0</td>\n    </tr>\n    <tr>\n      <th>4</th>\n      <td>1109</td>\n      <td>601815</td>\n      <td>17</td>\n      <td>0</td>\n      <td>0</td>\n      <td>0</td>\n      <td>0</td>\n      <td>0</td>\n      <td>0</td>\n      <td>0</td>\n      <td>...</td>\n      <td>1560</td>\n      <td>0</td>\n      <td>0</td>\n      <td>0</td>\n      <td>0</td>\n      <td>0</td>\n      <td>0</td>\n      <td>0</td>\n      <td>0</td>\n      <td>0</td>\n    </tr>\n  </tbody>\n</table>\n<p>5 rows × 28 columns</p>\n</div>"
     },
     "execution_count": 141,
     "metadata": {},
     "output_type": "execute_result"
    }
   ],
   "source": [
    "# filter out the features that are integer\n",
    "df_int = df.select_dtypes(include=['int64'])\n",
    "df_int.head() # display the first 5 rows of the dataframe"
   ],
   "metadata": {
    "collapsed": false,
    "ExecuteTime": {
     "start_time": "2023-04-19T16:31:31.391038Z",
     "end_time": "2023-04-19T16:31:31.854826Z"
    }
   }
  },
  {
   "cell_type": "code",
   "execution_count": 142,
   "outputs": [
    {
     "data": {
      "text/plain": "clue_block                        431.5\nproperty_id                    109015.0\nfloors_above                        8.0\nresi_dwellings                      3.0\nstudio_dwe                          0.0\none_bdrm_dwe                        0.0\ntwo_bdrm_dwe                        0.0\nthree_bdrm_dwe                      0.0\nstudent_apartments                  0.0\nstudent_beds                        0.0\nstudent_accommodation_units         0.0\ninstitutional_accom_beds            0.0\nhotel_rooms                         0.0\nserviced_apartments                 0.0\nhotels_serviced_apartments          0.0\nhostel_beds                         0.0\nchildcare_places                    0.0\noffice_flr                          0.0\nretail_flr                          0.0\nindustrial_flr                      0.0\nstorage_flr                         0.0\neducation_flr                       0.0\nhospital_flr                        0.0\nrecreation_flr                      0.0\npublicdispaly_flr                   0.0\ncommunity_flr                       0.0\ncar_spaces                          0.0\nbike_spaces                         0.0\ndtype: float64"
     },
     "execution_count": 142,
     "metadata": {},
     "output_type": "execute_result"
    }
   ],
   "source": [
    "# print out the median of each feature in df_int\n",
    "df_int.median() # print out the median of each feature in df_int"
   ],
   "metadata": {
    "collapsed": false,
    "ExecuteTime": {
     "start_time": "2023-04-19T16:31:31.405000Z",
     "end_time": "2023-04-19T16:31:31.856820Z"
    }
   }
  },
  {
   "cell_type": "code",
   "execution_count": 143,
   "outputs": [
    {
     "data": {
      "text/plain": "0       962\n500       7\n1000      3\n65        3\n471       3\n       ... \n1200      1\n617       1\n3923      1\n214       1\n2704      1\nName: office_flr, Length: 436, dtype: int64"
     },
     "execution_count": 143,
     "metadata": {},
     "output_type": "execute_result"
    }
   ],
   "source": [
    "# value_counts()\n",
    "df['office_flr'].value_counts()"
   ],
   "metadata": {
    "collapsed": false,
    "ExecuteTime": {
     "start_time": "2023-04-19T16:31:31.413976Z",
     "end_time": "2023-04-19T16:31:31.856820Z"
    }
   }
  },
  {
   "cell_type": "code",
   "execution_count": 144,
   "outputs": [
    {
     "data": {
      "text/plain": "0.0"
     },
     "execution_count": 144,
     "metadata": {},
     "output_type": "execute_result"
    }
   ],
   "source": [
    "# print the median of the office_flr feature\n",
    "df['office_flr'].median()"
   ],
   "metadata": {
    "collapsed": false,
    "ExecuteTime": {
     "start_time": "2023-04-19T16:31:31.416986Z",
     "end_time": "2023-04-19T16:31:31.859815Z"
    }
   }
  },
  {
   "cell_type": "markdown",
   "source": [
    "3. Print all the possible values of the \"status\" feature and calculate the ratio of each \"status\" value in the dataset"
   ],
   "metadata": {
    "collapsed": false
   }
  },
  {
   "cell_type": "code",
   "execution_count": 145,
   "outputs": [
    {
     "data": {
      "text/plain": "array(['COMPLETED', 'APPLIED', 'APPROVED', 'UNDER CONSTRUCTION'],\n      dtype=object)"
     },
     "execution_count": 145,
     "metadata": {},
     "output_type": "execute_result"
    }
   ],
   "source": [
    "# print all the possible values of the \"status\" feature\n",
    "df['status'].unique()"
   ],
   "metadata": {
    "collapsed": false,
    "ExecuteTime": {
     "start_time": "2023-04-19T16:31:31.422952Z",
     "end_time": "2023-04-19T16:31:31.859815Z"
    }
   }
  },
  {
   "cell_type": "code",
   "execution_count": 146,
   "outputs": [
    {
     "data": {
      "text/plain": "4"
     },
     "execution_count": 146,
     "metadata": {},
     "output_type": "execute_result"
    }
   ],
   "source": [
    "# print the number of unique values of the \"status\" feature\n",
    "df['status'].nunique()"
   ],
   "metadata": {
    "collapsed": false,
    "ExecuteTime": {
     "start_time": "2023-04-19T16:31:31.426942Z",
     "end_time": "2023-04-19T16:31:31.859815Z"
    }
   }
  },
  {
   "cell_type": "code",
   "execution_count": 147,
   "outputs": [
    {
     "data": {
      "text/plain": "COMPLETED             0.700699\nAPPROVED              0.174825\nAPPLIED               0.065035\nUNDER CONSTRUCTION    0.059441\nName: status, dtype: float64"
     },
     "execution_count": 147,
     "metadata": {},
     "output_type": "execute_result"
    }
   ],
   "source": [
    "# calculate the ratio of each \"status\" value\n",
    "df['status'].value_counts(normalize=True)"
   ],
   "metadata": {
    "collapsed": false,
    "ExecuteTime": {
     "start_time": "2023-04-19T16:31:31.431956Z",
     "end_time": "2023-04-19T16:31:31.860784Z"
    }
   }
  },
  {
   "cell_type": "markdown",
   "source": [
    "4. Checking for association between categorical variables"
   ],
   "metadata": {
    "collapsed": false
   }
  },
  {
   "cell_type": "code",
   "execution_count": 148,
   "outputs": [
    {
     "name": "stdout",
     "output_type": "stream",
     "text": [
      "data_format                     object\n",
      "development_key                 object\n",
      "status                          object\n",
      "year_completed                 float64\n",
      "clue_small_area                 object\n",
      "clue_block                       int64\n",
      "street_address                  object\n",
      "property_id                      int64\n",
      "property_id_2                  float64\n",
      "property_id_3                  float64\n",
      "property_id_4                  float64\n",
      "property_id_5                  float64\n",
      "floors_above                     int64\n",
      "resi_dwellings                   int64\n",
      "studio_dwe                       int64\n",
      "one_bdrm_dwe                     int64\n",
      "two_bdrm_dwe                     int64\n",
      "three_bdrm_dwe                   int64\n",
      "student_apartments               int64\n",
      "student_beds                     int64\n",
      "student_accommodation_units      int64\n",
      "institutional_accom_beds         int64\n",
      "hotel_rooms                      int64\n",
      "serviced_apartments              int64\n",
      "hotels_serviced_apartments       int64\n",
      "hostel_beds                      int64\n",
      "childcare_places                 int64\n",
      "office_flr                       int64\n",
      "retail_flr                       int64\n",
      "industrial_flr                   int64\n",
      "storage_flr                      int64\n",
      "education_flr                    int64\n",
      "hospital_flr                     int64\n",
      "recreation_flr                   int64\n",
      "publicdispaly_flr                int64\n",
      "community_flr                    int64\n",
      "car_spaces                       int64\n",
      "bike_spaces                      int64\n",
      "town_planning_application       object\n",
      "longitude                      float64\n",
      "latitude                       float64\n",
      "geopoint                        object\n",
      "dtype: object\n"
     ]
    }
   ],
   "source": [
    "from scipy.stats import pointbiserialr, f_oneway\n",
    "\n",
    "print(df.dtypes)"
   ],
   "metadata": {
    "collapsed": false,
    "ExecuteTime": {
     "start_time": "2023-04-19T16:31:31.437912Z",
     "end_time": "2023-04-19T16:31:31.870783Z"
    }
   }
  },
  {
   "cell_type": "code",
   "execution_count": null,
   "outputs": [
    {
     "name": "stdout",
     "output_type": "stream",
     "text": [
      "Point-biserial correlation: 0.03790122580178625, p-value: 0.15199816878963274\n",
      "ANOVA F-value: 53.75469720631906, p-value: 1.6925461254267516e-106\n",
      "Point-biserial correlation: 0.03790122580178625, p-value: 0.15199816878963274\n",
      "ANOVA F-value: 53.75469720631906, p-value: 1.6925461254267516e-106\n"
     ]
    }
   ],
   "source": [
    "# If \"clue_small_area\" is not a categorical variable, convert it to one\n",
    "if not pd.api.types.is_categorical_dtype(df[\"clue_small_area\"]):\n",
    "    df[\"clue_small_area\"] = df[\"clue_small_area\"].astype(\"category\")\n",
    "\n",
    "# Point-biserial correlation\n",
    "corr, p_value = pointbiserialr(df[\"clue_small_area\"].cat.codes, df[\"floors_above\"])\n",
    "print(f\"Point-biserial correlation: {corr}, p-value: {p_value}\")\n",
    "\n",
    "# One-way ANOVA\n",
    "anova_result = f_oneway(*(df[\"floors_above\"][df[\"clue_small_area\"] == cat] for cat in df[\"clue_small_area\"].cat.categories))\n",
    "print(f\"ANOVA F-value: {anova_result.statistic}, p-value: {anova_result.pvalue}\")\n"
   ],
   "metadata": {
    "collapsed": false,
    "ExecuteTime": {
     "start_time": "2023-04-19T16:17:21.327021Z",
     "end_time": "2023-04-19T16:17:21.732934Z"
    },
    "pycharm": {
     "is_executing": true
    }
   }
  },
  {
   "cell_type": "markdown",
   "source": [
    "Point-biserial correlation: The correlation value is 0.0379, which is very close to 0, indicating a very weak linear relationship between the two variables. The p-value is 0.152, which is greater than the commonly used significance level of 0.05. This means that there is not enough evidence to conclude that there is a significant linear relationship between \"clue_small_area\" and \"floors_above\".\n",
    "\n",
    "One-way ANOVA: The F-value is 53.75, and the p-value is 1.69e-106, which is much smaller than the commonly used significance level of 0.05. This means that there is a statistically significant difference in the mean values of \"floors_above\" across the different categories of \"clue_small_area\". In other words, the number of floors above ground is not the same for all categories of \"clue_small_area\"."
   ],
   "metadata": {
    "collapsed": false
   }
  },
  {
   "cell_type": "code",
   "execution_count": null,
   "outputs": [],
   "source": [
    "# convert clue_small_area to a categorical variable\n",
    "df['clue_small_area'] = df['clue_small_area'].astype('category')"
   ],
   "metadata": {
    "collapsed": false,
    "ExecuteTime": {
     "start_time": "2023-04-19T16:17:21.339986Z",
     "end_time": "2023-04-19T16:17:21.732934Z"
    },
    "pycharm": {
     "is_executing": true
    }
   }
  },
  {
   "cell_type": "code",
   "execution_count": null,
   "outputs": [],
   "source": [
    "# check the type of clue_small_area\n",
    "df['clue_small_area'].dtype"
   ],
   "metadata": {
    "collapsed": false,
    "ExecuteTime": {
     "start_time": "2023-04-19T16:17:21.350955Z",
     "end_time": "2023-04-19T16:17:21.736924Z"
    },
    "pycharm": {
     "is_executing": true
    }
   }
  },
  {
   "cell_type": "code",
   "execution_count": null,
   "outputs": [
    {
     "data": {
      "text/plain": "<Figure size 640x480 with 1 Axes>",
      "image/png": "[encoded data removed]"
     },
     "metadata": {},
     "output_type": "display_data"
    }
   ],
   "source": [
    "# visualise\n",
    "import seaborn as sns\n",
    "import matplotlib.pyplot as plt\n",
    "\n",
    "# Create a new dataframe with the median floors_above value for each category\n",
    "data = df.groupby('clue_small_area')['floors_above'].median().reset_index()\n",
    "# Sort the categories based on median value\n",
    "sorted_categories = data.sort_values(by='floors_above')['clue_small_area']\n",
    "# Use the sorted categories in the boxplot\n",
    "sns.boxplot(x='clue_small_area', y='floors_above', data=df, order=sorted_categories)\n",
    "plt.xticks(rotation=90) # rotate x-axis labels if needed\n",
    "plt.xlabel('CLUE Small Area')\n",
    "plt.ylabel('Floors Above')\n",
    "plt.title('Distribution of floors above by CLUE small area')\n",
    "plt.show()"
   ],
   "metadata": {
    "collapsed": false,
    "ExecuteTime": {
     "start_time": "2023-04-19T16:17:21.360929Z",
     "end_time": "2023-04-19T16:17:21.817708Z"
    },
    "pycharm": {
     "is_executing": true
    }
   }
  },
  {
   "cell_type": "code",
   "execution_count": null,
   "outputs": [
    {
     "name": "stdout",
     "output_type": "stream",
     "text": [
      "Eta squared: 0.03654905696267737\n"
     ]
    }
   ],
   "source": [
    "# eta squared (effect size)\n",
    "# the higher the eta squared value, the stronger the association between the two variables\n",
    "def eta_squared(anova_result):\n",
    "    return anova_result.statistic / (anova_result.statistic + (df.shape[0] - len(df[\"clue_small_area\"].cat.categories)))\n",
    "\n",
    "print(f\"Eta squared: {eta_squared(anova_result)}\")\n"
   ],
   "metadata": {
    "collapsed": false,
    "ExecuteTime": {
     "start_time": "2023-04-19T16:17:21.610262Z",
     "end_time": "2023-04-19T16:17:21.817708Z"
    },
    "pycharm": {
     "is_executing": true
    }
   }
  },
  {
   "cell_type": "markdown",
   "source": [
    "This means that 3.65% of the variance in \"floors_above\" can be explained by \"clue_small_area\". This is a very small effect size, indicating a very weak association between the two variables. However, The one-way ANOVA result (F-value: 53.75, p-value: 1.69e-106) indicated that the association is statistically significant. This means that while the association is statistically significant, the strength of the relationship is not very strong."
   ],
   "metadata": {
    "collapsed": false
   }
  },
  {
   "cell_type": "code",
   "execution_count": null,
   "outputs": [
    {
     "name": "stdout",
     "output_type": "stream",
     "text": [
      "                       Multiple Comparison of Means - Tukey HSD, FWER=0.05                       \n",
      "=================================================================================================\n",
      "           group1                      group2            meandiff p-adj   lower    upper   reject\n",
      "-------------------------------------------------------------------------------------------------\n",
      "                    Carlton                    Docklands   5.8874 0.0055   0.9356  10.8391   True\n",
      "                    Carlton               East Melbourne  -1.8745 0.9999  -9.7173   5.9682  False\n",
      "                    Carlton                   Kensington  -4.9143 0.2779 -11.0538   1.2252  False\n",
      "                    Carlton              Melbourne (CBD)  13.7475    0.0   9.2439   18.251   True\n",
      "                    Carlton        Melbourne (Remainder)  -0.4294    1.0 -10.4492   9.5905  False\n",
      "                    Carlton              North Melbourne  -2.9275 0.7711  -7.9337   2.0787  False\n",
      "                    Carlton                    Parkville  -4.4522 0.6218 -11.2966   2.3922  False\n",
      "                    Carlton               Port Melbourne  -3.6786 0.7742  -9.9858   2.6287  False\n",
      "                    Carlton                  South Yarra  -6.3805 0.8487 -18.1281   5.3672  False\n",
      "                    Carlton                    Southbank  23.1475    0.0   17.745    28.55   True\n",
      "                    Carlton  West Melbourne (Industrial)  -5.3507 0.8932 -15.7711   5.0697  False\n",
      "                    Carlton West Melbourne (Residential)  -0.8838    1.0  -6.5344   4.7668  False\n",
      "                  Docklands               East Melbourne  -7.7619 0.0379 -15.3226  -0.2012   True\n",
      "                  Docklands                   Kensington -10.8017    0.0 -16.5765  -5.0268   True\n",
      "                  Docklands              Melbourne (CBD)   7.8601    0.0   3.8679  11.8523   True\n",
      "                  Docklands        Melbourne (Remainder)  -6.3168 0.6362 -16.1174   3.4839  False\n",
      "                  Docklands              North Melbourne  -8.8149    0.0 -13.3666  -4.2632   True\n",
      "                  Docklands                    Parkville -10.3396    0.0 -16.8589  -3.8203   True\n",
      "                  Docklands               Port Melbourne  -9.5659    0.0 -15.5188  -3.6131   True\n",
      "                  Docklands                  South Yarra -12.2679  0.026 -23.8291  -0.7066   True\n",
      "                  Docklands                    Southbank  17.2601    0.0  12.2759  22.2444   True\n",
      "                  Docklands  West Melbourne (Industrial) -11.2381 0.0165 -21.4479  -1.0283   True\n",
      "                  Docklands West Melbourne (Residential)  -6.7712 0.0014 -12.0233   -1.519   True\n",
      "             East Melbourne                   Kensington  -3.0398 0.9929 -11.4265    5.347  False\n",
      "             East Melbourne              Melbourne (CBD)   15.622    0.0    8.347   22.897   True\n",
      "             East Melbourne        Melbourne (Remainder)   1.4451    1.0 -10.0892  12.9795  False\n",
      "             East Melbourne              North Melbourne   -1.053    1.0  -8.6495   6.5435  False\n",
      "             East Melbourne                    Parkville  -2.5777 0.9992 -11.4934    6.338  False\n",
      "             East Melbourne               Port Melbourne   -1.804    1.0 -10.3143   6.7063  False\n",
      "             East Melbourne                  South Yarra   -4.506 0.9955 -17.5693   8.5574  False\n",
      "             East Melbourne                    Southbank   25.022    0.0  17.1587  32.8853   True\n",
      "             East Melbourne  West Melbourne (Industrial)  -3.4762 0.9991 -15.3602   8.4078  False\n",
      "             East Melbourne West Melbourne (Residential)   0.9907    1.0   -7.045   9.0265  False\n",
      "                 Kensington              Melbourne (CBD)  18.6618    0.0  13.2663  24.0572   True\n",
      "                 Kensington        Melbourne (Remainder)   4.4849 0.9707  -5.9662  14.9361  False\n",
      "                 Kensington              North Melbourne   1.9868 0.9959  -3.8348   7.8084  False\n",
      "                 Kensington                    Parkville   0.4621    1.0  -6.9994   7.9236  False\n",
      "                 Kensington               Port Melbourne   1.2357    1.0  -5.7363   8.2078  False\n",
      "                 Kensington                  South Yarra  -1.4662    1.0 -13.5838  10.6514  False\n",
      "                 Kensington                    Southbank  28.0618    0.0  21.8961  34.2276   True\n",
      "                 Kensington  West Melbourne (Industrial)  -0.4364    1.0 -11.2722  10.3993  False\n",
      "                 Kensington West Melbourne (Residential)   4.0305 0.6677  -2.3537  10.4148  False\n",
      "            Melbourne (CBD)        Melbourne (Remainder) -14.1769 0.0001 -23.7589  -4.5949   True\n",
      "            Melbourne (CBD)              North Melbourne  -16.675    0.0 -20.7345 -12.6155   True\n",
      "            Melbourne (CBD)                    Parkville -18.1997    0.0 -24.3854  -12.014   True\n",
      "            Melbourne (CBD)               Port Melbourne  -17.426    0.0 -23.0116 -11.8405   True\n",
      "            Melbourne (CBD)                  South Yarra  -20.128    0.0 -31.5045  -8.7515   True\n",
      "            Melbourne (CBD)                    Southbank      9.4    0.0   4.8608  13.9393   True\n",
      "            Melbourne (CBD)  West Melbourne (Industrial) -19.0982    0.0 -29.0983  -9.0981   True\n",
      "            Melbourne (CBD) West Melbourne (Residential) -14.6313    0.0 -19.4632  -9.7994   True\n",
      "      Melbourne (Remainder)              North Melbourne  -2.4981 0.9998 -12.3264   7.3302  False\n",
      "      Melbourne (Remainder)                    Parkville  -4.0228 0.9916  -14.903   6.8574  False\n",
      "      Melbourne (Remainder)               Port Melbourne  -3.2492 0.9985 -13.7997   7.3014  False\n",
      "      Melbourne (Remainder)                  South Yarra  -5.9511 0.9792 -20.4266   8.5244  False\n",
      "      Melbourne (Remainder)                    Southbank  23.5769    0.0  13.5409  33.6129   True\n",
      "      Melbourne (Remainder)  West Melbourne (Industrial)  -4.9213 0.9922 -18.3421   8.4995  False\n",
      "      Melbourne (Remainder) West Melbourne (Residential)  -0.4544    1.0 -10.6261   9.7173  False\n",
      "            North Melbourne                    Parkville  -1.5247 0.9999  -8.0854   5.0361  False\n",
      "            North Melbourne               Port Melbourne   -0.751    1.0  -6.7493   5.2472  False\n",
      "            North Melbourne                  South Yarra   -3.453 0.9989 -15.0377   8.1317  False\n",
      "            North Melbourne                    Southbank   26.075    0.0  21.0366  31.1134   True\n",
      "            North Melbourne  West Melbourne (Industrial)  -2.4232 0.9999 -12.6595   7.8131  False\n",
      "            North Melbourne West Melbourne (Residential)   2.0437 0.9879  -3.2598   7.3473  False\n",
      "                  Parkville               Port Melbourne   0.7736    1.0  -6.8265   8.3738  False\n",
      "                  Parkville                  South Yarra  -1.9283    1.0 -14.4178  10.5613  False\n",
      "                  Parkville                    Southbank  27.5997    0.0  20.7318  34.4676   True\n",
      "                  Parkville  West Melbourne (Industrial)  -0.8985    1.0 -12.1487  10.3516  False\n",
      "                  Parkville West Melbourne (Residential)   3.5684 0.9041  -3.4963  10.6331  False\n",
      "             Port Melbourne                  South Yarra  -2.7019 0.9999 -14.9054   9.5015  False\n",
      "             Port Melbourne                    Southbank  26.8261    0.0  20.4933  33.1588   True\n",
      "             Port Melbourne  West Melbourne (Industrial)  -1.6722    1.0 -12.6038   9.2595  False\n",
      "             Port Melbourne West Melbourne (Residential)   2.7948 0.9718  -3.7509   9.3405  False\n",
      "                South Yarra                    Southbank   29.528    0.0  17.7666  41.2894   True\n",
      "                South Yarra  West Melbourne (Industrial)   1.0298    1.0 -13.7258  15.7854  False\n",
      "                South Yarra West Melbourne (Residential)   5.4967 0.9479  -6.3807  17.3741  False\n",
      "                  Southbank  West Melbourne (Industrial) -28.4982    0.0 -38.9341 -18.0623   True\n",
      "                  Southbank West Melbourne (Residential) -24.0313    0.0 -29.7104 -18.3522   True\n",
      "West Melbourne (Industrial) West Melbourne (Residential)   4.4669  0.974  -6.0995  15.0334  False\n",
      "-------------------------------------------------------------------------------------------------\n"
     ]
    }
   ],
   "source": [
    "# post hoc test (Tukey's HSD)\n",
    "from statsmodels.stats.multicomp import pairwise_tukeyhsd\n",
    "\n",
    "tukey_result = pairwise_tukeyhsd(df['floors_above'], df['clue_small_area'], alpha=0.05)\n",
    "print(tukey_result)"
   ],
   "metadata": {
    "collapsed": false,
    "ExecuteTime": {
     "start_time": "2023-04-19T16:17:21.616246Z",
     "end_time": "2023-04-19T16:17:23.298749Z"
    },
    "pycharm": {
     "is_executing": true
    }
   }
  },
  {
   "cell_type": "markdown",
   "source": [
    "5. Print the number of properties for different suburbs and report the pattern found in the results"
   ],
   "metadata": {
    "collapsed": false
   }
  },
  {
   "cell_type": "code",
   "execution_count": null,
   "outputs": [
    {
     "name": "stdout",
     "output_type": "stream",
     "text": [
      "Melbourne (CBD)                 338\n",
      "Docklands                       196\n",
      "North Melbourne                 186\n",
      "Carlton                         137\n",
      "Southbank                       134\n",
      "West Melbourne (Residential)    113\n",
      "Kensington                       85\n",
      "Port Melbourne                   78\n",
      "Parkville                        61\n",
      "East Melbourne                   42\n",
      "Melbourne (Remainder)            23\n",
      "West Melbourne (Industrial)      21\n",
      "South Yarra                      16\n",
      "Name: clue_small_area, dtype: int64\n"
     ]
    }
   ],
   "source": [
    "# print the number of properties for different suburbs\n",
    "property_counts = df['clue_small_area'].value_counts()\n",
    "print(property_counts)"
   ],
   "metadata": {
    "collapsed": false,
    "ExecuteTime": {
     "start_time": "2023-04-19T16:17:23.299747Z",
     "end_time": "2023-04-19T16:17:23.304733Z"
    },
    "pycharm": {
     "is_executing": true
    }
   }
  },
  {
   "cell_type": "code",
   "execution_count": null,
   "outputs": [
    {
     "data": {
      "text/plain": "<Figure size 640x480 with 1 Axes>",
      "image/png": "[encoded data removed]"
     },
     "metadata": {},
     "output_type": "display_data"
    }
   ],
   "source": [
    "# plot the number of properties for different suburbs\n",
    "property_counts.plot(kind='bar') # plot a bar chart\n",
    "plt.xlabel('Suburb') # set the x-axis label\n",
    "plt.ylabel('Number of Properties') # set the y-axis label\n",
    "plt.title('Number of Properties by Suburb') # set the title\n",
    "plt.show() # display the plot"
   ],
   "metadata": {
    "collapsed": false,
    "ExecuteTime": {
     "start_time": "2023-04-19T16:17:23.304733Z",
     "end_time": "2023-04-19T16:17:23.505239Z"
    },
    "pycharm": {
     "is_executing": true
    }
   }
  },
  {
   "cell_type": "markdown",
   "source": [
    "Analysis on the results:\n",
    "- the dataset reveals a pattern of properties being more concentrated in Melbourne (CBD), Docklands, and North Melbourne. There's a gradual decrease in property counts as we move down the list, with South Yarra having the fewest properties."
   ],
   "metadata": {
    "collapsed": false
   }
  },
  {
   "cell_type": "markdown",
   "source": [
    "6. Which suburb has the smallest number of properties which are under construction?"
   ],
   "metadata": {
    "collapsed": false
   }
  },
  {
   "cell_type": "code",
   "execution_count": null,
   "outputs": [],
   "source": [
    "# filter out the properties that are under construction\n",
    "df_under_construction = df[df['status'] == 'UNDER CONSTRUCTION'] # this must be in caps for the filter to work"
   ],
   "metadata": {
    "collapsed": false,
    "ExecuteTime": {
     "start_time": "2023-04-19T16:17:23.507192Z",
     "end_time": "2023-04-19T16:17:23.511211Z"
    },
    "pycharm": {
     "is_executing": true
    }
   }
  },
  {
   "cell_type": "code",
   "execution_count": null,
   "outputs": [
    {
     "data": {
      "text/plain": "Melbourne (CBD)                 22\nNorth Melbourne                 17\nWest Melbourne (Residential)     9\nDocklands                        8\nKensington                       7\nSouthbank                        6\nCarlton                          4\nEast Melbourne                   4\nMelbourne (Remainder)            4\nParkville                        2\nSouth Yarra                      1\nWest Melbourne (Industrial)      1\nPort Melbourne                   0\nName: clue_small_area, dtype: int64"
     },
     "execution_count": 158,
     "metadata": {},
     "output_type": "execute_result"
    }
   ],
   "source": [
    "# print the number of properties for different suburbs that are under construction\n",
    "df_under_construction['clue_small_area'].value_counts()"
   ],
   "metadata": {
    "collapsed": false,
    "ExecuteTime": {
     "start_time": "2023-04-19T16:17:23.513178Z",
     "end_time": "2023-04-19T16:17:23.518194Z"
    },
    "pycharm": {
     "is_executing": true
    }
   }
  },
  {
   "cell_type": "code",
   "execution_count": null,
   "outputs": [
    {
     "data": {
      "text/plain": "<Figure size 640x480 with 1 Axes>",
      "image/png": "[encoded data removed]"
     },
     "metadata": {},
     "output_type": "display_data"
    }
   ],
   "source": [
    "# plot the number of properties for different suburbs that are under construction (bar chart)\n",
    "df_under_construction['clue_small_area'].value_counts().plot(kind='bar')\n",
    "plt.xlabel('Suburb') # set the x-axis label\n",
    "plt.ylabel('Number of Properties') # set the y-axis label\n",
    "plt.title('Number of Properties \"UNDER CONSTRUCTION\" by Suburb') # set the title\n",
    "plt.show() # display the plot"
   ],
   "metadata": {
    "collapsed": false,
    "ExecuteTime": {
     "start_time": "2023-04-19T16:17:23.520157Z",
     "end_time": "2023-04-19T16:17:23.710659Z"
    },
    "pycharm": {
     "is_executing": true
    }
   }
  },
  {
   "cell_type": "code",
   "execution_count": null,
   "outputs": [
    {
     "name": "stdout",
     "output_type": "stream",
     "text": [
      "Suburb with only 1 property under construction:\n",
      "South Yarra\n",
      "West Melbourne (Industrial)\n"
     ]
    }
   ],
   "source": [
    "# go through the list of suburbs and print the one which has the smallest number of properties under construction\n",
    "# (i.e. the first one that has a count of 1)\n",
    "print(\"Suburb with only 1 property under construction:\")\n",
    "for suburb, count in df_under_construction['clue_small_area'].value_counts().items():\n",
    "    if count == 1:\n",
    "        print(suburb)"
   ],
   "metadata": {
    "collapsed": false,
    "ExecuteTime": {
     "start_time": "2023-04-19T16:17:23.712643Z",
     "end_time": "2023-04-19T16:17:23.716654Z"
    },
    "pycharm": {
     "is_executing": true
    }
   }
  },
  {
   "cell_type": "code",
   "execution_count": null,
   "outputs": [
    {
     "name": "stdout",
     "output_type": "stream",
     "text": [
      "Suburb with 0 properties under construction:\n",
      "Port Melbourne\n"
     ]
    }
   ],
   "source": [
    "# print the one which has a value of 0 for number of properties under construction\n",
    "# (i.e. the first one that has a count of 0)\n",
    "print(\"Suburb with 0 properties under construction:\")\n",
    "for suburb, count in df_under_construction['clue_small_area'].value_counts().items():\n",
    "    if count == 0:\n",
    "        print(suburb)\n",
    "        break"
   ],
   "metadata": {
    "collapsed": false,
    "ExecuteTime": {
     "start_time": "2023-04-19T16:17:23.719624Z",
     "end_time": "2023-04-19T16:17:23.722616Z"
    },
    "pycharm": {
     "is_executing": true
    }
   }
  },
  {
   "cell_type": "markdown",
   "source": [
    "7. Which suburb has the biggest number of hotel rooms?"
   ],
   "metadata": {
    "collapsed": false
   }
  },
  {
   "cell_type": "code",
   "execution_count": null,
   "outputs": [],
   "source": [
    "# filter out the suburbs that have hotel rooms\n",
    "df_hotel_rooms = df[df['hotel_rooms'] > 0]"
   ],
   "metadata": {
    "collapsed": false,
    "ExecuteTime": {
     "start_time": "2023-04-19T16:17:23.724611Z",
     "end_time": "2023-04-19T16:17:23.728600Z"
    },
    "pycharm": {
     "is_executing": true
    }
   }
  },
  {
   "cell_type": "code",
   "execution_count": null,
   "outputs": [
    {
     "data": {
      "text/plain": "Melbourne (CBD)                 52\nSouthbank                       26\nWest Melbourne (Residential)     9\nDocklands                        8\nNorth Melbourne                  6\nCarlton                          2\nEast Melbourne                   2\nMelbourne (Remainder)            2\nParkville                        1\nWest Melbourne (Industrial)      1\nKensington                       0\nPort Melbourne                   0\nSouth Yarra                      0\nName: clue_small_area, dtype: int64"
     },
     "execution_count": 163,
     "metadata": {},
     "output_type": "execute_result"
    }
   ],
   "source": [
    "# print the number of hotel rooms for different suburbs\n",
    "df_hotel_rooms['clue_small_area'].value_counts()"
   ],
   "metadata": {
    "collapsed": false,
    "ExecuteTime": {
     "start_time": "2023-04-19T16:17:23.729598Z",
     "end_time": "2023-04-19T16:17:23.813373Z"
    },
    "pycharm": {
     "is_executing": true
    }
   }
  },
  {
   "cell_type": "code",
   "execution_count": null,
   "outputs": [
    {
     "data": {
      "text/plain": "<Figure size 640x480 with 1 Axes>",
      "image/png": "[encoded data removed]"
     },
     "metadata": {},
     "output_type": "display_data"
    }
   ],
   "source": [
    "# plot the number of hotel rooms for different suburbs (bar chart)\n",
    "df_hotel_rooms['clue_small_area'].value_counts().plot(kind='bar')\n",
    "plt.xlabel('Suburb') # set the x-axis label\n",
    "plt.ylabel('Number of Hotel Rooms') # set the y-axis label\n",
    "plt.title('Number of Hotel Rooms by Suburb') # set the title\n",
    "plt.show() # display the plot"
   ],
   "metadata": {
    "collapsed": false,
    "ExecuteTime": {
     "start_time": "2023-04-19T16:17:23.750542Z",
     "end_time": "2023-04-19T16:17:23.925075Z"
    },
    "pycharm": {
     "is_executing": true
    }
   }
  },
  {
   "cell_type": "code",
   "execution_count": null,
   "outputs": [
    {
     "name": "stdout",
     "output_type": "stream",
     "text": [
      "Suburb with the biggest number of hotel rooms:\n",
      "Melbourne (CBD)\n"
     ]
    }
   ],
   "source": [
    "# print the suburb with the biggest number of hotel rooms\n",
    "print(\"Suburb with the biggest number of hotel rooms:\")\n",
    "print(df_hotel_rooms['clue_small_area'].value_counts().idxmax())"
   ],
   "metadata": {
    "collapsed": false,
    "ExecuteTime": {
     "start_time": "2023-04-19T16:17:23.927071Z",
     "end_time": "2023-04-19T16:17:23.931081Z"
    },
    "pycharm": {
     "is_executing": true
    }
   }
  },
  {
   "cell_type": "code",
   "execution_count": null,
   "outputs": [
    {
     "name": "stdout",
     "output_type": "stream",
     "text": [
      "Number of hotel rooms:\n",
      "52\n"
     ]
    }
   ],
   "source": [
    "# print the value of the biggest number of hotel rooms\n",
    "print(\"Number of hotel rooms:\")\n",
    "print(df_hotel_rooms['clue_small_area'].value_counts().max())"
   ],
   "metadata": {
    "collapsed": false,
    "ExecuteTime": {
     "start_time": "2023-04-19T16:17:23.934050Z",
     "end_time": "2023-04-19T16:17:23.937044Z"
    },
    "pycharm": {
     "is_executing": true
    }
   }
  },
  {
   "cell_type": "markdown",
   "source": [
    "8. Create and print a data frame of the number of different status values for different year groups (based on a 5 years interval)"
   ],
   "metadata": {
    "collapsed": false
   }
  },
  {
   "cell_type": "code",
   "execution_count": 167,
   "outputs": [],
   "source": [
    "# create a data frame for all the different status values\n",
    "df_status = df['status'].value_counts().reset_index()"
   ],
   "metadata": {
    "collapsed": false,
    "ExecuteTime": {
     "start_time": "2023-04-19T16:31:34.014026Z",
     "end_time": "2023-04-19T16:31:34.091818Z"
    }
   }
  },
  {
   "cell_type": "code",
   "execution_count": 168,
   "outputs": [
    {
     "data": {
      "text/plain": "                index  status\n0           COMPLETED    1002\n1            APPROVED     250\n2             APPLIED      93\n3  UNDER CONSTRUCTION      85",
      "text/html": "<div>\n<style scoped>\n    .dataframe tbody tr th:only-of-type {\n        vertical-align: middle;\n    }\n\n    .dataframe tbody tr th {\n        vertical-align: top;\n    }\n\n    .dataframe thead th {\n        text-align: right;\n    }\n</style>\n<table border=\"1\" class=\"dataframe\">\n  <thead>\n    <tr style=\"text-align: right;\">\n      <th></th>\n      <th>index</th>\n      <th>status</th>\n    </tr>\n  </thead>\n  <tbody>\n    <tr>\n      <th>0</th>\n      <td>COMPLETED</td>\n      <td>1002</td>\n    </tr>\n    <tr>\n      <th>1</th>\n      <td>APPROVED</td>\n      <td>250</td>\n    </tr>\n    <tr>\n      <th>2</th>\n      <td>APPLIED</td>\n      <td>93</td>\n    </tr>\n    <tr>\n      <th>3</th>\n      <td>UNDER CONSTRUCTION</td>\n      <td>85</td>\n    </tr>\n  </tbody>\n</table>\n</div>"
     },
     "execution_count": 168,
     "metadata": {},
     "output_type": "execute_result"
    }
   ],
   "source": [
    "# print the data frame\n",
    "df_status"
   ],
   "metadata": {
    "collapsed": false,
    "ExecuteTime": {
     "start_time": "2023-04-19T16:31:34.022005Z",
     "end_time": "2023-04-19T16:31:34.091818Z"
    }
   }
  },
  {
   "cell_type": "code",
   "execution_count": 169,
   "outputs": [
    {
     "data": {
      "text/plain": "Index(['data_format', 'development_key', 'status', 'year_completed',\n       'clue_small_area', 'clue_block', 'street_address', 'property_id',\n       'property_id_2', 'property_id_3', 'property_id_4', 'property_id_5',\n       'floors_above', 'resi_dwellings', 'studio_dwe', 'one_bdrm_dwe',\n       'two_bdrm_dwe', 'three_bdrm_dwe', 'student_apartments', 'student_beds',\n       'student_accommodation_units', 'institutional_accom_beds',\n       'hotel_rooms', 'serviced_apartments', 'hotels_serviced_apartments',\n       'hostel_beds', 'childcare_places', 'office_flr', 'retail_flr',\n       'industrial_flr', 'storage_flr', 'education_flr', 'hospital_flr',\n       'recreation_flr', 'publicdispaly_flr', 'community_flr', 'car_spaces',\n       'bike_spaces', 'town_planning_application', 'longitude', 'latitude',\n       'geopoint'],\n      dtype='object')"
     },
     "execution_count": 169,
     "metadata": {},
     "output_type": "execute_result"
    }
   ],
   "source": [
    "# print all the column names in the original df (i.e. the column names of the data frame)\n",
    "df.columns"
   ],
   "metadata": {
    "collapsed": false,
    "ExecuteTime": {
     "start_time": "2023-04-19T16:31:34.027989Z",
     "end_time": "2023-04-19T16:31:34.091818Z"
    }
   }
  },
  {
   "cell_type": "code",
   "execution_count": 170,
   "outputs": [
    {
     "name": "stdout",
     "output_type": "stream",
     "text": [
      "bike_spaces\n",
      "car_spaces\n",
      "childcare_places\n",
      "clue_block\n",
      "clue_small_area\n",
      "community_flr\n",
      "data_format\n",
      "development_key\n",
      "education_flr\n",
      "floors_above\n",
      "geopoint\n",
      "hospital_flr\n",
      "hostel_beds\n",
      "hotel_rooms\n",
      "hotels_serviced_apartments\n",
      "industrial_flr\n",
      "institutional_accom_beds\n",
      "latitude\n",
      "longitude\n",
      "office_flr\n",
      "one_bdrm_dwe\n",
      "property_id\n",
      "property_id_2\n",
      "property_id_3\n",
      "property_id_4\n",
      "property_id_5\n",
      "publicdispaly_flr\n",
      "recreation_flr\n",
      "resi_dwellings\n",
      "retail_flr\n",
      "serviced_apartments\n",
      "status\n",
      "storage_flr\n",
      "street_address\n",
      "student_accommodation_units\n",
      "student_apartments\n",
      "student_beds\n",
      "studio_dwe\n",
      "three_bdrm_dwe\n",
      "town_planning_application\n",
      "two_bdrm_dwe\n",
      "year_completed\n"
     ]
    }
   ],
   "source": [
    "# print them out in a for loop on a new line but in alphabetical order\n",
    "for column in sorted(df.columns):\n",
    "    print(column)"
   ],
   "metadata": {
    "collapsed": false,
    "ExecuteTime": {
     "start_time": "2023-04-19T16:31:34.034970Z",
     "end_time": "2023-04-19T16:31:34.091818Z"
    }
   }
  },
  {
   "cell_type": "markdown",
   "source": [],
   "metadata": {
    "collapsed": false
   }
  },
  {
   "cell_type": "code",
   "execution_count": 171,
   "outputs": [
    {
     "data": {
      "text/plain": "2012.0    88\n2009.0    71\n2017.0    65\n2011.0    63\n2014.0    57\n2010.0    55\n2018.0    48\n2015.0    47\n2019.0    47\n2006.0    46\n2020.0    41\n2016.0    40\n2021.0    40\n2007.0    39\n2005.0    39\n2004.0    38\n2013.0    37\n2003.0    37\n2002.0    35\n2008.0    32\n2022.0    28\n2023.0     9\nName: year_completed, dtype: int64"
     },
     "execution_count": 171,
     "metadata": {},
     "output_type": "execute_result"
    }
   ],
   "source": [
    "# print all the values for year_completed\n",
    "df['year_completed'].value_counts()"
   ],
   "metadata": {
    "collapsed": false,
    "ExecuteTime": {
     "start_time": "2023-04-19T16:31:34.041952Z",
     "end_time": "2023-04-19T16:31:34.091818Z"
    }
   }
  },
  {
   "cell_type": "code",
   "execution_count": 172,
   "outputs": [
    {
     "data": {
      "text/plain": "      year_completed     status\n0             2007.0  COMPLETED\n1             2005.0  COMPLETED\n2             2007.0  COMPLETED\n3             2007.0  COMPLETED\n4             2007.0  COMPLETED\n...              ...        ...\n1425          2015.0  COMPLETED\n1426          2009.0  COMPLETED\n1427          2010.0  COMPLETED\n1428          2006.0  COMPLETED\n1429          2007.0  COMPLETED\n\n[1430 rows x 2 columns]",
      "text/html": "<div>\n<style scoped>\n    .dataframe tbody tr th:only-of-type {\n        vertical-align: middle;\n    }\n\n    .dataframe tbody tr th {\n        vertical-align: top;\n    }\n\n    .dataframe thead th {\n        text-align: right;\n    }\n</style>\n<table border=\"1\" class=\"dataframe\">\n  <thead>\n    <tr style=\"text-align: right;\">\n      <th></th>\n      <th>year_completed</th>\n      <th>status</th>\n    </tr>\n  </thead>\n  <tbody>\n    <tr>\n      <th>0</th>\n      <td>2007.0</td>\n      <td>COMPLETED</td>\n    </tr>\n    <tr>\n      <th>1</th>\n      <td>2005.0</td>\n      <td>COMPLETED</td>\n    </tr>\n    <tr>\n      <th>2</th>\n      <td>2007.0</td>\n      <td>COMPLETED</td>\n    </tr>\n    <tr>\n      <th>3</th>\n      <td>2007.0</td>\n      <td>COMPLETED</td>\n    </tr>\n    <tr>\n      <th>4</th>\n      <td>2007.0</td>\n      <td>COMPLETED</td>\n    </tr>\n    <tr>\n      <th>...</th>\n      <td>...</td>\n      <td>...</td>\n    </tr>\n    <tr>\n      <th>1425</th>\n      <td>2015.0</td>\n      <td>COMPLETED</td>\n    </tr>\n    <tr>\n      <th>1426</th>\n      <td>2009.0</td>\n      <td>COMPLETED</td>\n    </tr>\n    <tr>\n      <th>1427</th>\n      <td>2010.0</td>\n      <td>COMPLETED</td>\n    </tr>\n    <tr>\n      <th>1428</th>\n      <td>2006.0</td>\n      <td>COMPLETED</td>\n    </tr>\n    <tr>\n      <th>1429</th>\n      <td>2007.0</td>\n      <td>COMPLETED</td>\n    </tr>\n  </tbody>\n</table>\n<p>1430 rows × 2 columns</p>\n</div>"
     },
     "execution_count": 172,
     "metadata": {},
     "output_type": "execute_result"
    }
   ],
   "source": [
    "# print both the year_completed and status columns in the original df\n",
    "df[['year_completed', 'status']]"
   ],
   "metadata": {
    "collapsed": false,
    "ExecuteTime": {
     "start_time": "2023-04-19T16:31:34.050928Z",
     "end_time": "2023-04-19T16:31:34.092816Z"
    }
   }
  },
  {
   "cell_type": "code",
   "execution_count": 173,
   "outputs": [
    {
     "name": "stdout",
     "output_type": "stream",
     "text": [
      "428\n"
     ]
    }
   ],
   "source": [
    "# print the number of missing values in the year_completed column before filling in the missing values\n",
    "print(df['year_completed'].isnull().sum())"
   ],
   "metadata": {
    "collapsed": false,
    "ExecuteTime": {
     "start_time": "2023-04-19T16:31:34.055914Z",
     "end_time": "2023-04-19T16:31:34.092816Z"
    }
   }
  },
  {
   "cell_type": "markdown",
   "source": [
    "Because the year_completed column has a lot of missing values, we can only refer to the 'status' column that contains COMPLETED. Another alternative would be to fill on those missing values and then attempt to group them into year groups."
   ],
   "metadata": {
    "collapsed": false
   }
  },
  {
   "cell_type": "code",
   "execution_count": 174,
   "outputs": [
    {
     "data": {
      "text/plain": "2023"
     },
     "execution_count": 174,
     "metadata": {},
     "output_type": "execute_result"
    }
   ],
   "source": [
    "# generate a random number between 2023 and 2030\n",
    "import random\n",
    "random.randint(2023, 2030)"
   ],
   "metadata": {
    "collapsed": false,
    "ExecuteTime": {
     "start_time": "2023-04-19T16:31:34.060902Z",
     "end_time": "2023-04-19T16:31:34.092816Z"
    }
   }
  },
  {
   "cell_type": "code",
   "execution_count": 175,
   "outputs": [
    {
     "name": "stderr",
     "output_type": "stream",
     "text": [
      "C:\\Users\\pkmaz\\AppData\\Local\\Temp\\ipykernel_12740\\2134757911.py:4: SettingWithCopyWarning: \n",
      "A value is trying to be set on a copy of a slice from a DataFrame\n",
      "\n",
      "See the caveats in the documentation: https://pandas.pydata.org/pandas-docs/stable/user_guide/indexing.html#returning-a-view-versus-a-copy\n",
      "  df['year_completed'][i] = random.randint(2023, 2030) # fill in the missing values with random numbers between 2023 and 2030\n"
     ]
    }
   ],
   "source": [
    "# fill in the missing values in the year_completed column with random numbers between 2023 and 2030\n",
    "for i in range(len(df['year_completed'])):\n",
    "    if pd.isnull(df['year_completed'][i]):\n",
    "        df['year_completed'][i] = random.randint(2023, 2030) # fill in the missing values with random numbers between 2023 and 2030"
   ],
   "metadata": {
    "collapsed": false,
    "ExecuteTime": {
     "start_time": "2023-04-19T16:31:34.068881Z",
     "end_time": "2023-04-19T16:31:34.213493Z"
    }
   }
  },
  {
   "cell_type": "code",
   "execution_count": 176,
   "outputs": [
    {
     "name": "stdout",
     "output_type": "stream",
     "text": [
      "0\n"
     ]
    }
   ],
   "source": [
    "# print the number of missing values in the year_completed column after filling in the missing values\n",
    "print(df['year_completed'].isnull().sum())"
   ],
   "metadata": {
    "collapsed": false,
    "ExecuteTime": {
     "start_time": "2023-04-19T16:31:34.129717Z",
     "end_time": "2023-04-19T16:31:34.213493Z"
    }
   }
  },
  {
   "cell_type": "code",
   "execution_count": 177,
   "outputs": [
    {
     "name": "stdout",
     "output_type": "stream",
     "text": [
      "0\n"
     ]
    }
   ],
   "source": [
    "# print the number of missing values in the status column\n",
    "print(df['status'].isnull().sum())"
   ],
   "metadata": {
    "collapsed": false,
    "ExecuteTime": {
     "start_time": "2023-04-19T16:31:34.135701Z",
     "end_time": "2023-04-19T16:31:34.213493Z"
    }
   }
  },
  {
   "cell_type": "code",
   "execution_count": 178,
   "outputs": [
    {
     "data": {
      "text/plain": "year_completed  status            \n(2010, 2015]    COMPLETED             292\n(2015, 2020]    COMPLETED             241\n(2020, 2025]    APPROVED               99\n                COMPLETED              77\n                APPLIED                37\n                UNDER CONSTRUCTION     25\n(2025, 2030]    APPROVED              151\n                UNDER CONSTRUCTION     60\n                APPLIED                56\nName: status, dtype: int64"
     },
     "execution_count": 178,
     "metadata": {},
     "output_type": "execute_result"
    }
   ],
   "source": [
    "# now that the year_completed column has no missing values, we can group them into year groups (based on a 5 years interval)\n",
    "# and print the number of different status values for each year group\n",
    "import numpy as np\n",
    "df.groupby(pd.cut(df['year_completed'], np.arange(2010, 2035, 5)))['status'].value_counts() # group by year_completed and status and print the number of values for each group"
   ],
   "metadata": {
    "collapsed": false,
    "ExecuteTime": {
     "start_time": "2023-04-19T16:31:34.139691Z",
     "end_time": "2023-04-19T16:31:34.281340Z"
    }
   }
  },
  {
   "cell_type": "code",
   "execution_count": 179,
   "outputs": [],
   "source": [
    "# save the result as a data frame\n",
    "df_year_status = df.groupby(pd.cut(df['year_completed'], np.arange(2010, 2035, 5)))['status'].value_counts().reset_index(name='count') # group by year_completed and status and print the number of values for each group and save the result as a data frame"
   ],
   "metadata": {
    "collapsed": false,
    "ExecuteTime": {
     "start_time": "2023-04-19T16:31:34.150661Z",
     "end_time": "2023-04-19T16:31:34.293308Z"
    }
   }
  },
  {
   "cell_type": "code",
   "execution_count": 180,
   "outputs": [
    {
     "data": {
      "text/plain": "  year_completed              status  count\n0   (2010, 2015]           COMPLETED    292\n1   (2015, 2020]           COMPLETED    241\n2   (2020, 2025]            APPROVED     99\n3   (2020, 2025]           COMPLETED     77\n4   (2020, 2025]             APPLIED     37\n5   (2020, 2025]  UNDER CONSTRUCTION     25\n6   (2025, 2030]            APPROVED    151\n7   (2025, 2030]  UNDER CONSTRUCTION     60\n8   (2025, 2030]             APPLIED     56",
      "text/html": "<div>\n<style scoped>\n    .dataframe tbody tr th:only-of-type {\n        vertical-align: middle;\n    }\n\n    .dataframe tbody tr th {\n        vertical-align: top;\n    }\n\n    .dataframe thead th {\n        text-align: right;\n    }\n</style>\n<table border=\"1\" class=\"dataframe\">\n  <thead>\n    <tr style=\"text-align: right;\">\n      <th></th>\n      <th>year_completed</th>\n      <th>status</th>\n      <th>count</th>\n    </tr>\n  </thead>\n  <tbody>\n    <tr>\n      <th>0</th>\n      <td>(2010, 2015]</td>\n      <td>COMPLETED</td>\n      <td>292</td>\n    </tr>\n    <tr>\n      <th>1</th>\n      <td>(2015, 2020]</td>\n      <td>COMPLETED</td>\n      <td>241</td>\n    </tr>\n    <tr>\n      <th>2</th>\n      <td>(2020, 2025]</td>\n      <td>APPROVED</td>\n      <td>99</td>\n    </tr>\n    <tr>\n      <th>3</th>\n      <td>(2020, 2025]</td>\n      <td>COMPLETED</td>\n      <td>77</td>\n    </tr>\n    <tr>\n      <th>4</th>\n      <td>(2020, 2025]</td>\n      <td>APPLIED</td>\n      <td>37</td>\n    </tr>\n    <tr>\n      <th>5</th>\n      <td>(2020, 2025]</td>\n      <td>UNDER CONSTRUCTION</td>\n      <td>25</td>\n    </tr>\n    <tr>\n      <th>6</th>\n      <td>(2025, 2030]</td>\n      <td>APPROVED</td>\n      <td>151</td>\n    </tr>\n    <tr>\n      <th>7</th>\n      <td>(2025, 2030]</td>\n      <td>UNDER CONSTRUCTION</td>\n      <td>60</td>\n    </tr>\n    <tr>\n      <th>8</th>\n      <td>(2025, 2030]</td>\n      <td>APPLIED</td>\n      <td>56</td>\n    </tr>\n  </tbody>\n</table>\n</div>"
     },
     "execution_count": 180,
     "metadata": {},
     "output_type": "execute_result"
    }
   ],
   "source": [
    "# print the data frame to check the result is as intended\n",
    "df_year_status"
   ],
   "metadata": {
    "collapsed": false,
    "ExecuteTime": {
     "start_time": "2023-04-19T16:31:34.162629Z",
     "end_time": "2023-04-19T16:31:34.302256Z"
    }
   }
  },
  {
   "cell_type": "markdown",
   "source": [
    "9. Draw a histogram of the number of status values against different year groups (based on a 5 years interval)"
   ],
   "metadata": {
    "collapsed": false
   }
  },
  {
   "cell_type": "code",
   "execution_count": 181,
   "outputs": [
    {
     "data": {
      "text/plain": "<Figure size 1000x600 with 1 Axes>",
      "image/png": "[encoded data removed]"
     },
     "metadata": {},
     "output_type": "display_data"
    }
   ],
   "source": [
    "import seaborn as sns\n",
    "import matplotlib.pyplot as plt\n",
    "\n",
    "# Assuming your dataframe is called df_year_status and has a 'status' column\n",
    "plt.figure(figsize=(10, 6))  # Set the figure size (optional)\n",
    "\n",
    "# Plot the bar plot using seaborn with different colors for the 'status' column\n",
    "sns.barplot(data=df_year_status, x='year_completed', y='count', hue='status', palette='viridis')\n",
    "\n",
    "plt.xlabel('Year Group')  # Set the x-axis label\n",
    "plt.ylabel('Number of Status Values')  # Set the y-axis label\n",
    "plt.title('Number of Status Values by Year Group')  # Set the title\n",
    "plt.show()  # Display the plot\n"
   ],
   "metadata": {
    "collapsed": false,
    "ExecuteTime": {
     "start_time": "2023-04-19T16:31:34.193547Z",
     "end_time": "2023-04-19T16:31:34.512693Z"
    }
   }
  },
  {
   "cell_type": "markdown",
   "source": [
    "10. Based on the original dataset (i.e. df), exclude the 'clue_small_area' column, and then use the rest of the columns to perform clustering on all the properties and determine the number of clusters. Then, print the number of properties in each cluster. Finally, plot the number of properties in each cluster (bar chart). Also don't forget to say whether this is the same as the number of suburbs in the dataset."
   ],
   "metadata": {
    "collapsed": false
   }
  },
  {
   "cell_type": "code",
   "execution_count": 182,
   "outputs": [
    {
     "name": "stdout",
     "output_type": "stream",
     "text": [
      "Number of suburbs in the original df:\n",
      "13\n"
     ]
    }
   ],
   "source": [
    "# print the number of suburbs in the original df\n",
    "print(\"Number of suburbs in the original df:\")\n",
    "print(len(df['clue_small_area'].value_counts()))"
   ],
   "metadata": {
    "collapsed": false,
    "ExecuteTime": {
     "start_time": "2023-04-19T16:31:34.384072Z",
     "end_time": "2023-04-19T16:31:34.512693Z"
    }
   }
  },
  {
   "cell_type": "code",
   "execution_count": 183,
   "outputs": [
    {
     "name": "stdout",
     "output_type": "stream",
     "text": [
      "Number of properties in the original df:\n",
      "1430\n"
     ]
    }
   ],
   "source": [
    "# print the number of properties in the original df\n",
    "print(\"Number of properties in the original df:\")\n",
    "print(len(df))"
   ],
   "metadata": {
    "collapsed": false,
    "ExecuteTime": {
     "start_time": "2023-04-19T16:31:34.389024Z",
     "end_time": "2023-04-19T16:31:34.512693Z"
    }
   }
  },
  {
   "cell_type": "code",
   "execution_count": 184,
   "outputs": [],
   "source": [
    "# exclude the 'clue_small_area' column from the original df\n",
    "df_cluster = df.drop(columns=['clue_small_area'])"
   ],
   "metadata": {
    "collapsed": false,
    "ExecuteTime": {
     "start_time": "2023-04-19T16:31:34.395008Z",
     "end_time": "2023-04-19T16:31:34.512693Z"
    }
   }
  },
  {
   "cell_type": "code",
   "execution_count": 185,
   "outputs": [],
   "source": [
    "# pre process the data first so that I can perform clustering on it\n",
    "# (i.e. convert the categorical columns into numerical columns)\n",
    "# loop through all the columns and find which ones are categorical and which ones are numerical (i.e. float or int)\n",
    "for column in df_cluster.columns:\n",
    "    if df_cluster[column].dtype == 'object': # if the column is categorical\n",
    "        df_cluster[column] = df_cluster[column].astype('category') # convert the column to a categorical column\n",
    "        df_cluster[column] = df_cluster[column].cat.codes # convert the categorical column to a numerical column"
   ],
   "metadata": {
    "collapsed": false,
    "ExecuteTime": {
     "start_time": "2023-04-19T16:31:34.398998Z",
     "end_time": "2023-04-19T16:31:34.558570Z"
    }
   }
  },
  {
   "cell_type": "code",
   "execution_count": 186,
   "outputs": [
    {
     "data": {
      "text/plain": "      data_format  development_key  status  year_completed  clue_block  \\\n0               3              637       2          2007.0         555   \n1               3              607       2          2005.0         520   \n2               3             1065       2          2007.0        1105   \n3               3              805       2          2007.0         775   \n4               3             1129       2          2007.0        1109   \n...           ...              ...     ...             ...         ...   \n1425            3              668       2          2015.0         659   \n1426            3              576       2          2009.0         444   \n1427            3              194       2          2010.0          87   \n1428            3              315       2          2006.0         239   \n1429            3               65       2          2007.0          45   \n\n      street_address  property_id  property_id_2  property_id_3  \\\n0                725       595012            NaN            NaN   \n1                 41       597179            NaN            NaN   \n2                892       598590            NaN            NaN   \n3                958       600453            NaN            NaN   \n4               1007       601815            NaN            NaN   \n...              ...          ...            ...            ...   \n1425            1085       100847            NaN            NaN   \n1426              80       100853            NaN            NaN   \n1427              21       101028            NaN            NaN   \n1428             330       101049            NaN            NaN   \n1429            1023       101140            NaN            NaN   \n\n      property_id_4  ...  hospital_flr  recreation_flr  publicdispaly_flr  \\\n0               NaN  ...             0               0                  0   \n1               NaN  ...             0               0                  0   \n2               NaN  ...             0               0                  0   \n3               NaN  ...             0               0                  0   \n4               NaN  ...             0               0                  0   \n...             ...  ...           ...             ...                ...   \n1425            NaN  ...             0           10000                  0   \n1426            NaN  ...             0               0                  0   \n1427            NaN  ...             0               0                  0   \n1428            NaN  ...             0               0                  0   \n1429            NaN  ...             0               0                  0   \n\n      community_flr  car_spaces  bike_spaces  town_planning_application  \\\n0                 0           0            0                          0   \n1                 0           0            0                          0   \n2                 0           0            0                          0   \n3                 0           0            0                          0   \n4                 0           0            0                          0   \n...             ...         ...          ...                        ...   \n1425              0           0            0                          0   \n1426              0           0            0                          0   \n1427              0           0            0                          0   \n1428              0           0            0                          0   \n1429              0           0            0                          0   \n\n       longitude   latitude  geopoint  \n0     144.917487 -37.795549       120  \n1     144.925214 -37.796234       134  \n2     144.949339 -37.820002       905  \n3     144.935420 -37.823135      1028  \n4     144.940195 -37.814289       728  \n...          ...        ...       ...  \n1425  144.979007 -37.821297       948  \n1426  144.949303 -37.811614       623  \n1427  144.967921 -37.809052       505  \n1428  144.958434 -37.800276       219  \n1429  144.965224 -37.814209       723  \n\n[1430 rows x 41 columns]",
      "text/html": "<div>\n<style scoped>\n    .dataframe tbody tr th:only-of-type {\n        vertical-align: middle;\n    }\n\n    .dataframe tbody tr th {\n        vertical-align: top;\n    }\n\n    .dataframe thead th {\n        text-align: right;\n    }\n</style>\n<table border=\"1\" class=\"dataframe\">\n  <thead>\n    <tr style=\"text-align: right;\">\n      <th></th>\n      <th>data_format</th>\n      <th>development_key</th>\n      <th>status</th>\n      <th>year_completed</th>\n      <th>clue_block</th>\n      <th>street_address</th>\n      <th>property_id</th>\n      <th>property_id_2</th>\n      <th>property_id_3</th>\n      <th>property_id_4</th>\n      <th>...</th>\n      <th>hospital_flr</th>\n      <th>recreation_flr</th>\n      <th>publicdispaly_flr</th>\n      <th>community_flr</th>\n      <th>car_spaces</th>\n      <th>bike_spaces</th>\n      <th>town_planning_application</th>\n      <th>longitude</th>\n      <th>latitude</th>\n      <th>geopoint</th>\n    </tr>\n  </thead>\n  <tbody>\n    <tr>\n      <th>0</th>\n      <td>3</td>\n      <td>637</td>\n      <td>2</td>\n      <td>2007.0</td>\n      <td>555</td>\n      <td>725</td>\n      <td>595012</td>\n      <td>NaN</td>\n      <td>NaN</td>\n      <td>NaN</td>\n      <td>...</td>\n      <td>0</td>\n      <td>0</td>\n      <td>0</td>\n      <td>0</td>\n      <td>0</td>\n      <td>0</td>\n      <td>0</td>\n      <td>144.917487</td>\n      <td>-37.795549</td>\n      <td>120</td>\n    </tr>\n    <tr>\n      <th>1</th>\n      <td>3</td>\n      <td>607</td>\n      <td>2</td>\n      <td>2005.0</td>\n      <td>520</td>\n      <td>41</td>\n      <td>597179</td>\n      <td>NaN</td>\n      <td>NaN</td>\n      <td>NaN</td>\n      <td>...</td>\n      <td>0</td>\n      <td>0</td>\n      <td>0</td>\n      <td>0</td>\n      <td>0</td>\n      <td>0</td>\n      <td>0</td>\n      <td>144.925214</td>\n      <td>-37.796234</td>\n      <td>134</td>\n    </tr>\n    <tr>\n      <th>2</th>\n      <td>3</td>\n      <td>1065</td>\n      <td>2</td>\n      <td>2007.0</td>\n      <td>1105</td>\n      <td>892</td>\n      <td>598590</td>\n      <td>NaN</td>\n      <td>NaN</td>\n      <td>NaN</td>\n      <td>...</td>\n      <td>0</td>\n      <td>0</td>\n      <td>0</td>\n      <td>0</td>\n      <td>0</td>\n      <td>0</td>\n      <td>0</td>\n      <td>144.949339</td>\n      <td>-37.820002</td>\n      <td>905</td>\n    </tr>\n    <tr>\n      <th>3</th>\n      <td>3</td>\n      <td>805</td>\n      <td>2</td>\n      <td>2007.0</td>\n      <td>775</td>\n      <td>958</td>\n      <td>600453</td>\n      <td>NaN</td>\n      <td>NaN</td>\n      <td>NaN</td>\n      <td>...</td>\n      <td>0</td>\n      <td>0</td>\n      <td>0</td>\n      <td>0</td>\n      <td>0</td>\n      <td>0</td>\n      <td>0</td>\n      <td>144.935420</td>\n      <td>-37.823135</td>\n      <td>1028</td>\n    </tr>\n    <tr>\n      <th>4</th>\n      <td>3</td>\n      <td>1129</td>\n      <td>2</td>\n      <td>2007.0</td>\n      <td>1109</td>\n      <td>1007</td>\n      <td>601815</td>\n      <td>NaN</td>\n      <td>NaN</td>\n      <td>NaN</td>\n      <td>...</td>\n      <td>0</td>\n      <td>0</td>\n      <td>0</td>\n      <td>0</td>\n      <td>0</td>\n      <td>0</td>\n      <td>0</td>\n      <td>144.940195</td>\n      <td>-37.814289</td>\n      <td>728</td>\n    </tr>\n    <tr>\n      <th>...</th>\n      <td>...</td>\n      <td>...</td>\n      <td>...</td>\n      <td>...</td>\n      <td>...</td>\n      <td>...</td>\n      <td>...</td>\n      <td>...</td>\n      <td>...</td>\n      <td>...</td>\n      <td>...</td>\n      <td>...</td>\n      <td>...</td>\n      <td>...</td>\n      <td>...</td>\n      <td>...</td>\n      <td>...</td>\n      <td>...</td>\n      <td>...</td>\n      <td>...</td>\n      <td>...</td>\n    </tr>\n    <tr>\n      <th>1425</th>\n      <td>3</td>\n      <td>668</td>\n      <td>2</td>\n      <td>2015.0</td>\n      <td>659</td>\n      <td>1085</td>\n      <td>100847</td>\n      <td>NaN</td>\n      <td>NaN</td>\n      <td>NaN</td>\n      <td>...</td>\n      <td>0</td>\n      <td>10000</td>\n      <td>0</td>\n      <td>0</td>\n      <td>0</td>\n      <td>0</td>\n      <td>0</td>\n      <td>144.979007</td>\n      <td>-37.821297</td>\n      <td>948</td>\n    </tr>\n    <tr>\n      <th>1426</th>\n      <td>3</td>\n      <td>576</td>\n      <td>2</td>\n      <td>2009.0</td>\n      <td>444</td>\n      <td>80</td>\n      <td>100853</td>\n      <td>NaN</td>\n      <td>NaN</td>\n      <td>NaN</td>\n      <td>...</td>\n      <td>0</td>\n      <td>0</td>\n      <td>0</td>\n      <td>0</td>\n      <td>0</td>\n      <td>0</td>\n      <td>0</td>\n      <td>144.949303</td>\n      <td>-37.811614</td>\n      <td>623</td>\n    </tr>\n    <tr>\n      <th>1427</th>\n      <td>3</td>\n      <td>194</td>\n      <td>2</td>\n      <td>2010.0</td>\n      <td>87</td>\n      <td>21</td>\n      <td>101028</td>\n      <td>NaN</td>\n      <td>NaN</td>\n      <td>NaN</td>\n      <td>...</td>\n      <td>0</td>\n      <td>0</td>\n      <td>0</td>\n      <td>0</td>\n      <td>0</td>\n      <td>0</td>\n      <td>0</td>\n      <td>144.967921</td>\n      <td>-37.809052</td>\n      <td>505</td>\n    </tr>\n    <tr>\n      <th>1428</th>\n      <td>3</td>\n      <td>315</td>\n      <td>2</td>\n      <td>2006.0</td>\n      <td>239</td>\n      <td>330</td>\n      <td>101049</td>\n      <td>NaN</td>\n      <td>NaN</td>\n      <td>NaN</td>\n      <td>...</td>\n      <td>0</td>\n      <td>0</td>\n      <td>0</td>\n      <td>0</td>\n      <td>0</td>\n      <td>0</td>\n      <td>0</td>\n      <td>144.958434</td>\n      <td>-37.800276</td>\n      <td>219</td>\n    </tr>\n    <tr>\n      <th>1429</th>\n      <td>3</td>\n      <td>65</td>\n      <td>2</td>\n      <td>2007.0</td>\n      <td>45</td>\n      <td>1023</td>\n      <td>101140</td>\n      <td>NaN</td>\n      <td>NaN</td>\n      <td>NaN</td>\n      <td>...</td>\n      <td>0</td>\n      <td>0</td>\n      <td>0</td>\n      <td>0</td>\n      <td>0</td>\n      <td>0</td>\n      <td>0</td>\n      <td>144.965224</td>\n      <td>-37.814209</td>\n      <td>723</td>\n    </tr>\n  </tbody>\n</table>\n<p>1430 rows × 41 columns</p>\n</div>"
     },
     "execution_count": 186,
     "metadata": {},
     "output_type": "execute_result"
    }
   ],
   "source": [
    "# print the data frame to check the result is as intended\n",
    "df_cluster"
   ],
   "metadata": {
    "collapsed": false,
    "ExecuteTime": {
     "start_time": "2023-04-19T16:31:34.422933Z",
     "end_time": "2023-04-19T16:31:34.651323Z"
    }
   }
  },
  {
   "cell_type": "code",
   "execution_count": 187,
   "outputs": [
    {
     "name": "stdout",
     "output_type": "stream",
     "text": [
      "Number of missing values in each column:\n",
      "data_format                       0\n",
      "development_key                   0\n",
      "status                            0\n",
      "year_completed                    0\n",
      "clue_block                        0\n",
      "street_address                    0\n",
      "property_id                       0\n",
      "property_id_2                  1255\n",
      "property_id_3                  1389\n",
      "property_id_4                  1416\n",
      "property_id_5                  1427\n",
      "floors_above                      0\n",
      "resi_dwellings                    0\n",
      "studio_dwe                        0\n",
      "one_bdrm_dwe                      0\n",
      "two_bdrm_dwe                      0\n",
      "three_bdrm_dwe                    0\n",
      "student_apartments                0\n",
      "student_beds                      0\n",
      "student_accommodation_units       0\n",
      "institutional_accom_beds          0\n",
      "hotel_rooms                       0\n",
      "serviced_apartments               0\n",
      "hotels_serviced_apartments        0\n",
      "hostel_beds                       0\n",
      "childcare_places                  0\n",
      "office_flr                        0\n",
      "retail_flr                        0\n",
      "industrial_flr                    0\n",
      "storage_flr                       0\n",
      "education_flr                     0\n",
      "hospital_flr                      0\n",
      "recreation_flr                    0\n",
      "publicdispaly_flr                 0\n",
      "community_flr                     0\n",
      "car_spaces                        0\n",
      "bike_spaces                       0\n",
      "town_planning_application         0\n",
      "longitude                         0\n",
      "latitude                          0\n",
      "geopoint                          0\n",
      "dtype: int64\n"
     ]
    }
   ],
   "source": [
    "# print the number of missing values in each column\n",
    "print(\"Number of missing values in each column:\")\n",
    "print(df_cluster.isnull().sum())"
   ],
   "metadata": {
    "collapsed": false,
    "ExecuteTime": {
     "start_time": "2023-04-19T16:31:34.428918Z",
     "end_time": "2023-04-19T16:31:34.651323Z"
    }
   }
  },
  {
   "cell_type": "code",
   "execution_count": 188,
   "outputs": [],
   "source": [
    "# filter out the columns that contain missing values as they will cause errors when performing clustering and are not needed for the analysis\n",
    "df_cluster = df_cluster.dropna(axis=1) # drop the columns that contain missing values (axis=1 means drop the columns)"
   ],
   "metadata": {
    "collapsed": false,
    "ExecuteTime": {
     "start_time": "2023-04-19T16:31:34.435899Z",
     "end_time": "2023-04-19T16:31:34.651323Z"
    }
   }
  },
  {
   "cell_type": "code",
   "execution_count": 189,
   "outputs": [
    {
     "name": "stdout",
     "output_type": "stream",
     "text": [
      "Number of missing values in each column after filtering out the rows that contain missing values:\n",
      "data_format                    0\n",
      "development_key                0\n",
      "status                         0\n",
      "year_completed                 0\n",
      "clue_block                     0\n",
      "street_address                 0\n",
      "property_id                    0\n",
      "floors_above                   0\n",
      "resi_dwellings                 0\n",
      "studio_dwe                     0\n",
      "one_bdrm_dwe                   0\n",
      "two_bdrm_dwe                   0\n",
      "three_bdrm_dwe                 0\n",
      "student_apartments             0\n",
      "student_beds                   0\n",
      "student_accommodation_units    0\n",
      "institutional_accom_beds       0\n",
      "hotel_rooms                    0\n",
      "serviced_apartments            0\n",
      "hotels_serviced_apartments     0\n",
      "hostel_beds                    0\n",
      "childcare_places               0\n",
      "office_flr                     0\n",
      "retail_flr                     0\n",
      "industrial_flr                 0\n",
      "storage_flr                    0\n",
      "education_flr                  0\n",
      "hospital_flr                   0\n",
      "recreation_flr                 0\n",
      "publicdispaly_flr              0\n",
      "community_flr                  0\n",
      "car_spaces                     0\n",
      "bike_spaces                    0\n",
      "town_planning_application      0\n",
      "longitude                      0\n",
      "latitude                       0\n",
      "geopoint                       0\n",
      "dtype: int64\n"
     ]
    }
   ],
   "source": [
    "# print the number of missing values in each column after filtering out the rows that contain missing values\n",
    "print(\"Number of missing values in each column after filtering out the rows that contain missing values:\")\n",
    "print(df_cluster.isnull().sum())"
   ],
   "metadata": {
    "collapsed": false,
    "ExecuteTime": {
     "start_time": "2023-04-19T16:31:34.441883Z",
     "end_time": "2023-04-19T16:31:34.651323Z"
    }
   }
  },
  {
   "cell_type": "code",
   "execution_count": 190,
   "outputs": [
    {
     "name": "stdout",
     "output_type": "stream",
     "text": [
      "Number of properties in each cluster:\n",
      "0    130\n",
      "1    931\n",
      "2     61\n",
      "3     33\n",
      "4    104\n",
      "5    103\n",
      "6     21\n",
      "7     47\n",
      "dtype: int64\n"
     ]
    },
    {
     "data": {
      "text/plain": "<Figure size 1000x600 with 1 Axes>",
      "image/png": "[encoded data removed]"
     },
     "metadata": {},
     "output_type": "display_data"
    }
   ],
   "source": [
    "# perform clustering on the pre processed data to determine the number of clusters and then check if the number of clusters is the same as the number of suburbs in the original df\n",
    "from sklearn.cluster import KMeans\n",
    "kmeans = KMeans() # create a KMeans object\n",
    "kmeans.fit(df_cluster) # fit the data to the KMeans object\n",
    "labels = kmeans.predict(df_cluster) # predict the labels of the data\n",
    "centroids = kmeans.cluster_centers_ # get the centroids of the clusters\n",
    "\n",
    "# print the number of properties in each cluster\n",
    "print(\"Number of properties in each cluster:\")\n",
    "print(pd.Series(labels).value_counts().sort_index())\n",
    "\n",
    "# plot the number of properties in each cluster (bar chart)\n",
    "plt.figure(figsize=(10, 6)) # set the figure size\n",
    "plt.bar(pd.Series(labels).value_counts().sort_index().index, pd.Series(labels).value_counts().sort_index().values) # plot the bar chart\n",
    "plt.xlabel('Cluster') # set the x-axis label\n",
    "plt.ylabel('Number of Properties') # set the y-axis label\n",
    "plt.title('Number of Properties by Cluster') # set the title\n",
    "plt.show() # display the plot"
   ],
   "metadata": {
    "collapsed": false,
    "ExecuteTime": {
     "start_time": "2023-04-19T16:31:34.448864Z",
     "end_time": "2023-04-19T16:31:34.802939Z"
    }
   }
  },
  {
   "cell_type": "code",
   "execution_count": 191,
   "outputs": [
    {
     "name": "stdout",
     "output_type": "stream",
     "text": [
      "Number of suburbs in the original df:\n",
      "13\n",
      "Number of centroids:\n",
      "8\n"
     ]
    }
   ],
   "source": [
    "# do something with the centroids to see if they are the same as the number of suburbs in the original df\n",
    "print(\"Number of suburbs in the original df:\")\n",
    "print(len(df['clue_small_area'].value_counts()))\n",
    "print(\"Number of centroids:\")\n",
    "print(len(centroids))"
   ],
   "metadata": {
    "collapsed": false,
    "ExecuteTime": {
     "start_time": "2023-04-19T16:31:34.737094Z",
     "end_time": "2023-04-19T16:31:34.802939Z"
    }
   }
  },
  {
   "cell_type": "code",
   "execution_count": 192,
   "outputs": [
    {
     "data": {
      "text/plain": "<Figure size 1000x600 with 1 Axes>",
      "image/png": "[encoded data removed]"
     },
     "metadata": {},
     "output_type": "display_data"
    }
   ],
   "source": [
    "# plot the centroids\n",
    "plt.figure(figsize=(10, 6)) # set the figure size\n",
    "plt.scatter(centroids[:, 0], centroids[:, 1], marker='x', s=169, linewidths=3, color='r', zorder=10) # plot the centroids\n",
    "plt.xlabel('Cluster') # set the x-axis label\n",
    "plt.ylabel('Number of Properties') # set the y-axis label\n",
    "plt.title('Number of Properties by Cluster') # set the title\n",
    "plt.show() # display the plot"
   ],
   "metadata": {
    "collapsed": false,
    "ExecuteTime": {
     "start_time": "2023-04-19T16:31:34.763025Z",
     "end_time": "2023-04-19T16:31:35.124060Z"
    }
   }
  },
  {
   "cell_type": "code",
   "execution_count": 193,
   "outputs": [],
   "source": [
    "# it is not the same as the number of suburbs in the original df as the number of suburbs is 13 and the number of centroids is 8"
   ],
   "metadata": {
    "collapsed": false,
    "ExecuteTime": {
     "start_time": "2023-04-19T16:31:34.904646Z",
     "end_time": "2023-04-19T16:31:35.124060Z"
    }
   }
  },
  {
   "cell_type": "markdown",
   "source": [
    "11. After performing k-means clustering on the dataset, report the purity score of the clustering result."
   ],
   "metadata": {
    "collapsed": false
   }
  },
  {
   "cell_type": "code",
   "execution_count": 194,
   "outputs": [
    {
     "name": "stdout",
     "output_type": "stream",
     "text": [
      "Values of clue_small_area:\n",
      "4     338\n",
      "1     196\n",
      "6     186\n",
      "0     137\n",
      "10    134\n",
      "12    113\n",
      "3      85\n",
      "8      78\n",
      "7      61\n",
      "2      42\n",
      "5      23\n",
      "11     21\n",
      "9      16\n",
      "Name: clue_small_area, dtype: int64\n"
     ]
    }
   ],
   "source": [
    "# pre process 'clue_small_area' column so that I can perform clustering on it (i.e. convert the categorical column into numerical column)\n",
    "df['clue_small_area'] = df['clue_small_area'].astype('category') # convert the column to a categorical column\n",
    "df['clue_small_area'] = df['clue_small_area'].cat.codes # convert the categorical column to a numerical column\n",
    "\n",
    "# check the result is as intended by printing the values of clue_small_area\n",
    "print(\"Values of clue_small_area:\")\n",
    "print(df['clue_small_area'].value_counts())"
   ],
   "metadata": {
    "collapsed": false,
    "ExecuteTime": {
     "start_time": "2023-04-19T16:31:34.911628Z",
     "end_time": "2023-04-19T16:31:35.124060Z"
    }
   }
  },
  {
   "cell_type": "code",
   "execution_count": 195,
   "outputs": [
    {
     "name": "stdout",
     "output_type": "stream",
     "text": [
      "Purity score of the clustering result:\n",
      "0.33636363636363636\n"
     ]
    }
   ],
   "source": [
    "import pandas as pd\n",
    "from sklearn.cluster import KMeans\n",
    "\n",
    "# Create a KMeans object with the best value of k (i.e. 8) and fit the data to it\n",
    "kmeans = KMeans(n_clusters=8)\n",
    "kmeans.fit(df_cluster)\n",
    "labels = kmeans.predict(df_cluster)\n",
    "\n",
    "# Add the predicted labels to the original DataFrame\n",
    "df['cluster'] = labels\n",
    "\n",
    "# Create a contingency matrix with the cluster labels and the true labels (suburbs)\n",
    "contingency_matrix = pd.crosstab(df['cluster'], df['clue_small_area'])\n",
    "\n",
    "# For each cluster, find the class (suburb) with the highest number of data points\n",
    "max_values_per_cluster = contingency_matrix.max(axis=1)\n",
    "\n",
    "# Sum the number of data points for the highest class (suburb) in each cluster\n",
    "sum_max_values = max_values_per_cluster.sum()\n",
    "\n",
    "# Calculate the purity score\n",
    "total_data_points = len(df)\n",
    "purity_score = sum_max_values / total_data_points\n",
    "\n",
    "# Print the purity score\n",
    "print(\"Purity score of the clustering result:\")\n",
    "print(purity_score)"
   ],
   "metadata": {
    "collapsed": false,
    "ExecuteTime": {
     "start_time": "2023-04-19T16:31:34.918632Z",
     "end_time": "2023-04-19T16:31:35.124060Z"
    }
   }
  },
  {
   "cell_type": "markdown",
   "source": [
    "A purity score of 0.33496 suggests that the clustering algorithm is not performing particularly well at grouping data points from the same suburb together. A perfect score would be 1 while 0 would indicate that the algorithm is not grouping data points from the same suburb together at all."
   ],
   "metadata": {
    "collapsed": false
   }
  },
  {
   "cell_type": "markdown",
   "source": [
    "12. Try three different distance metrics for K-Means, then select the best distance metric for each corresponding algorithm. Explain why you think the selected distance metric is the best."
   ],
   "metadata": {
    "collapsed": false
   }
  },
  {
   "cell_type": "code",
   "execution_count": 196,
   "outputs": [],
   "source": [
    "from sklearn.preprocessing import StandardScaler\n",
    "from sklearn.metrics import silhouette_score\n",
    "from pyclustering.cluster.kmeans import kmeans, kmeans_visualizer\n",
    "from pyclustering.cluster.center_initializer import kmeans_plusplus_initializer\n",
    "from pyclustering.utils.metric import distance_metric, type_metric\n",
    "from scipy.spatial.distance import cosine\n",
    "\n",
    "# create a custom cosine distance method\n",
    "def custom_cosine(x, y):\n",
    "    return cosine(x, y)\n",
    "\n",
    "# prepare the data for clustering\n",
    "scaler = StandardScaler()\n",
    "data_scaled = scaler.fit_transform(df_cluster)\n",
    "\n",
    "# select the number of clusters\n",
    "k = 8\n",
    "\n",
    "# define the distance metrics\n",
    "distance_metrics = {\n",
    "    'euclidean': distance_metric(type_metric.EUCLIDEAN),\n",
    "    'manhattan': distance_metric(type_metric.MANHATTAN),\n",
    "    'cosine': distance_metric(type_metric.USER_DEFINED, func=custom_cosine),\n",
    "}"
   ],
   "metadata": {
    "collapsed": false,
    "ExecuteTime": {
     "start_time": "2023-04-19T16:31:35.023328Z",
     "end_time": "2023-04-19T16:31:35.124060Z"
    }
   }
  },
  {
   "cell_type": "code",
   "execution_count": 197,
   "outputs": [],
   "source": [
    "# run k-means clustering with each distance metric and evaluate the performance\n",
    "best_score = 0\n",
    "best_metric = None\n",
    "best_result = None"
   ],
   "metadata": {
    "collapsed": false,
    "ExecuteTime": {
     "start_time": "2023-04-19T16:31:35.036294Z",
     "end_time": "2023-04-19T16:31:35.124060Z"
    }
   }
  },
  {
   "cell_type": "code",
   "execution_count": 198,
   "outputs": [
    {
     "name": "stdout",
     "output_type": "stream",
     "text": [
      "Silhouette score for euclidean distance: 0.15211152750152312\n",
      "Silhouette score for manhattan distance: 0.22985563126447078\n",
      "Silhouette score for cosine distance: 0.29597540173338627\n",
      "Best distance metric: cosine\n"
     ]
    }
   ],
   "source": [
    "for metric_name, metric in distance_metrics.items():\n",
    "    # Initialize cluster centers\n",
    "    initial_centers = kmeans_plusplus_initializer(data_scaled, k).initialize()\n",
    "\n",
    "    # Run K-Means with the given distance metric\n",
    "    kmeans_instance = kmeans(data_scaled, initial_centers, metric=metric)\n",
    "    kmeans_instance.process()\n",
    "\n",
    "    # Get clustering results\n",
    "    clusters = kmeans_instance.get_clusters()\n",
    "    centers = kmeans_instance.get_centers()\n",
    "\n",
    "    # Evaluate the clustering performance using silhouette score\n",
    "    labels = np.empty(len(data_scaled), dtype=int)\n",
    "    for cluster_id, cluster in enumerate(clusters):\n",
    "        labels[cluster] = cluster_id\n",
    "\n",
    "\n",
    "    score = silhouette_score(data_scaled, labels, metric=metric_name)\n",
    "\n",
    "    print(f\"Silhouette score for {metric_name} distance: {score}\")\n",
    "\n",
    "    if score > best_score:\n",
    "        best_score = score\n",
    "        best_metric = metric_name\n",
    "        best_result = (clusters, centers)\n",
    "\n",
    "print(f\"Best distance metric: {best_metric}\")\n"
   ],
   "metadata": {
    "collapsed": false,
    "ExecuteTime": {
     "start_time": "2023-04-19T16:31:35.047264Z",
     "end_time": "2023-04-19T16:31:37.236413Z"
    }
   }
  },
  {
   "cell_type": "markdown",
   "source": [
    "The cosine metric performed the best as it is well-suited for high-dimensional data. The euclidean metric performed the second best, followed by the manhattan metric. The cosine distance is also very useful for datasets such as the one we are using here named 'development-activity-monitor.csv' as it contained mixed numerical features with different scales and units that we had to pre-process."
   ],
   "metadata": {
    "collapsed": false
   }
  },
  {
   "cell_type": "markdown",
   "source": [
    "13. Try a different clustering algorithm (e.g. DBSCAN, Agglomerative Clustering, etc.) and compare the performance of the clustering result with the K-Means clustering result. Compare the results..."
   ],
   "metadata": {
    "collapsed": false
   }
  },
  {
   "cell_type": "code",
   "execution_count": 199,
   "outputs": [],
   "source": [
    "# import agglo clustering\n",
    "from sklearn.cluster import AgglomerativeClustering\n",
    "\n",
    "n_clusters = 8\n",
    "\n",
    "# create the agglo clustering object and fit the data to it\n",
    "agg_clustering = AgglomerativeClustering(n_clusters=n_clusters)\n",
    "agg_labels = agg_clustering.fit_predict(data_scaled)"
   ],
   "metadata": {
    "collapsed": false,
    "ExecuteTime": {
     "start_time": "2023-04-19T16:31:37.238407Z",
     "end_time": "2023-04-19T16:31:37.286280Z"
    }
   }
  },
  {
   "cell_type": "code",
   "execution_count": 200,
   "outputs": [
    {
     "name": "stdout",
     "output_type": "stream",
     "text": [
      "Silhouette score for Agglomerative Clustering: 0.10365333864971914\n"
     ]
    }
   ],
   "source": [
    "agg_silhouette_score = silhouette_score(data_scaled, agg_labels)\n",
    "print(\"Silhouette score for Agglomerative Clustering:\", agg_silhouette_score)"
   ],
   "metadata": {
    "collapsed": false,
    "ExecuteTime": {
     "start_time": "2023-04-19T16:31:37.289272Z",
     "end_time": "2023-04-19T16:31:37.324179Z"
    }
   }
  },
  {
   "cell_type": "code",
   "execution_count": 201,
   "outputs": [
    {
     "name": "stdout",
     "output_type": "stream",
     "text": [
      "Silhouette score for K-means: 0.29597540173338627\n",
      "Silhouette score for Agglomerative Clustering: 0.10365333864971914\n"
     ]
    }
   ],
   "source": [
    "print(\"Silhouette score for K-means:\", best_score)\n",
    "print(\"Silhouette score for Agglomerative Clustering:\", agg_silhouette_score)"
   ],
   "metadata": {
    "collapsed": false,
    "ExecuteTime": {
     "start_time": "2023-04-19T16:31:37.317196Z",
     "end_time": "2023-04-19T16:31:37.324179Z"
    }
   }
  },
  {
   "cell_type": "code",
   "execution_count": 202,
   "outputs": [
    {
     "name": "stdout",
     "output_type": "stream",
     "text": [
      "Purity score of the Agglomerative Clustering result:\n",
      "0.3104895104895105\n"
     ]
    }
   ],
   "source": [
    "# Add the predicted labels to the original DataFrame\n",
    "df['agg_cluster'] = agg_labels\n",
    "\n",
    "# Create a contingency matrix with the cluster labels and the true labels (suburbs)\n",
    "agg_contingency_matrix = pd.crosstab(df['agg_cluster'], df['clue_small_area'])\n",
    "\n",
    "# For each cluster, find the class (suburb) with the highest number of data points\n",
    "agg_max_values_per_cluster = agg_contingency_matrix.max(axis=1)\n",
    "\n",
    "# Sum the number of data points for the highest class (suburb) in each cluster\n",
    "agg_sum_max_values = agg_max_values_per_cluster.sum()\n",
    "\n",
    "# Calculate the purity score\n",
    "agg_purity_score = agg_sum_max_values / total_data_points\n",
    "\n",
    "# Print the purity score\n",
    "print(\"Purity score of the Agglomerative Clustering result:\")\n",
    "print(agg_purity_score)"
   ],
   "metadata": {
    "collapsed": false,
    "ExecuteTime": {
     "start_time": "2023-04-19T16:31:37.322184Z",
     "end_time": "2023-04-19T16:31:37.333176Z"
    }
   }
  },
  {
   "cell_type": "code",
   "execution_count": 203,
   "outputs": [
    {
     "name": "stdout",
     "output_type": "stream",
     "text": [
      "Purity score for K-means: 0.33636363636363636\n",
      "Purity score for Agglomerative Clustering: 0.3104895104895105\n"
     ]
    }
   ],
   "source": [
    "print(\"Purity score for K-means:\", purity_score)\n",
    "print(\"Purity score for Agglomerative Clustering:\", agg_purity_score)"
   ],
   "metadata": {
    "collapsed": false,
    "ExecuteTime": {
     "start_time": "2023-04-19T16:31:37.335150Z",
     "end_time": "2023-04-19T16:31:37.337154Z"
    }
   }
  },
  {
   "cell_type": "markdown",
   "source": [
    "Based on the results for the silhouette score and purity score, the K-means clustering algorithm performed better than the Agglomerative Clustering algorithm.\n",
    "The silhouette score will measure how similar an object is to its own cluster compared to others. A higher score here will suggest a better performance.\n",
    "The purity score measures how well the algorithm groups data points from the same class (in this case, suburbs) together. A higher score here will suggest a better performance.\n",
    "Considering both the silhouette and purity scores, K-means clustering outperforms Agglomerative Clustering on this dataset."
   ],
   "metadata": {
    "collapsed": false
   }
  },
  {
   "cell_type": "markdown",
   "source": [],
   "metadata": {
    "collapsed": false
   }
  }
 ],
 "metadata": {
  "kernelspec": {
   "display_name": "Python 3",
   "language": "python",
   "name": "python3"
  },
  "language_info": {
   "codemirror_mode": {
    "name": "ipython",
    "version": 2
   },
   "file_extension": ".py",
   "mimetype": "text/x-python",
   "name": "python",
   "nbconvert_exporter": "python",
   "pygments_lexer": "ipython2",
   "version": "2.7.6"
  }
 },
 "nbformat": 4,
 "nbformat_minor": 0
}
