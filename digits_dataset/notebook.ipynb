{
 "cells": [
  {
   "cell_type": "markdown",
   "source": [
    "QUESTION 1"
   ],
   "metadata": {
    "collapsed": false
   }
  },
  {
   "cell_type": "code",
   "execution_count": 52,
   "metadata": {
    "collapsed": true,
    "ExecuteTime": {
     "start_time": "2023-05-17T15:28:53.674182Z",
     "end_time": "2023-05-17T15:28:53.842707Z"
    }
   },
   "outputs": [],
   "source": [
    "from sklearn import datasets\n",
    "\n",
    "digits = datasets.load_digits()"
   ]
  },
  {
   "cell_type": "code",
   "execution_count": 53,
   "outputs": [
    {
     "name": "stdout",
     "output_type": "stream",
     "text": [
      "(1797, 64)\n"
     ]
    }
   ],
   "source": [
    "print(digits.data.shape)"
   ],
   "metadata": {
    "collapsed": false,
    "ExecuteTime": {
     "start_time": "2023-05-17T15:28:53.692110Z",
     "end_time": "2023-05-17T15:28:53.843704Z"
    }
   }
  },
  {
   "cell_type": "code",
   "execution_count": 54,
   "outputs": [],
   "source": [
    "# split the data into training and validation sets in an 80/20 ratio\n",
    "from sklearn.model_selection import train_test_split\n",
    "X = digits.data # features\n",
    "y = digits.target # target"
   ],
   "metadata": {
    "collapsed": false,
    "ExecuteTime": {
     "start_time": "2023-05-17T15:28:53.698094Z",
     "end_time": "2023-05-17T15:28:53.846695Z"
    }
   }
  },
  {
   "cell_type": "code",
   "execution_count": 55,
   "outputs": [],
   "source": [
    "X_train, X_test, y_train, y_test = train_test_split(X, y, test_size=0.2, random_state=42)"
   ],
   "metadata": {
    "collapsed": false,
    "ExecuteTime": {
     "start_time": "2023-05-17T15:28:53.704078Z",
     "end_time": "2023-05-17T15:28:53.846695Z"
    }
   }
  },
  {
   "cell_type": "code",
   "execution_count": 56,
   "outputs": [],
   "source": [
    "# before we train the model, we need to scale the data (standardize the features) so that all features are uniform and contribute equally to the final product (the prediction)"
   ],
   "metadata": {
    "collapsed": false,
    "ExecuteTime": {
     "start_time": "2023-05-17T15:28:53.708067Z",
     "end_time": "2023-05-17T15:28:53.846695Z"
    }
   }
  },
  {
   "cell_type": "code",
   "execution_count": 57,
   "outputs": [],
   "source": [
    "from sklearn.preprocessing import StandardScaler\n",
    "scaler = StandardScaler() # create the scaler object"
   ],
   "metadata": {
    "collapsed": false,
    "ExecuteTime": {
     "start_time": "2023-05-17T15:28:53.714052Z",
     "end_time": "2023-05-17T15:28:53.846695Z"
    }
   }
  },
  {
   "cell_type": "code",
   "execution_count": 58,
   "outputs": [],
   "source": [
    "X_train_std = scaler.fit_transform(X_train) # fit the scaler to the training data and transform it\n",
    "X_test_std = scaler.transform(X_test) # transform the test data"
   ],
   "metadata": {
    "collapsed": false,
    "ExecuteTime": {
     "start_time": "2023-05-17T15:28:53.719039Z",
     "end_time": "2023-05-17T15:28:53.847694Z"
    }
   }
  },
  {
   "cell_type": "code",
   "execution_count": 59,
   "outputs": [],
   "source": [
    "# now before training the model we should find the optimal value for K using cross-validation\n",
    "from sklearn.model_selection import cross_val_score\n",
    "import matplotlib.pyplot as plt\n",
    "\n",
    "# create a list of K values to test\n",
    "k_list = list(range(1, 20, 2)) # odd numbers from 1 to 20"
   ],
   "metadata": {
    "collapsed": false,
    "ExecuteTime": {
     "start_time": "2023-05-17T15:28:53.725063Z",
     "end_time": "2023-05-17T15:28:53.847694Z"
    }
   }
  },
  {
   "cell_type": "code",
   "execution_count": 60,
   "outputs": [],
   "source": [
    "# perform 10-fold cross-validation for each K value\n",
    "from sklearn.neighbors import KNeighborsClassifier\n",
    "cv_scores = [] # create an empty list to store the cross-validation scores\n",
    "\n",
    "for k in k_list:\n",
    "    knn = KNeighborsClassifier(n_neighbors=k) # create a KNN classifier with K neighbors\n",
    "    scores = cross_val_score(knn, X_train_std, y_train, cv=10, scoring='accuracy') # perform 10-fold cross-validation\n",
    "    cv_scores.append(scores.mean()) # append the mean of the cross-validation scores to the list"
   ],
   "metadata": {
    "collapsed": false,
    "ExecuteTime": {
     "start_time": "2023-05-17T15:28:53.730008Z",
     "end_time": "2023-05-17T15:28:55.139238Z"
    }
   }
  },
  {
   "cell_type": "code",
   "execution_count": 61,
   "outputs": [
    {
     "data": {
      "text/plain": "<Figure size 640x480 with 1 Axes>",
      "image/png": "[encoded data removed]"
     },
     "metadata": {},
     "output_type": "display_data"
    }
   ],
   "source": [
    "# plot the accuracy vs K values\n",
    "plt.plot(k_list, cv_scores)\n",
    "plt.xlabel('K')\n",
    "plt.ylabel('Accuracy')\n",
    "plt.show()"
   ],
   "metadata": {
    "collapsed": false,
    "ExecuteTime": {
     "start_time": "2023-05-17T15:28:55.143229Z",
     "end_time": "2023-05-17T15:28:55.259916Z"
    }
   }
  },
  {
   "cell_type": "code",
   "execution_count": 62,
   "outputs": [],
   "source": [
    "optimal_k = k_list[cv_scores.index(max(cv_scores))] # find the optimal K value (the one with the highest accuracy)"
   ],
   "metadata": {
    "collapsed": false,
    "ExecuteTime": {
     "start_time": "2023-05-17T15:28:55.260913Z",
     "end_time": "2023-05-17T15:28:55.268891Z"
    }
   }
  },
  {
   "cell_type": "code",
   "execution_count": 63,
   "outputs": [
    {
     "name": "stdout",
     "output_type": "stream",
     "text": [
      "The optimal number of neighbors is 3\n"
     ]
    }
   ],
   "source": [
    "print(\"The optimal number of neighbors is %d\" % optimal_k)"
   ],
   "metadata": {
    "collapsed": false,
    "ExecuteTime": {
     "start_time": "2023-05-17T15:28:55.264902Z",
     "end_time": "2023-05-17T15:28:55.270886Z"
    }
   }
  },
  {
   "cell_type": "code",
   "execution_count": 64,
   "outputs": [
    {
     "data": {
      "text/plain": "KNeighborsClassifier(n_neighbors=3)",
      "text/html": "<style>#sk-container-id-3 {color: black;background-color: white;}#sk-container-id-3 pre{padding: 0;}#sk-container-id-3 div.sk-toggleable {background-color: white;}#sk-container-id-3 label.sk-toggleable__label {cursor: pointer;display: block;width: 100%;margin-bottom: 0;padding: 0.3em;box-sizing: border-box;text-align: center;}#sk-container-id-3 label.sk-toggleable__label-arrow:before {content: \"▸\";float: left;margin-right: 0.25em;color: #696969;}#sk-container-id-3 label.sk-toggleable__label-arrow:hover:before {color: black;}#sk-container-id-3 div.sk-estimator:hover label.sk-toggleable__label-arrow:before {color: black;}#sk-container-id-3 div.sk-toggleable__content {max-height: 0;max-width: 0;overflow: hidden;text-align: left;background-color: #f0f8ff;}#sk-container-id-3 div.sk-toggleable__content pre {margin: 0.2em;color: black;border-radius: 0.25em;background-color: #f0f8ff;}#sk-container-id-3 input.sk-toggleable__control:checked~div.sk-toggleable__content {max-height: 200px;max-width: 100%;overflow: auto;}#sk-container-id-3 input.sk-toggleable__control:checked~label.sk-toggleable__label-arrow:before {content: \"▾\";}#sk-container-id-3 div.sk-estimator input.sk-toggleable__control:checked~label.sk-toggleable__label {background-color: #d4ebff;}#sk-container-id-3 div.sk-label input.sk-toggleable__control:checked~label.sk-toggleable__label {background-color: #d4ebff;}#sk-container-id-3 input.sk-hidden--visually {border: 0;clip: rect(1px 1px 1px 1px);clip: rect(1px, 1px, 1px, 1px);height: 1px;margin: -1px;overflow: hidden;padding: 0;position: absolute;width: 1px;}#sk-container-id-3 div.sk-estimator {font-family: monospace;background-color: #f0f8ff;border: 1px dotted black;border-radius: 0.25em;box-sizing: border-box;margin-bottom: 0.5em;}#sk-container-id-3 div.sk-estimator:hover {background-color: #d4ebff;}#sk-container-id-3 div.sk-parallel-item::after {content: \"\";width: 100%;border-bottom: 1px solid gray;flex-grow: 1;}#sk-container-id-3 div.sk-label:hover label.sk-toggleable__label {background-color: #d4ebff;}#sk-container-id-3 div.sk-serial::before {content: \"\";position: absolute;border-left: 1px solid gray;box-sizing: border-box;top: 0;bottom: 0;left: 50%;z-index: 0;}#sk-container-id-3 div.sk-serial {display: flex;flex-direction: column;align-items: center;background-color: white;padding-right: 0.2em;padding-left: 0.2em;position: relative;}#sk-container-id-3 div.sk-item {position: relative;z-index: 1;}#sk-container-id-3 div.sk-parallel {display: flex;align-items: stretch;justify-content: center;background-color: white;position: relative;}#sk-container-id-3 div.sk-item::before, #sk-container-id-3 div.sk-parallel-item::before {content: \"\";position: absolute;border-left: 1px solid gray;box-sizing: border-box;top: 0;bottom: 0;left: 50%;z-index: -1;}#sk-container-id-3 div.sk-parallel-item {display: flex;flex-direction: column;z-index: 1;position: relative;background-color: white;}#sk-container-id-3 div.sk-parallel-item:first-child::after {align-self: flex-end;width: 50%;}#sk-container-id-3 div.sk-parallel-item:last-child::after {align-self: flex-start;width: 50%;}#sk-container-id-3 div.sk-parallel-item:only-child::after {width: 0;}#sk-container-id-3 div.sk-dashed-wrapped {border: 1px dashed gray;margin: 0 0.4em 0.5em 0.4em;box-sizing: border-box;padding-bottom: 0.4em;background-color: white;}#sk-container-id-3 div.sk-label label {font-family: monospace;font-weight: bold;display: inline-block;line-height: 1.2em;}#sk-container-id-3 div.sk-label-container {text-align: center;}#sk-container-id-3 div.sk-container {/* jupyter's `normalize.less` sets `[hidden] { display: none; }` but bootstrap.min.css set `[hidden] { display: none !important; }` so we also need the `!important` here to be able to override the default hidden behavior on the sphinx rendered scikit-learn.org. See: https://github.com/scikit-learn/scikit-learn/issues/21755 */display: inline-block !important;position: relative;}#sk-container-id-3 div.sk-text-repr-fallback {display: none;}</style><div id=\"sk-container-id-3\" class=\"sk-top-container\"><div class=\"sk-text-repr-fallback\"><pre>KNeighborsClassifier(n_neighbors=3)</pre><b>In a Jupyter environment, please rerun this cell to show the HTML representation or trust the notebook. <br />On GitHub, the HTML representation is unable to render, please try loading this page with nbviewer.org.</b></div><div class=\"sk-container\" hidden><div class=\"sk-item\"><div class=\"sk-estimator sk-toggleable\"><input class=\"sk-toggleable__control sk-hidden--visually\" id=\"sk-estimator-id-3\" type=\"checkbox\" checked><label for=\"sk-estimator-id-3\" class=\"sk-toggleable__label sk-toggleable__label-arrow\">KNeighborsClassifier</label><div class=\"sk-toggleable__content\"><pre>KNeighborsClassifier(n_neighbors=3)</pre></div></div></div></div></div>"
     },
     "execution_count": 64,
     "metadata": {},
     "output_type": "execute_result"
    }
   ],
   "source": [
    "# we will use k = 3 to train our model now based on the results of the cross-validation above\n",
    "knn = KNeighborsClassifier(n_neighbors=optimal_k)\n",
    "knn.fit(X_train_std, y_train) # train the model"
   ],
   "metadata": {
    "collapsed": false,
    "ExecuteTime": {
     "start_time": "2023-05-17T15:28:55.269889Z",
     "end_time": "2023-05-17T15:28:55.275873Z"
    }
   }
  },
  {
   "cell_type": "code",
   "execution_count": 65,
   "outputs": [],
   "source": [
    "# now we can use the model to make predictions on the test data\n",
    "y_pred = knn.predict(X_test_std)"
   ],
   "metadata": {
    "collapsed": false,
    "ExecuteTime": {
     "start_time": "2023-05-17T15:28:55.276871Z",
     "end_time": "2023-05-17T15:28:55.362641Z"
    }
   }
  },
  {
   "cell_type": "code",
   "execution_count": 66,
   "outputs": [
    {
     "name": "stdout",
     "output_type": "stream",
     "text": [
      "Classification Report:\n",
      "               precision    recall  f1-score   support\n",
      "\n",
      "           0       1.00      1.00      1.00        33\n",
      "           1       0.93      1.00      0.97        28\n",
      "           2       0.94      0.97      0.96        33\n",
      "           3       0.97      0.97      0.97        34\n",
      "           4       0.98      1.00      0.99        46\n",
      "           5       0.98      0.96      0.97        47\n",
      "           6       0.97      1.00      0.99        35\n",
      "           7       1.00      0.97      0.99        34\n",
      "           8       0.97      0.93      0.95        30\n",
      "           9       0.95      0.90      0.92        40\n",
      "\n",
      "    accuracy                           0.97       360\n",
      "   macro avg       0.97      0.97      0.97       360\n",
      "weighted avg       0.97      0.97      0.97       360\n",
      "\n",
      "Confusion Matrix:\n",
      " [[33  0  0  0  0  0  0  0  0  0]\n",
      " [ 0 28  0  0  0  0  0  0  0  0]\n",
      " [ 0  1 32  0  0  0  0  0  0  0]\n",
      " [ 0  0  1 33  0  0  0  0  0  0]\n",
      " [ 0  0  0  0 46  0  0  0  0  0]\n",
      " [ 0  0  0  0  0 45  1  0  0  1]\n",
      " [ 0  0  0  0  0  0 35  0  0  0]\n",
      " [ 0  0  0  0  0  0  0 33  0  1]\n",
      " [ 0  1  1  0  0  0  0  0 28  0]\n",
      " [ 0  0  0  1  1  1  0  0  1 36]]\n",
      "Accuracy Score:\n",
      " 0.9694444444444444\n"
     ]
    },
    {
     "data": {
      "text/plain": "<Figure size 900x900 with 2 Axes>",
      "image/png": "[encoded data removed]"
     },
     "metadata": {},
     "output_type": "display_data"
    }
   ],
   "source": [
    "# evaluate the model's performance (we will use multiple metrics)\n",
    "from sklearn.metrics import classification_report, confusion_matrix, accuracy_score\n",
    "import seaborn as sns\n",
    "import matplotlib.pyplot as plt\n",
    "\n",
    "print(\"Classification Report:\\n\", classification_report(y_test, y_pred))\n",
    "print(\"Confusion Matrix:\\n\", confusion_matrix(y_test, y_pred))\n",
    "print(\"Accuracy Score:\\n\", accuracy_score(y_test, y_pred))\n",
    "\n",
    "# plot the confusion matrix\n",
    "cm = confusion_matrix(y_test, y_pred)\n",
    "plt.figure(figsize=(9,9))\n",
    "sns.heatmap(cm, annot=True, fmt=\".3f\", linewidths=.5, square = True, cmap = 'Blues_r');\n",
    "plt.ylabel('Actual label');\n",
    "plt.xlabel('Predicted label');\n",
    "plt.title('Confusion Matrix', size = 15);\n",
    "plt.show()"
   ],
   "metadata": {
    "collapsed": false,
    "ExecuteTime": {
     "start_time": "2023-05-17T15:28:55.305793Z",
     "end_time": "2023-05-17T15:28:55.639901Z"
    }
   }
  },
  {
   "cell_type": "markdown",
   "source": [
    "Explanation:\n",
    "Precision: The ability of the classifier not to label as positive a sample that is negative. For each class it is defined as the ratio of true positives to the sum of true and false positives. High precision means that an algorithm returned substantially more relevant results than irrelevant ones.\n",
    "\n",
    "Recall: The ability of the classifier to find all the positive samples. For each class it is defined as the ratio of true positives to the sum of true positives and false negatives. High recall means that an algorithm returned most of the relevant results.\n",
    "\n",
    "F1-score: The F1 score can be interpreted as a weighted average of the precision and recall, where an F1 score reaches its best value at 1 and worst score at 0. The relative contribution of precision and recall to the F1 score are equal.\n",
    "\n",
    "Support: The number of samples of the true response that lie in that class.\n",
    "\n",
    "Accuracy: T simplest way to evaluate and it is simply a ratio of correctly predicted observation to the total observations. The model above achieved approximately 0.97, which is exceptional.\n",
    "\n",
    "The Confusion Matrix provides a more detailed breakdown of correct and incorrect classifications for each class. The rows of the matrix represent the actual class and the columns represent the predicted class. The diagonal elements represent the number of points for which the predicted label is equal to the true label, while off-diagonal elements are those that are mislabeled by the classifier. The higher the diagonal values of the confusion matrix the better, indicating many correct predictions. The model seems to have a bit more difficulty with digit 9, where it has made a few misclassifications."
   ],
   "metadata": {
    "collapsed": false
   }
  },
  {
   "cell_type": "code",
   "execution_count": 67,
   "outputs": [
    {
     "name": "stdout",
     "output_type": "stream",
     "text": [
      "Number of misclassified samples: 11\n"
     ]
    }
   ],
   "source": [
    "# print the number of misclassified samples (the number of samples for which the predicted class is not equal to the true class)\n",
    "print(\"Number of misclassified samples: %d\" % (y_test != y_pred).sum())"
   ],
   "metadata": {
    "collapsed": false,
    "ExecuteTime": {
     "start_time": "2023-05-17T15:28:55.639901Z",
     "end_time": "2023-05-17T15:28:55.645884Z"
    }
   }
  },
  {
   "cell_type": "code",
   "execution_count": 68,
   "outputs": [
    {
     "name": "stdout",
     "output_type": "stream",
     "text": [
      "Total number of samples: 360\n"
     ]
    }
   ],
   "source": [
    "# print the total number of samples\n",
    "print(\"Total number of samples: %d\" % len(y_test))"
   ],
   "metadata": {
    "collapsed": false,
    "ExecuteTime": {
     "start_time": "2023-05-17T15:28:55.644886Z",
     "end_time": "2023-05-17T15:28:55.648875Z"
    }
   }
  },
  {
   "cell_type": "code",
   "execution_count": 69,
   "outputs": [
    {
     "name": "stdout",
     "output_type": "stream",
     "text": [
      "Error rate: 0.03\n"
     ]
    }
   ],
   "source": [
    "# ratio of misclassified samples to the total number of samples (error rate)\n",
    "print(\"Error rate: %.2f\" % ((y_test != y_pred).sum() / len(y_test)))"
   ],
   "metadata": {
    "collapsed": false,
    "ExecuteTime": {
     "start_time": "2023-05-17T15:28:55.649873Z",
     "end_time": "2023-05-17T15:28:55.655858Z"
    }
   }
  },
  {
   "cell_type": "markdown",
   "source": [
    "The results from week 7 are as follows:\n",
    "\n",
    "KNN:\n",
    "Accuracy of k-NN on original data:  0.975\n",
    "Accuracy of k-NN on PCA-transformed data:  0.6805555555555556\n",
    "\n",
    "SVM with RBF kernel:\n",
    "Accuracy:  0.7277777777777777\n",
    "Classification report:\n",
    "               precision    recall  f1-score   support\n",
    "\n",
    "           0       0.90      0.85      0.88        33\n",
    "           1       0.81      0.79      0.80        28\n",
    "           2       0.87      0.82      0.84        33\n",
    "           3       0.71      0.59      0.65        34\n",
    "           4       0.98      0.93      0.96        46\n",
    "           5       0.37      0.21      0.27        47\n",
    "           6       1.00      0.97      0.99        35\n",
    "           7       0.72      0.82      0.77        34\n",
    "           8       0.45      0.70      0.55        30\n",
    "           9       0.56      0.72      0.63        40\n",
    "\n",
    "    accuracy                           0.73       360\n",
    "   macro avg       0.74      0.74      0.73       360\n",
    "weighted avg       0.73      0.73      0.72       360\n",
    "\n",
    "Best hyperparameters:  {'C': 10, 'gamma': 0.1}"
   ],
   "metadata": {
    "collapsed": false
   }
  },
  {
   "cell_type": "markdown",
   "source": [
    "In comparison to this weeks results they were very similar with 0.97 versus 0.975 on the original data. With PCA transformation using 3 componenets it lowered significantly to 0.68 while SVM with RBF kernel only achieved 0.73 (rounded up to 2 decimal places)."
   ],
   "metadata": {
    "collapsed": false
   }
  },
  {
   "cell_type": "markdown",
   "source": [
    "QUESTION 2"
   ],
   "metadata": {
    "collapsed": false
   }
  },
  {
   "cell_type": "code",
   "execution_count": 70,
   "outputs": [],
   "source": [
    "# now we will use a decision tree algorithm to classify the data in both a 50/50 and 70/30 split and compare the results to the KNN algorithm above in question 1"
   ],
   "metadata": {
    "collapsed": false,
    "ExecuteTime": {
     "start_time": "2023-05-17T15:28:55.655858Z",
     "end_time": "2023-05-17T15:28:55.658848Z"
    }
   }
  },
  {
   "cell_type": "code",
   "execution_count": 71,
   "outputs": [],
   "source": [
    "# re import the data so we can start fresh\n",
    "digits = datasets.load_digits() # load the data again (we will use the original data without PCA transformation)"
   ],
   "metadata": {
    "collapsed": false,
    "ExecuteTime": {
     "start_time": "2023-05-17T15:28:55.659846Z",
     "end_time": "2023-05-17T15:28:55.768564Z"
    }
   }
  },
  {
   "cell_type": "code",
   "execution_count": 72,
   "outputs": [],
   "source": [
    "# split the data into features and target\n",
    "X = digits.data\n",
    "y = digits.target"
   ],
   "metadata": {
    "collapsed": false,
    "ExecuteTime": {
     "start_time": "2023-05-17T15:28:55.679792Z",
     "end_time": "2023-05-17T15:28:55.784512Z"
    }
   }
  },
  {
   "cell_type": "code",
   "execution_count": 73,
   "outputs": [],
   "source": [
    "# in the previous KNN example we used standardization to scale the data, but this is not necessary for decision trees as they are not sensitive to the scale of the features. However, we will still split the data into training and test sets in the desired ratios of 50/50 and 70/30. Decision trees work by recursively splitting the dataset along the feature values that give maximum information gain or impurity reduction. Since the model only considers whether the feature value is above or below a certain threshold, the scale of the feature has no impact on the model's accuracy."
   ],
   "metadata": {
    "collapsed": false,
    "ExecuteTime": {
     "start_time": "2023-05-17T15:28:55.683783Z",
     "end_time": "2023-05-17T15:28:55.784512Z"
    }
   }
  },
  {
   "cell_type": "code",
   "execution_count": 74,
   "outputs": [],
   "source": [
    "# data split: 50-50%\n",
    "X_train_50, X_test_50, y_train_50, y_test_50 = train_test_split(X, y, test_size=0.5, random_state=42)\n",
    "\n",
    "# data split: 70-30%\n",
    "X_train_70, X_test_70, y_train_70, y_test_70 = train_test_split(X, y, test_size=0.3, random_state=42)"
   ],
   "metadata": {
    "collapsed": false,
    "ExecuteTime": {
     "start_time": "2023-05-17T15:28:55.690763Z",
     "end_time": "2023-05-17T15:28:55.785510Z"
    }
   }
  },
  {
   "cell_type": "code",
   "execution_count": 75,
   "outputs": [],
   "source": [
    "from sklearn import datasets\n",
    "from sklearn.tree import DecisionTreeClassifier\n",
    "from sklearn.model_selection import train_test_split\n",
    "from sklearn.metrics import accuracy_score\n",
    "\n",
    "# train the Decision Tree classifiers\n",
    "dt_50 = DecisionTreeClassifier()\n",
    "dt_70 = DecisionTreeClassifier()"
   ],
   "metadata": {
    "collapsed": false,
    "ExecuteTime": {
     "start_time": "2023-05-17T15:28:55.695749Z",
     "end_time": "2023-05-17T15:28:55.785510Z"
    }
   }
  },
  {
   "cell_type": "code",
   "execution_count": 76,
   "outputs": [
    {
     "data": {
      "text/plain": "DecisionTreeClassifier()",
      "text/html": "<style>#sk-container-id-4 {color: black;background-color: white;}#sk-container-id-4 pre{padding: 0;}#sk-container-id-4 div.sk-toggleable {background-color: white;}#sk-container-id-4 label.sk-toggleable__label {cursor: pointer;display: block;width: 100%;margin-bottom: 0;padding: 0.3em;box-sizing: border-box;text-align: center;}#sk-container-id-4 label.sk-toggleable__label-arrow:before {content: \"▸\";float: left;margin-right: 0.25em;color: #696969;}#sk-container-id-4 label.sk-toggleable__label-arrow:hover:before {color: black;}#sk-container-id-4 div.sk-estimator:hover label.sk-toggleable__label-arrow:before {color: black;}#sk-container-id-4 div.sk-toggleable__content {max-height: 0;max-width: 0;overflow: hidden;text-align: left;background-color: #f0f8ff;}#sk-container-id-4 div.sk-toggleable__content pre {margin: 0.2em;color: black;border-radius: 0.25em;background-color: #f0f8ff;}#sk-container-id-4 input.sk-toggleable__control:checked~div.sk-toggleable__content {max-height: 200px;max-width: 100%;overflow: auto;}#sk-container-id-4 input.sk-toggleable__control:checked~label.sk-toggleable__label-arrow:before {content: \"▾\";}#sk-container-id-4 div.sk-estimator input.sk-toggleable__control:checked~label.sk-toggleable__label {background-color: #d4ebff;}#sk-container-id-4 div.sk-label input.sk-toggleable__control:checked~label.sk-toggleable__label {background-color: #d4ebff;}#sk-container-id-4 input.sk-hidden--visually {border: 0;clip: rect(1px 1px 1px 1px);clip: rect(1px, 1px, 1px, 1px);height: 1px;margin: -1px;overflow: hidden;padding: 0;position: absolute;width: 1px;}#sk-container-id-4 div.sk-estimator {font-family: monospace;background-color: #f0f8ff;border: 1px dotted black;border-radius: 0.25em;box-sizing: border-box;margin-bottom: 0.5em;}#sk-container-id-4 div.sk-estimator:hover {background-color: #d4ebff;}#sk-container-id-4 div.sk-parallel-item::after {content: \"\";width: 100%;border-bottom: 1px solid gray;flex-grow: 1;}#sk-container-id-4 div.sk-label:hover label.sk-toggleable__label {background-color: #d4ebff;}#sk-container-id-4 div.sk-serial::before {content: \"\";position: absolute;border-left: 1px solid gray;box-sizing: border-box;top: 0;bottom: 0;left: 50%;z-index: 0;}#sk-container-id-4 div.sk-serial {display: flex;flex-direction: column;align-items: center;background-color: white;padding-right: 0.2em;padding-left: 0.2em;position: relative;}#sk-container-id-4 div.sk-item {position: relative;z-index: 1;}#sk-container-id-4 div.sk-parallel {display: flex;align-items: stretch;justify-content: center;background-color: white;position: relative;}#sk-container-id-4 div.sk-item::before, #sk-container-id-4 div.sk-parallel-item::before {content: \"\";position: absolute;border-left: 1px solid gray;box-sizing: border-box;top: 0;bottom: 0;left: 50%;z-index: -1;}#sk-container-id-4 div.sk-parallel-item {display: flex;flex-direction: column;z-index: 1;position: relative;background-color: white;}#sk-container-id-4 div.sk-parallel-item:first-child::after {align-self: flex-end;width: 50%;}#sk-container-id-4 div.sk-parallel-item:last-child::after {align-self: flex-start;width: 50%;}#sk-container-id-4 div.sk-parallel-item:only-child::after {width: 0;}#sk-container-id-4 div.sk-dashed-wrapped {border: 1px dashed gray;margin: 0 0.4em 0.5em 0.4em;box-sizing: border-box;padding-bottom: 0.4em;background-color: white;}#sk-container-id-4 div.sk-label label {font-family: monospace;font-weight: bold;display: inline-block;line-height: 1.2em;}#sk-container-id-4 div.sk-label-container {text-align: center;}#sk-container-id-4 div.sk-container {/* jupyter's `normalize.less` sets `[hidden] { display: none; }` but bootstrap.min.css set `[hidden] { display: none !important; }` so we also need the `!important` here to be able to override the default hidden behavior on the sphinx rendered scikit-learn.org. See: https://github.com/scikit-learn/scikit-learn/issues/21755 */display: inline-block !important;position: relative;}#sk-container-id-4 div.sk-text-repr-fallback {display: none;}</style><div id=\"sk-container-id-4\" class=\"sk-top-container\"><div class=\"sk-text-repr-fallback\"><pre>DecisionTreeClassifier()</pre><b>In a Jupyter environment, please rerun this cell to show the HTML representation or trust the notebook. <br />On GitHub, the HTML representation is unable to render, please try loading this page with nbviewer.org.</b></div><div class=\"sk-container\" hidden><div class=\"sk-item\"><div class=\"sk-estimator sk-toggleable\"><input class=\"sk-toggleable__control sk-hidden--visually\" id=\"sk-estimator-id-4\" type=\"checkbox\" checked><label for=\"sk-estimator-id-4\" class=\"sk-toggleable__label sk-toggleable__label-arrow\">DecisionTreeClassifier</label><div class=\"sk-toggleable__content\"><pre>DecisionTreeClassifier()</pre></div></div></div></div></div>"
     },
     "execution_count": 76,
     "metadata": {},
     "output_type": "execute_result"
    }
   ],
   "source": [
    "# fit the models\n",
    "dt_50.fit(X_train_50, y_train_50)\n",
    "dt_70.fit(X_train_70, y_train_70)"
   ],
   "metadata": {
    "collapsed": false,
    "ExecuteTime": {
     "start_time": "2023-05-17T15:28:55.701734Z",
     "end_time": "2023-05-17T15:28:55.785510Z"
    }
   }
  },
  {
   "cell_type": "code",
   "execution_count": 77,
   "outputs": [],
   "source": [
    "# make predictions\n",
    "y_pred_50 = dt_50.predict(X_test_50)\n",
    "y_pred_70 = dt_70.predict(X_test_70)"
   ],
   "metadata": {
    "collapsed": false,
    "ExecuteTime": {
     "start_time": "2023-05-17T15:28:55.726667Z",
     "end_time": "2023-05-17T15:28:55.785510Z"
    }
   }
  },
  {
   "cell_type": "code",
   "execution_count": 78,
   "outputs": [
    {
     "name": "stdout",
     "output_type": "stream",
     "text": [
      "Accuracy with 50-50 split: 0.8409343715239155\n",
      "Classification report for 50-50 split:\n",
      "              precision    recall  f1-score   support\n",
      "\n",
      "           0       0.96      0.95      0.96        82\n",
      "           1       0.81      0.74      0.78        89\n",
      "           2       0.82      0.90      0.86        83\n",
      "           3       0.83      0.76      0.79        93\n",
      "           4       0.87      0.89      0.88        93\n",
      "           5       0.78      0.81      0.79        99\n",
      "           6       0.90      0.90      0.90        98\n",
      "           7       0.88      0.93      0.91        87\n",
      "           8       0.73      0.69      0.71        83\n",
      "           9       0.82      0.84      0.83        92\n",
      "\n",
      "    accuracy                           0.84       899\n",
      "   macro avg       0.84      0.84      0.84       899\n",
      "weighted avg       0.84      0.84      0.84       899\n",
      "\n",
      "Confusion matrix for 50-50 split:\n",
      "[[78  1  1  0  0  1  1  0  0  0]\n",
      " [ 2 66  2  1  4  6  4  0  3  1]\n",
      " [ 0  1 75  2  0  0  0  0  5  0]\n",
      " [ 0  1  6 71  0  3  0  1  5  6]\n",
      " [ 0  3  0  0 83  1  2  2  2  0]\n",
      " [ 0  0  1  5  2 80  1  4  1  5]\n",
      " [ 0  1  1  0  3  2 88  0  3  0]\n",
      " [ 0  1  1  0  0  1  0 81  1  2]\n",
      " [ 1  6  2  6  0  4  2  2 57  3]\n",
      " [ 0  1  2  1  3  5  0  2  1 77]]\n",
      "\n",
      "Accuracy with 70-30 split: 0.8425925925925926\n",
      "Classification report for 70-30 split:\n",
      "              precision    recall  f1-score   support\n",
      "\n",
      "           0       1.00      0.89      0.94        53\n",
      "           1       0.74      0.64      0.69        50\n",
      "           2       0.81      0.81      0.81        47\n",
      "           3       0.79      0.83      0.81        54\n",
      "           4       0.79      0.87      0.83        60\n",
      "           5       0.91      0.88      0.89        66\n",
      "           6       0.88      0.92      0.90        53\n",
      "           7       0.82      0.85      0.84        55\n",
      "           8       0.82      0.86      0.84        43\n",
      "           9       0.86      0.85      0.85        59\n",
      "\n",
      "    accuracy                           0.84       540\n",
      "   macro avg       0.84      0.84      0.84       540\n",
      "weighted avg       0.84      0.84      0.84       540\n",
      "\n",
      "Confusion matrix for 70-30 split:\n",
      "[[47  0  0  0  3  1  1  0  0  1]\n",
      " [ 0 32  6  0  5  0  2  2  2  1]\n",
      " [ 0  1 38  3  0  0  1  1  3  0]\n",
      " [ 0  2  0 45  1  1  0  1  1  3]\n",
      " [ 0  3  0  0 52  0  3  2  0  0]\n",
      " [ 0  2  3  2  0 58  0  0  0  1]\n",
      " [ 0  0  0  0  2  0 49  2  0  0]\n",
      " [ 0  1  0  4  2  0  0 47  1  0]\n",
      " [ 0  2  0  1  0  1  0  0 37  2]\n",
      " [ 0  0  0  2  1  3  0  2  1 50]]\n"
     ]
    }
   ],
   "source": [
    "from sklearn.metrics import classification_report, accuracy_score, confusion_matrix\n",
    "\n",
    "# calculate and print accuracy, classification report, and confusion matrix for the 50-50 split\n",
    "accuracy_50 = accuracy_score(y_test_50, y_pred_50)\n",
    "print(\"Accuracy with 50-50 split:\", accuracy_50)\n",
    "\n",
    "report_50 = classification_report(y_test_50, y_pred_50)\n",
    "print(\"Classification report for 50-50 split:\")\n",
    "print(report_50)\n",
    "\n",
    "confusion_50 = confusion_matrix(y_test_50, y_pred_50)\n",
    "print(\"Confusion matrix for 50-50 split:\")\n",
    "print(confusion_50)\n",
    "\n",
    "# do the same for the 70-30 split\n",
    "accuracy_70 = accuracy_score(y_test_70, y_pred_70)\n",
    "print(\"\\nAccuracy with 70-30 split:\", accuracy_70)\n",
    "\n",
    "report_70 = classification_report(y_test_70, y_pred_70)\n",
    "print(\"Classification report for 70-30 split:\")\n",
    "print(report_70)\n",
    "\n",
    "confusion_70 = confusion_matrix(y_test_70, y_pred_70)\n",
    "print(\"Confusion matrix for 70-30 split:\")\n",
    "print(confusion_70)\n"
   ],
   "metadata": {
    "collapsed": false,
    "ExecuteTime": {
     "start_time": "2023-05-17T15:29:57.647472Z",
     "end_time": "2023-05-17T15:29:57.675425Z"
    }
   }
  },
  {
   "cell_type": "markdown",
   "source": [
    "Analysis of the results:\n",
    "\n",
    "For the 50-50 split:\n",
    "The overall accuracy of the model is approximately 84%, which means the model correctly predicted the class 84% of the time.\n",
    "The precision, recall, and F1-score for each class vary. For instance, the model performs best on class 0 with a precision, recall, and F1-score all close to 96%. This means the model is very good at predicting and correctly classifying this class.\n",
    "The model seems to struggle a bit more with class 8, with precision, recall, and F1-score all around 73-71%. This means the model is less accurate and less reliable when predicting this class.\n",
    "The confusion matrix shows that most predictions fall on the diagonal (correct predictions), with some misclassifications. For example, class 3 is sometimes misclassified as class 8 and class 9.\n",
    "\n",
    "For the 70-30 split:\n",
    "The overall accuracy of the model is also approximately 84%, very similar to the 50-50 split model.\n",
    "The precision, recall, and F1-score for each class again vary. The model performs best on class 0 with a precision, recall, and F1-score all close to 100%, 89%, and 94% respectively.\n",
    "The model seems to struggle a bit more with class 1, with precision, recall, and F1-score all around 74-64-69%. This means the model is less accurate and less reliable when predicting this class.\n",
    "The confusion matrix again shows that most predictions fall on the diagonal (correct predictions), with some misclassifications. For example, class 1 is sometimes misclassified as class 2 and class 4.\n",
    "Comparing the two models, the performance is very similar despite the different data splits. This suggests that the model is relatively stable and not overly sensitive to the exact proportion of the data split. However, it's important to note that the model's performance can vary for different classes. In both models, the model performs best on class 0 and struggles more with class 8 or 1. This could be due to the characteristics of the data or the limitations of the Decision Tree algorithm."
   ],
   "metadata": {
    "collapsed": false
   }
  }
 ],
 "metadata": {
  "kernelspec": {
   "display_name": "Python 3",
   "language": "python",
   "name": "python3"
  },
  "language_info": {
   "codemirror_mode": {
    "name": "ipython",
    "version": 2
   },
   "file_extension": ".py",
   "mimetype": "text/x-python",
   "name": "python",
   "nbconvert_exporter": "python",
   "pygments_lexer": "ipython2",
   "version": "2.7.6"
  }
 },
 "nbformat": 4,
 "nbformat_minor": 0
}
