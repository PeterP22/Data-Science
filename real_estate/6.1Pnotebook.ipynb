{
 "cells": [
  {
   "cell_type": "markdown",
   "source": [
    "QUESTION 1:"
   ],
   "metadata": {
    "collapsed": false
   }
  },
  {
   "cell_type": "code",
   "execution_count": 445,
   "metadata": {
    "collapsed": true,
    "ExecuteTime": {
     "start_time": "2023-05-05T15:02:25.631128Z",
     "end_time": "2023-05-05T15:02:25.676594Z"
    }
   },
   "outputs": [],
   "source": [
    "import pandas as pd\n",
    "import numpy as np\n",
    "from sklearn.model_selection import train_test_split\n",
    "from sklearn.linear_model import LinearRegression\n",
    "from sklearn.metrics import mean_squared_error, mean_absolute_error, r2_score, explained_variance_score\n",
    "\n",
    "# Load the dataset\n",
    "data = pd.read_excel(\"Real estate valuation data set.xlsx\")"
   ]
  },
  {
   "cell_type": "code",
   "execution_count": 446,
   "outputs": [
    {
     "data": {
      "text/plain": "   No  X1 transaction date  X2 house age  \\\n0   1          2012.916667          32.0   \n1   2          2012.916667          19.5   \n2   3          2013.583333          13.3   \n3   4          2013.500000          13.3   \n4   5          2012.833333           5.0   \n\n   X3 distance to the nearest MRT station  X4 number of convenience stores  \\\n0                                84.87882                               10   \n1                               306.59470                                9   \n2                               561.98450                                5   \n3                               561.98450                                5   \n4                               390.56840                                5   \n\n   X5 latitude  X6 longitude  Y house price of unit area  \n0     24.98298     121.54024                        37.9  \n1     24.98034     121.53951                        42.2  \n2     24.98746     121.54391                        47.3  \n3     24.98746     121.54391                        54.8  \n4     24.97937     121.54245                        43.1  ",
      "text/html": "<div>\n<style scoped>\n    .dataframe tbody tr th:only-of-type {\n        vertical-align: middle;\n    }\n\n    .dataframe tbody tr th {\n        vertical-align: top;\n    }\n\n    .dataframe thead th {\n        text-align: right;\n    }\n</style>\n<table border=\"1\" class=\"dataframe\">\n  <thead>\n    <tr style=\"text-align: right;\">\n      <th></th>\n      <th>No</th>\n      <th>X1 transaction date</th>\n      <th>X2 house age</th>\n      <th>X3 distance to the nearest MRT station</th>\n      <th>X4 number of convenience stores</th>\n      <th>X5 latitude</th>\n      <th>X6 longitude</th>\n      <th>Y house price of unit area</th>\n    </tr>\n  </thead>\n  <tbody>\n    <tr>\n      <th>0</th>\n      <td>1</td>\n      <td>2012.916667</td>\n      <td>32.0</td>\n      <td>84.87882</td>\n      <td>10</td>\n      <td>24.98298</td>\n      <td>121.54024</td>\n      <td>37.9</td>\n    </tr>\n    <tr>\n      <th>1</th>\n      <td>2</td>\n      <td>2012.916667</td>\n      <td>19.5</td>\n      <td>306.59470</td>\n      <td>9</td>\n      <td>24.98034</td>\n      <td>121.53951</td>\n      <td>42.2</td>\n    </tr>\n    <tr>\n      <th>2</th>\n      <td>3</td>\n      <td>2013.583333</td>\n      <td>13.3</td>\n      <td>561.98450</td>\n      <td>5</td>\n      <td>24.98746</td>\n      <td>121.54391</td>\n      <td>47.3</td>\n    </tr>\n    <tr>\n      <th>3</th>\n      <td>4</td>\n      <td>2013.500000</td>\n      <td>13.3</td>\n      <td>561.98450</td>\n      <td>5</td>\n      <td>24.98746</td>\n      <td>121.54391</td>\n      <td>54.8</td>\n    </tr>\n    <tr>\n      <th>4</th>\n      <td>5</td>\n      <td>2012.833333</td>\n      <td>5.0</td>\n      <td>390.56840</td>\n      <td>5</td>\n      <td>24.97937</td>\n      <td>121.54245</td>\n      <td>43.1</td>\n    </tr>\n  </tbody>\n</table>\n</div>"
     },
     "execution_count": 446,
     "metadata": {},
     "output_type": "execute_result"
    }
   ],
   "source": [
    "# print the first 5 rows of the data\n",
    "data.head()"
   ],
   "metadata": {
    "collapsed": false,
    "ExecuteTime": {
     "start_time": "2023-05-05T15:02:26.376534Z",
     "end_time": "2023-05-05T15:02:26.382710Z"
    }
   }
  },
  {
   "cell_type": "code",
   "execution_count": 447,
   "outputs": [
    {
     "data": {
      "text/plain": "0        1\n1        2\n2        3\n3        4\n4        5\n      ... \n409    410\n410    411\n411    412\n412    413\n413    414\nName: No, Length: 414, dtype: int64"
     },
     "execution_count": 447,
     "metadata": {},
     "output_type": "execute_result"
    }
   ],
   "source": [
    "# print the first column\n",
    "data.iloc[:, 0]"
   ],
   "metadata": {
    "collapsed": false,
    "ExecuteTime": {
     "start_time": "2023-05-05T15:02:27.053973Z",
     "end_time": "2023-05-05T15:02:27.073925Z"
    }
   }
  },
  {
   "cell_type": "code",
   "execution_count": 448,
   "outputs": [
    {
     "data": {
      "text/plain": "0      2012.916667\n1      2012.916667\n2      2013.583333\n3      2013.500000\n4      2012.833333\n          ...     \n409    2013.000000\n410    2012.666667\n411    2013.250000\n412    2013.000000\n413    2013.500000\nName: X1 transaction date, Length: 414, dtype: float64"
     },
     "execution_count": 448,
     "metadata": {},
     "output_type": "execute_result"
    }
   ],
   "source": [
    "# print the second column\n",
    "data.iloc[:, 1]"
   ],
   "metadata": {
    "collapsed": false,
    "ExecuteTime": {
     "start_time": "2023-05-05T15:02:27.612799Z",
     "end_time": "2023-05-05T15:02:27.621479Z"
    }
   }
  },
  {
   "cell_type": "code",
   "execution_count": 449,
   "outputs": [],
   "source": [
    "# Prepare the data (input and output)\n",
    "X = data.iloc[:, 1:7]  # Extract columns 1 to 6 as input\n",
    "y = data.iloc[:, -1] # Extract the last column as output (this is the house price variable)"
   ],
   "metadata": {
    "collapsed": false,
    "ExecuteTime": {
     "start_time": "2023-05-05T15:02:28.131194Z",
     "end_time": "2023-05-05T15:02:28.139705Z"
    }
   }
  },
  {
   "cell_type": "code",
   "execution_count": 450,
   "outputs": [
    {
     "data": {
      "text/plain": "     X1 transaction date  X2 house age  \\\n0            2012.916667          32.0   \n1            2012.916667          19.5   \n2            2013.583333          13.3   \n3            2013.500000          13.3   \n4            2012.833333           5.0   \n..                   ...           ...   \n409          2013.000000          13.7   \n410          2012.666667           5.6   \n411          2013.250000          18.8   \n412          2013.000000           8.1   \n413          2013.500000           6.5   \n\n     X3 distance to the nearest MRT station  X4 number of convenience stores  \\\n0                                  84.87882                               10   \n1                                 306.59470                                9   \n2                                 561.98450                                5   \n3                                 561.98450                                5   \n4                                 390.56840                                5   \n..                                      ...                              ...   \n409                              4082.01500                                0   \n410                                90.45606                                9   \n411                               390.96960                                7   \n412                               104.81010                                5   \n413                                90.45606                                9   \n\n     X5 latitude  X6 longitude  \n0       24.98298     121.54024  \n1       24.98034     121.53951  \n2       24.98746     121.54391  \n3       24.98746     121.54391  \n4       24.97937     121.54245  \n..           ...           ...  \n409     24.94155     121.50381  \n410     24.97433     121.54310  \n411     24.97923     121.53986  \n412     24.96674     121.54067  \n413     24.97433     121.54310  \n\n[414 rows x 6 columns]",
      "text/html": "<div>\n<style scoped>\n    .dataframe tbody tr th:only-of-type {\n        vertical-align: middle;\n    }\n\n    .dataframe tbody tr th {\n        vertical-align: top;\n    }\n\n    .dataframe thead th {\n        text-align: right;\n    }\n</style>\n<table border=\"1\" class=\"dataframe\">\n  <thead>\n    <tr style=\"text-align: right;\">\n      <th></th>\n      <th>X1 transaction date</th>\n      <th>X2 house age</th>\n      <th>X3 distance to the nearest MRT station</th>\n      <th>X4 number of convenience stores</th>\n      <th>X5 latitude</th>\n      <th>X6 longitude</th>\n    </tr>\n  </thead>\n  <tbody>\n    <tr>\n      <th>0</th>\n      <td>2012.916667</td>\n      <td>32.0</td>\n      <td>84.87882</td>\n      <td>10</td>\n      <td>24.98298</td>\n      <td>121.54024</td>\n    </tr>\n    <tr>\n      <th>1</th>\n      <td>2012.916667</td>\n      <td>19.5</td>\n      <td>306.59470</td>\n      <td>9</td>\n      <td>24.98034</td>\n      <td>121.53951</td>\n    </tr>\n    <tr>\n      <th>2</th>\n      <td>2013.583333</td>\n      <td>13.3</td>\n      <td>561.98450</td>\n      <td>5</td>\n      <td>24.98746</td>\n      <td>121.54391</td>\n    </tr>\n    <tr>\n      <th>3</th>\n      <td>2013.500000</td>\n      <td>13.3</td>\n      <td>561.98450</td>\n      <td>5</td>\n      <td>24.98746</td>\n      <td>121.54391</td>\n    </tr>\n    <tr>\n      <th>4</th>\n      <td>2012.833333</td>\n      <td>5.0</td>\n      <td>390.56840</td>\n      <td>5</td>\n      <td>24.97937</td>\n      <td>121.54245</td>\n    </tr>\n    <tr>\n      <th>...</th>\n      <td>...</td>\n      <td>...</td>\n      <td>...</td>\n      <td>...</td>\n      <td>...</td>\n      <td>...</td>\n    </tr>\n    <tr>\n      <th>409</th>\n      <td>2013.000000</td>\n      <td>13.7</td>\n      <td>4082.01500</td>\n      <td>0</td>\n      <td>24.94155</td>\n      <td>121.50381</td>\n    </tr>\n    <tr>\n      <th>410</th>\n      <td>2012.666667</td>\n      <td>5.6</td>\n      <td>90.45606</td>\n      <td>9</td>\n      <td>24.97433</td>\n      <td>121.54310</td>\n    </tr>\n    <tr>\n      <th>411</th>\n      <td>2013.250000</td>\n      <td>18.8</td>\n      <td>390.96960</td>\n      <td>7</td>\n      <td>24.97923</td>\n      <td>121.53986</td>\n    </tr>\n    <tr>\n      <th>412</th>\n      <td>2013.000000</td>\n      <td>8.1</td>\n      <td>104.81010</td>\n      <td>5</td>\n      <td>24.96674</td>\n      <td>121.54067</td>\n    </tr>\n    <tr>\n      <th>413</th>\n      <td>2013.500000</td>\n      <td>6.5</td>\n      <td>90.45606</td>\n      <td>9</td>\n      <td>24.97433</td>\n      <td>121.54310</td>\n    </tr>\n  </tbody>\n</table>\n<p>414 rows × 6 columns</p>\n</div>"
     },
     "execution_count": 450,
     "metadata": {},
     "output_type": "execute_result"
    }
   ],
   "source": [
    "# check X and y\n",
    "X"
   ],
   "metadata": {
    "collapsed": false,
    "ExecuteTime": {
     "start_time": "2023-05-05T15:02:28.852603Z",
     "end_time": "2023-05-05T15:02:28.869770Z"
    }
   }
  },
  {
   "cell_type": "code",
   "execution_count": 451,
   "outputs": [
    {
     "data": {
      "text/plain": "0      37.9\n1      42.2\n2      47.3\n3      54.8\n4      43.1\n       ... \n409    15.4\n410    50.0\n411    40.6\n412    52.5\n413    63.9\nName: Y house price of unit area, Length: 414, dtype: float64"
     },
     "execution_count": 451,
     "metadata": {},
     "output_type": "execute_result"
    }
   ],
   "source": [
    "y"
   ],
   "metadata": {
    "collapsed": false,
    "ExecuteTime": {
     "start_time": "2023-05-05T15:02:29.760436Z",
     "end_time": "2023-05-05T15:02:29.768447Z"
    }
   }
  },
  {
   "cell_type": "code",
   "execution_count": 452,
   "outputs": [],
   "source": [
    "# Split the data into training/testing sets (80% for training and 20% for testing)\n",
    "X_train, X_test, y_train, y_test = train_test_split(X, y, test_size=0.2, random_state=42)"
   ],
   "metadata": {
    "collapsed": false,
    "ExecuteTime": {
     "start_time": "2023-05-05T15:02:30.366588Z",
     "end_time": "2023-05-05T15:02:30.374637Z"
    }
   }
  },
  {
   "cell_type": "code",
   "execution_count": 453,
   "outputs": [
    {
     "name": "stdout",
     "output_type": "stream",
     "text": [
      "X_train size: (331, 6)\n",
      "X_test size: (83, 6)\n",
      "y_train size: (331,)\n",
      "y_test size: (83,)\n"
     ]
    }
   ],
   "source": [
    "# check the size of the training and testing sets\n",
    "print(\"X_train size:\", X_train.shape)\n",
    "print(\"X_test size:\", X_test.shape)\n",
    "print(\"y_train size:\", y_train.shape)\n",
    "print(\"y_test size:\", y_test.shape)"
   ],
   "metadata": {
    "collapsed": false,
    "ExecuteTime": {
     "start_time": "2023-05-05T15:02:30.956850Z",
     "end_time": "2023-05-05T15:02:30.964860Z"
    }
   }
  },
  {
   "cell_type": "code",
   "execution_count": 454,
   "outputs": [],
   "source": [
    "# Create linear regression object\n",
    "model = LinearRegression()"
   ],
   "metadata": {
    "collapsed": false,
    "ExecuteTime": {
     "start_time": "2023-05-05T15:02:31.563427Z",
     "end_time": "2023-05-05T15:02:31.572909Z"
    }
   }
  },
  {
   "cell_type": "code",
   "execution_count": 455,
   "outputs": [
    {
     "data": {
      "text/plain": "LinearRegression()",
      "text/html": "<style>#sk-container-id-29 {color: black;background-color: white;}#sk-container-id-29 pre{padding: 0;}#sk-container-id-29 div.sk-toggleable {background-color: white;}#sk-container-id-29 label.sk-toggleable__label {cursor: pointer;display: block;width: 100%;margin-bottom: 0;padding: 0.3em;box-sizing: border-box;text-align: center;}#sk-container-id-29 label.sk-toggleable__label-arrow:before {content: \"▸\";float: left;margin-right: 0.25em;color: #696969;}#sk-container-id-29 label.sk-toggleable__label-arrow:hover:before {color: black;}#sk-container-id-29 div.sk-estimator:hover label.sk-toggleable__label-arrow:before {color: black;}#sk-container-id-29 div.sk-toggleable__content {max-height: 0;max-width: 0;overflow: hidden;text-align: left;background-color: #f0f8ff;}#sk-container-id-29 div.sk-toggleable__content pre {margin: 0.2em;color: black;border-radius: 0.25em;background-color: #f0f8ff;}#sk-container-id-29 input.sk-toggleable__control:checked~div.sk-toggleable__content {max-height: 200px;max-width: 100%;overflow: auto;}#sk-container-id-29 input.sk-toggleable__control:checked~label.sk-toggleable__label-arrow:before {content: \"▾\";}#sk-container-id-29 div.sk-estimator input.sk-toggleable__control:checked~label.sk-toggleable__label {background-color: #d4ebff;}#sk-container-id-29 div.sk-label input.sk-toggleable__control:checked~label.sk-toggleable__label {background-color: #d4ebff;}#sk-container-id-29 input.sk-hidden--visually {border: 0;clip: rect(1px 1px 1px 1px);clip: rect(1px, 1px, 1px, 1px);height: 1px;margin: -1px;overflow: hidden;padding: 0;position: absolute;width: 1px;}#sk-container-id-29 div.sk-estimator {font-family: monospace;background-color: #f0f8ff;border: 1px dotted black;border-radius: 0.25em;box-sizing: border-box;margin-bottom: 0.5em;}#sk-container-id-29 div.sk-estimator:hover {background-color: #d4ebff;}#sk-container-id-29 div.sk-parallel-item::after {content: \"\";width: 100%;border-bottom: 1px solid gray;flex-grow: 1;}#sk-container-id-29 div.sk-label:hover label.sk-toggleable__label {background-color: #d4ebff;}#sk-container-id-29 div.sk-serial::before {content: \"\";position: absolute;border-left: 1px solid gray;box-sizing: border-box;top: 0;bottom: 0;left: 50%;z-index: 0;}#sk-container-id-29 div.sk-serial {display: flex;flex-direction: column;align-items: center;background-color: white;padding-right: 0.2em;padding-left: 0.2em;position: relative;}#sk-container-id-29 div.sk-item {position: relative;z-index: 1;}#sk-container-id-29 div.sk-parallel {display: flex;align-items: stretch;justify-content: center;background-color: white;position: relative;}#sk-container-id-29 div.sk-item::before, #sk-container-id-29 div.sk-parallel-item::before {content: \"\";position: absolute;border-left: 1px solid gray;box-sizing: border-box;top: 0;bottom: 0;left: 50%;z-index: -1;}#sk-container-id-29 div.sk-parallel-item {display: flex;flex-direction: column;z-index: 1;position: relative;background-color: white;}#sk-container-id-29 div.sk-parallel-item:first-child::after {align-self: flex-end;width: 50%;}#sk-container-id-29 div.sk-parallel-item:last-child::after {align-self: flex-start;width: 50%;}#sk-container-id-29 div.sk-parallel-item:only-child::after {width: 0;}#sk-container-id-29 div.sk-dashed-wrapped {border: 1px dashed gray;margin: 0 0.4em 0.5em 0.4em;box-sizing: border-box;padding-bottom: 0.4em;background-color: white;}#sk-container-id-29 div.sk-label label {font-family: monospace;font-weight: bold;display: inline-block;line-height: 1.2em;}#sk-container-id-29 div.sk-label-container {text-align: center;}#sk-container-id-29 div.sk-container {/* jupyter's `normalize.less` sets `[hidden] { display: none; }` but bootstrap.min.css set `[hidden] { display: none !important; }` so we also need the `!important` here to be able to override the default hidden behavior on the sphinx rendered scikit-learn.org. See: https://github.com/scikit-learn/scikit-learn/issues/21755 */display: inline-block !important;position: relative;}#sk-container-id-29 div.sk-text-repr-fallback {display: none;}</style><div id=\"sk-container-id-29\" class=\"sk-top-container\"><div class=\"sk-text-repr-fallback\"><pre>LinearRegression()</pre><b>In a Jupyter environment, please rerun this cell to show the HTML representation or trust the notebook. <br />On GitHub, the HTML representation is unable to render, please try loading this page with nbviewer.org.</b></div><div class=\"sk-container\" hidden><div class=\"sk-item\"><div class=\"sk-estimator sk-toggleable\"><input class=\"sk-toggleable__control sk-hidden--visually\" id=\"sk-estimator-id-29\" type=\"checkbox\" checked><label for=\"sk-estimator-id-29\" class=\"sk-toggleable__label sk-toggleable__label-arrow\">LinearRegression</label><div class=\"sk-toggleable__content\"><pre>LinearRegression()</pre></div></div></div></div></div>"
     },
     "execution_count": 455,
     "metadata": {},
     "output_type": "execute_result"
    }
   ],
   "source": [
    "# Fit the model using the training sets\n",
    "model.fit(X_train, y_train)"
   ],
   "metadata": {
    "collapsed": false,
    "ExecuteTime": {
     "start_time": "2023-05-05T15:02:32.052838Z",
     "end_time": "2023-05-05T15:02:32.059799Z"
    }
   }
  },
  {
   "cell_type": "code",
   "execution_count": 456,
   "outputs": [],
   "source": [
    "# Make predictions using the testing set\n",
    "y_pred = model.predict(X_test)"
   ],
   "metadata": {
    "collapsed": false,
    "ExecuteTime": {
     "start_time": "2023-05-05T15:02:32.637275Z",
     "end_time": "2023-05-05T15:02:32.645254Z"
    }
   }
  },
  {
   "cell_type": "code",
   "execution_count": 457,
   "outputs": [
    {
     "name": "stdout",
     "output_type": "stream",
     "text": [
      "Mean squared error (MSE): 53.50\n",
      "Mean absolute error (MAE): 5.31\n",
      "Coefficient of determination (R2): 0.68\n",
      "Explained variance score (EVS): 0.68\n"
     ]
    }
   ],
   "source": [
    "# check the predicted values via performance metrics (MSE, MAE, R2, EVS)\n",
    "print(\"Mean squared error (MSE): %.2f\" % mean_squared_error(y_test, y_pred))\n",
    "print(\"Mean absolute error (MAE): %.2f\" % mean_absolute_error(y_test, y_pred))\n",
    "print(\"Coefficient of determination (R2): %.2f\" % r2_score(y_test, y_pred))\n",
    "print(\"Explained variance score (EVS): %.2f\" % explained_variance_score(y_test, y_pred))"
   ],
   "metadata": {
    "collapsed": false,
    "ExecuteTime": {
     "start_time": "2023-05-05T15:02:33.333479Z",
     "end_time": "2023-05-05T15:02:33.342255Z"
    }
   }
  },
  {
   "cell_type": "markdown",
   "source": [
    "Results:\n",
    "Mean Squared Error (MSE): 53.50\n",
    "The MSE measures the average squared difference between the predicted and actual house prices. An MSE of 53.50 means that, on average, the model's predictions are off by the square root of 53.50 (which is approximately 7.31) multiplied by the unit of the target variable (10000 New Taiwan Dollar/Ping). The lower the MSE, the better the model's performance. However, the MSE is sensitive to outliers, as it squares the errors.\n",
    "\n",
    "Mean Absolute Error (MAE): 5.31\n",
    "The MAE measures the average absolute difference between the predicted and actual house prices. An MAE of 5.31 means that, on average, the model's predictions are off by 5.31 multiplied by the unit of the target variable (10000 New Taiwan Dollar/Ping). The MAE is less sensitive to outliers compared to the MSE and provides a more interpretable measure of the model's performance.\n",
    "\n",
    "Coefficient of Determination (R2): 0.68\n",
    "The R2 score is a measure of how well the model's predictions match the variance of the actual house prices. An R2 score of 0.68 indicates that the model explains 68% of the variance in the house prices. Generally, an R2 score closer to 1 indicates a better model fit. However, a high R2 score alone doesn't guarantee a good model, as it can be affected by the number of predictors used in the model.\n",
    "\n",
    "Explained Variance Score (EVS): 0.68\n",
    "The EVS measures the proportion of the total variance in the actual house prices that is explained by the model. An EVS of 0.68 indicates that 68% of the variance in the house prices can be explained by the model's predictions. Similar to the R2 score, a higher EVS indicates a better model fit.\n",
    "\n",
    "In conclusion, the linear regression model seems to have a moderate performance in predicting house prices, as it explains 68% of the variance in the house prices. However, there's room for improvement."
   ],
   "metadata": {
    "collapsed": false
   }
  },
  {
   "cell_type": "code",
   "execution_count": 458,
   "outputs": [
    {
     "data": {
      "text/plain": "<Figure size 640x480 with 1 Axes>",
      "image/png": "[encoded data removed]"
     },
     "metadata": {},
     "output_type": "display_data"
    }
   ],
   "source": [
    "import matplotlib.pyplot as plt\n",
    "\n",
    "# Plot actual vs predicted house prices\n",
    "plt.scatter(y_test, y_pred)\n",
    "plt.xlabel(\"Actual House Prices\")\n",
    "plt.ylabel(\"Predicted House Prices\")\n",
    "plt.title(\"Actual vs Predicted House Prices\")\n",
    "\n",
    "# Add a diagonal line representing perfect predictions\n",
    "diagonal_line = np.linspace(min(y_test.min(), y_pred.min()), max(y_test.max(), y_pred.max()), 100)\n",
    "plt.plot(diagonal_line, diagonal_line, color='red', linestyle='--')\n",
    "\n",
    "plt.show()"
   ],
   "metadata": {
    "collapsed": false,
    "ExecuteTime": {
     "start_time": "2023-05-05T15:02:35.216498Z",
     "end_time": "2023-05-05T15:02:35.358167Z"
    }
   }
  },
  {
   "cell_type": "markdown",
   "source": [
    "The graph above of a scatterplot shows actual vs predicted house prices with the diagonal red line being a representation of what a perfect/ideal prediction would look like. The closer the scatterplot points are to the red line, the better the model is at predicting house prices."
   ],
   "metadata": {
    "collapsed": false
   }
  },
  {
   "cell_type": "markdown",
   "source": [
    "QUESTION 2: Applying PCA (Principal Component Analysis) to the dataset with the first 3 components, and then applying linear regression to the transformed data. Compare the results with the previous model. Let's see which model is better!"
   ],
   "metadata": {
    "collapsed": false
   }
  },
  {
   "cell_type": "code",
   "execution_count": 459,
   "outputs": [],
   "source": [
    "from sklearn.decomposition import PCA\n",
    "# Apply PCA and keep the first 3 components\n",
    "pca = PCA(n_components=3)\n",
    "X_pca = pca.fit_transform(X) # Transform the input data"
   ],
   "metadata": {
    "collapsed": false,
    "ExecuteTime": {
     "start_time": "2023-05-05T15:02:38.537308Z",
     "end_time": "2023-05-05T15:02:38.568786Z"
    }
   }
  },
  {
   "cell_type": "code",
   "execution_count": 460,
   "outputs": [
    {
     "data": {
      "text/plain": "(414, 3)"
     },
     "execution_count": 460,
     "metadata": {},
     "output_type": "execute_result"
    }
   ],
   "source": [
    "# check the shape of the transformed data\n",
    "X_pca.shape"
   ],
   "metadata": {
    "collapsed": false,
    "ExecuteTime": {
     "start_time": "2023-05-05T15:02:39.241629Z",
     "end_time": "2023-05-05T15:02:39.251152Z"
    }
   }
  },
  {
   "cell_type": "code",
   "execution_count": 461,
   "outputs": [],
   "source": [
    "# Split the data into training/testing sets (80% for training and 20% for testing)\n",
    "X_train_pca, X_test_pca, y_train_pca, y_test_pca = train_test_split(X_pca, y, test_size=0.2, random_state=42)"
   ],
   "metadata": {
    "collapsed": false,
    "ExecuteTime": {
     "start_time": "2023-05-05T15:02:39.877561Z",
     "end_time": "2023-05-05T15:02:39.886094Z"
    }
   }
  },
  {
   "cell_type": "code",
   "execution_count": 462,
   "outputs": [],
   "source": [
    "# Create linear regression object\n",
    "model_pca = LinearRegression()"
   ],
   "metadata": {
    "collapsed": false,
    "ExecuteTime": {
     "start_time": "2023-05-05T15:02:40.481898Z",
     "end_time": "2023-05-05T15:02:40.491381Z"
    }
   }
  },
  {
   "cell_type": "code",
   "execution_count": 463,
   "outputs": [
    {
     "data": {
      "text/plain": "LinearRegression()",
      "text/html": "<style>#sk-container-id-30 {color: black;background-color: white;}#sk-container-id-30 pre{padding: 0;}#sk-container-id-30 div.sk-toggleable {background-color: white;}#sk-container-id-30 label.sk-toggleable__label {cursor: pointer;display: block;width: 100%;margin-bottom: 0;padding: 0.3em;box-sizing: border-box;text-align: center;}#sk-container-id-30 label.sk-toggleable__label-arrow:before {content: \"▸\";float: left;margin-right: 0.25em;color: #696969;}#sk-container-id-30 label.sk-toggleable__label-arrow:hover:before {color: black;}#sk-container-id-30 div.sk-estimator:hover label.sk-toggleable__label-arrow:before {color: black;}#sk-container-id-30 div.sk-toggleable__content {max-height: 0;max-width: 0;overflow: hidden;text-align: left;background-color: #f0f8ff;}#sk-container-id-30 div.sk-toggleable__content pre {margin: 0.2em;color: black;border-radius: 0.25em;background-color: #f0f8ff;}#sk-container-id-30 input.sk-toggleable__control:checked~div.sk-toggleable__content {max-height: 200px;max-width: 100%;overflow: auto;}#sk-container-id-30 input.sk-toggleable__control:checked~label.sk-toggleable__label-arrow:before {content: \"▾\";}#sk-container-id-30 div.sk-estimator input.sk-toggleable__control:checked~label.sk-toggleable__label {background-color: #d4ebff;}#sk-container-id-30 div.sk-label input.sk-toggleable__control:checked~label.sk-toggleable__label {background-color: #d4ebff;}#sk-container-id-30 input.sk-hidden--visually {border: 0;clip: rect(1px 1px 1px 1px);clip: rect(1px, 1px, 1px, 1px);height: 1px;margin: -1px;overflow: hidden;padding: 0;position: absolute;width: 1px;}#sk-container-id-30 div.sk-estimator {font-family: monospace;background-color: #f0f8ff;border: 1px dotted black;border-radius: 0.25em;box-sizing: border-box;margin-bottom: 0.5em;}#sk-container-id-30 div.sk-estimator:hover {background-color: #d4ebff;}#sk-container-id-30 div.sk-parallel-item::after {content: \"\";width: 100%;border-bottom: 1px solid gray;flex-grow: 1;}#sk-container-id-30 div.sk-label:hover label.sk-toggleable__label {background-color: #d4ebff;}#sk-container-id-30 div.sk-serial::before {content: \"\";position: absolute;border-left: 1px solid gray;box-sizing: border-box;top: 0;bottom: 0;left: 50%;z-index: 0;}#sk-container-id-30 div.sk-serial {display: flex;flex-direction: column;align-items: center;background-color: white;padding-right: 0.2em;padding-left: 0.2em;position: relative;}#sk-container-id-30 div.sk-item {position: relative;z-index: 1;}#sk-container-id-30 div.sk-parallel {display: flex;align-items: stretch;justify-content: center;background-color: white;position: relative;}#sk-container-id-30 div.sk-item::before, #sk-container-id-30 div.sk-parallel-item::before {content: \"\";position: absolute;border-left: 1px solid gray;box-sizing: border-box;top: 0;bottom: 0;left: 50%;z-index: -1;}#sk-container-id-30 div.sk-parallel-item {display: flex;flex-direction: column;z-index: 1;position: relative;background-color: white;}#sk-container-id-30 div.sk-parallel-item:first-child::after {align-self: flex-end;width: 50%;}#sk-container-id-30 div.sk-parallel-item:last-child::after {align-self: flex-start;width: 50%;}#sk-container-id-30 div.sk-parallel-item:only-child::after {width: 0;}#sk-container-id-30 div.sk-dashed-wrapped {border: 1px dashed gray;margin: 0 0.4em 0.5em 0.4em;box-sizing: border-box;padding-bottom: 0.4em;background-color: white;}#sk-container-id-30 div.sk-label label {font-family: monospace;font-weight: bold;display: inline-block;line-height: 1.2em;}#sk-container-id-30 div.sk-label-container {text-align: center;}#sk-container-id-30 div.sk-container {/* jupyter's `normalize.less` sets `[hidden] { display: none; }` but bootstrap.min.css set `[hidden] { display: none !important; }` so we also need the `!important` here to be able to override the default hidden behavior on the sphinx rendered scikit-learn.org. See: https://github.com/scikit-learn/scikit-learn/issues/21755 */display: inline-block !important;position: relative;}#sk-container-id-30 div.sk-text-repr-fallback {display: none;}</style><div id=\"sk-container-id-30\" class=\"sk-top-container\"><div class=\"sk-text-repr-fallback\"><pre>LinearRegression()</pre><b>In a Jupyter environment, please rerun this cell to show the HTML representation or trust the notebook. <br />On GitHub, the HTML representation is unable to render, please try loading this page with nbviewer.org.</b></div><div class=\"sk-container\" hidden><div class=\"sk-item\"><div class=\"sk-estimator sk-toggleable\"><input class=\"sk-toggleable__control sk-hidden--visually\" id=\"sk-estimator-id-30\" type=\"checkbox\" checked><label for=\"sk-estimator-id-30\" class=\"sk-toggleable__label sk-toggleable__label-arrow\">LinearRegression</label><div class=\"sk-toggleable__content\"><pre>LinearRegression()</pre></div></div></div></div></div>"
     },
     "execution_count": 463,
     "metadata": {},
     "output_type": "execute_result"
    }
   ],
   "source": [
    "# Fit the model using the training sets\n",
    "model_pca.fit(X_train_pca, y_train_pca)"
   ],
   "metadata": {
    "collapsed": false,
    "ExecuteTime": {
     "start_time": "2023-05-05T15:02:41.355980Z",
     "end_time": "2023-05-05T15:02:41.366979Z"
    }
   }
  },
  {
   "cell_type": "code",
   "execution_count": 464,
   "outputs": [],
   "source": [
    "# Make predictions using the testing set\n",
    "y_pred_pca = model_pca.predict(X_test_pca)"
   ],
   "metadata": {
    "collapsed": false,
    "ExecuteTime": {
     "start_time": "2023-05-05T15:02:41.900403Z",
     "end_time": "2023-05-05T15:02:41.911903Z"
    }
   }
  },
  {
   "cell_type": "code",
   "execution_count": 465,
   "outputs": [
    {
     "name": "stdout",
     "output_type": "stream",
     "text": [
      "Mean squared error (MSE): 58.88\n",
      "Mean absolute error (MAE): 5.63\n",
      "Coefficient of determination (R2): 0.65\n",
      "Explained variance score (EVS): 0.65\n"
     ]
    }
   ],
   "source": [
    "# check the predicted values via performance metrics (MSE, MAE, R2, EVS)\n",
    "print(\"Mean squared error (MSE): %.2f\" % mean_squared_error(y_test_pca, y_pred_pca))\n",
    "print(\"Mean absolute error (MAE): %.2f\" % mean_absolute_error(y_test_pca, y_pred_pca))\n",
    "print(\"Coefficient of determination (R2): %.2f\" % r2_score(y_test_pca, y_pred_pca))\n",
    "print(\"Explained variance score (EVS): %.2f\" % explained_variance_score(y_test_pca, y_pred_pca))"
   ],
   "metadata": {
    "collapsed": false,
    "ExecuteTime": {
     "start_time": "2023-05-05T15:02:42.769088Z",
     "end_time": "2023-05-05T15:02:42.780116Z"
    }
   }
  },
  {
   "cell_type": "markdown",
   "source": [
    "The PCA-transformed model shows slightly worse performance compared to the original model. The Mean Squared Error increased from 53.50 to 58.88, and the Mean Absolute Error increased from 5.31 to 5.63. The R^2 Score and Explained Variance Score decreased from 0.68 to 0.65.\n",
    "\n",
    "These results suggest that the first three principal components capture most of the relevant information for predicting house prices but not all of it. By using PCA, the model's performance decreased slightly, as some information was lost during the dimensionality reduction process. However, the performance drop is not very significant, indicating that the PCA-transformed model still captures a considerable amount of information required for prediction."
   ],
   "metadata": {
    "collapsed": false
   }
  },
  {
   "cell_type": "markdown",
   "source": [
    "QUESTION 3: Iris dataset from https://scikit-learn.org/stable/modules/generated/sklearn.linear_model.LogisticRegression.html"
   ],
   "metadata": {
    "collapsed": false
   }
  },
  {
   "cell_type": "code",
   "execution_count": 466,
   "outputs": [],
   "source": [
    "from sklearn.datasets import load_iris\n",
    "from sklearn.preprocessing import StandardScaler\n",
    "from sklearn.linear_model import LogisticRegression\n",
    "from sklearn.metrics import accuracy_score, precision_score, recall_score, f1_score\n",
    "\n",
    "# Load the iris dataset\n",
    "iris = load_iris()"
   ],
   "metadata": {
    "collapsed": false,
    "ExecuteTime": {
     "start_time": "2023-05-05T15:02:45.099005Z",
     "end_time": "2023-05-05T15:02:45.107236Z"
    }
   }
  },
  {
   "cell_type": "code",
   "execution_count": 467,
   "outputs": [
    {
     "name": "stdout",
     "output_type": "stream",
     "text": [
      "Sample 0 - Class: 0 (setosa)\n",
      "Sample 1 - Class: 0 (setosa)\n",
      "Sample 2 - Class: 0 (setosa)\n",
      "Sample 3 - Class: 0 (setosa)\n",
      "Sample 4 - Class: 0 (setosa)\n",
      "Sample 5 - Class: 0 (setosa)\n",
      "Sample 6 - Class: 0 (setosa)\n",
      "Sample 7 - Class: 0 (setosa)\n",
      "Sample 8 - Class: 0 (setosa)\n",
      "Sample 9 - Class: 0 (setosa)\n",
      "Sample 10 - Class: 0 (setosa)\n",
      "Sample 11 - Class: 0 (setosa)\n",
      "Sample 12 - Class: 0 (setosa)\n",
      "Sample 13 - Class: 0 (setosa)\n",
      "Sample 14 - Class: 0 (setosa)\n",
      "Sample 15 - Class: 0 (setosa)\n",
      "Sample 16 - Class: 0 (setosa)\n",
      "Sample 17 - Class: 0 (setosa)\n",
      "Sample 18 - Class: 0 (setosa)\n",
      "Sample 19 - Class: 0 (setosa)\n",
      "Sample 20 - Class: 0 (setosa)\n",
      "Sample 21 - Class: 0 (setosa)\n",
      "Sample 22 - Class: 0 (setosa)\n",
      "Sample 23 - Class: 0 (setosa)\n",
      "Sample 24 - Class: 0 (setosa)\n",
      "Sample 25 - Class: 0 (setosa)\n",
      "Sample 26 - Class: 0 (setosa)\n",
      "Sample 27 - Class: 0 (setosa)\n",
      "Sample 28 - Class: 0 (setosa)\n",
      "Sample 29 - Class: 0 (setosa)\n",
      "Sample 30 - Class: 0 (setosa)\n",
      "Sample 31 - Class: 0 (setosa)\n",
      "Sample 32 - Class: 0 (setosa)\n",
      "Sample 33 - Class: 0 (setosa)\n",
      "Sample 34 - Class: 0 (setosa)\n",
      "Sample 35 - Class: 0 (setosa)\n",
      "Sample 36 - Class: 0 (setosa)\n",
      "Sample 37 - Class: 0 (setosa)\n",
      "Sample 38 - Class: 0 (setosa)\n",
      "Sample 39 - Class: 0 (setosa)\n",
      "Sample 40 - Class: 0 (setosa)\n",
      "Sample 41 - Class: 0 (setosa)\n",
      "Sample 42 - Class: 0 (setosa)\n",
      "Sample 43 - Class: 0 (setosa)\n",
      "Sample 44 - Class: 0 (setosa)\n",
      "Sample 45 - Class: 0 (setosa)\n",
      "Sample 46 - Class: 0 (setosa)\n",
      "Sample 47 - Class: 0 (setosa)\n",
      "Sample 48 - Class: 0 (setosa)\n",
      "Sample 49 - Class: 0 (setosa)\n",
      "Sample 50 - Class: 1 (versicolor)\n",
      "Sample 51 - Class: 1 (versicolor)\n",
      "Sample 52 - Class: 1 (versicolor)\n",
      "Sample 53 - Class: 1 (versicolor)\n",
      "Sample 54 - Class: 1 (versicolor)\n",
      "Sample 55 - Class: 1 (versicolor)\n",
      "Sample 56 - Class: 1 (versicolor)\n",
      "Sample 57 - Class: 1 (versicolor)\n",
      "Sample 58 - Class: 1 (versicolor)\n",
      "Sample 59 - Class: 1 (versicolor)\n",
      "Sample 60 - Class: 1 (versicolor)\n",
      "Sample 61 - Class: 1 (versicolor)\n",
      "Sample 62 - Class: 1 (versicolor)\n",
      "Sample 63 - Class: 1 (versicolor)\n",
      "Sample 64 - Class: 1 (versicolor)\n",
      "Sample 65 - Class: 1 (versicolor)\n",
      "Sample 66 - Class: 1 (versicolor)\n",
      "Sample 67 - Class: 1 (versicolor)\n",
      "Sample 68 - Class: 1 (versicolor)\n",
      "Sample 69 - Class: 1 (versicolor)\n",
      "Sample 70 - Class: 1 (versicolor)\n",
      "Sample 71 - Class: 1 (versicolor)\n",
      "Sample 72 - Class: 1 (versicolor)\n",
      "Sample 73 - Class: 1 (versicolor)\n",
      "Sample 74 - Class: 1 (versicolor)\n",
      "Sample 75 - Class: 1 (versicolor)\n",
      "Sample 76 - Class: 1 (versicolor)\n",
      "Sample 77 - Class: 1 (versicolor)\n",
      "Sample 78 - Class: 1 (versicolor)\n",
      "Sample 79 - Class: 1 (versicolor)\n",
      "Sample 80 - Class: 1 (versicolor)\n",
      "Sample 81 - Class: 1 (versicolor)\n",
      "Sample 82 - Class: 1 (versicolor)\n",
      "Sample 83 - Class: 1 (versicolor)\n",
      "Sample 84 - Class: 1 (versicolor)\n",
      "Sample 85 - Class: 1 (versicolor)\n",
      "Sample 86 - Class: 1 (versicolor)\n",
      "Sample 87 - Class: 1 (versicolor)\n",
      "Sample 88 - Class: 1 (versicolor)\n",
      "Sample 89 - Class: 1 (versicolor)\n",
      "Sample 90 - Class: 1 (versicolor)\n",
      "Sample 91 - Class: 1 (versicolor)\n",
      "Sample 92 - Class: 1 (versicolor)\n",
      "Sample 93 - Class: 1 (versicolor)\n",
      "Sample 94 - Class: 1 (versicolor)\n",
      "Sample 95 - Class: 1 (versicolor)\n",
      "Sample 96 - Class: 1 (versicolor)\n",
      "Sample 97 - Class: 1 (versicolor)\n",
      "Sample 98 - Class: 1 (versicolor)\n",
      "Sample 99 - Class: 1 (versicolor)\n",
      "Sample 100 - Class: 2 (virginica)\n",
      "Sample 101 - Class: 2 (virginica)\n",
      "Sample 102 - Class: 2 (virginica)\n",
      "Sample 103 - Class: 2 (virginica)\n",
      "Sample 104 - Class: 2 (virginica)\n",
      "Sample 105 - Class: 2 (virginica)\n",
      "Sample 106 - Class: 2 (virginica)\n",
      "Sample 107 - Class: 2 (virginica)\n",
      "Sample 108 - Class: 2 (virginica)\n",
      "Sample 109 - Class: 2 (virginica)\n",
      "Sample 110 - Class: 2 (virginica)\n",
      "Sample 111 - Class: 2 (virginica)\n",
      "Sample 112 - Class: 2 (virginica)\n",
      "Sample 113 - Class: 2 (virginica)\n",
      "Sample 114 - Class: 2 (virginica)\n",
      "Sample 115 - Class: 2 (virginica)\n",
      "Sample 116 - Class: 2 (virginica)\n",
      "Sample 117 - Class: 2 (virginica)\n",
      "Sample 118 - Class: 2 (virginica)\n",
      "Sample 119 - Class: 2 (virginica)\n",
      "Sample 120 - Class: 2 (virginica)\n",
      "Sample 121 - Class: 2 (virginica)\n",
      "Sample 122 - Class: 2 (virginica)\n",
      "Sample 123 - Class: 2 (virginica)\n",
      "Sample 124 - Class: 2 (virginica)\n",
      "Sample 125 - Class: 2 (virginica)\n",
      "Sample 126 - Class: 2 (virginica)\n",
      "Sample 127 - Class: 2 (virginica)\n",
      "Sample 128 - Class: 2 (virginica)\n",
      "Sample 129 - Class: 2 (virginica)\n",
      "Sample 130 - Class: 2 (virginica)\n",
      "Sample 131 - Class: 2 (virginica)\n",
      "Sample 132 - Class: 2 (virginica)\n",
      "Sample 133 - Class: 2 (virginica)\n",
      "Sample 134 - Class: 2 (virginica)\n",
      "Sample 135 - Class: 2 (virginica)\n",
      "Sample 136 - Class: 2 (virginica)\n",
      "Sample 137 - Class: 2 (virginica)\n",
      "Sample 138 - Class: 2 (virginica)\n",
      "Sample 139 - Class: 2 (virginica)\n",
      "Sample 140 - Class: 2 (virginica)\n",
      "Sample 141 - Class: 2 (virginica)\n",
      "Sample 142 - Class: 2 (virginica)\n",
      "Sample 143 - Class: 2 (virginica)\n",
      "Sample 144 - Class: 2 (virginica)\n",
      "Sample 145 - Class: 2 (virginica)\n",
      "Sample 146 - Class: 2 (virginica)\n",
      "Sample 147 - Class: 2 (virginica)\n",
      "Sample 148 - Class: 2 (virginica)\n",
      "Sample 149 - Class: 2 (virginica)\n"
     ]
    }
   ],
   "source": [
    "# Print the labels for the target classes\n",
    "for i in range(len(iris.target)):\n",
    "    print(\"Sample %d - Class: %d (%s)\" % (i, iris.target[i], iris.target_names[iris.target[i]]))"
   ],
   "metadata": {
    "collapsed": false,
    "ExecuteTime": {
     "start_time": "2023-05-05T15:02:45.793149Z",
     "end_time": "2023-05-05T15:02:45.801199Z"
    }
   }
  },
  {
   "cell_type": "code",
   "execution_count": 468,
   "outputs": [
    {
     "name": "stdout",
     "output_type": "stream",
     "text": [
      "   sepal length (cm)  sepal width (cm)  petal length (cm)  petal width (cm)\n",
      "0                5.1               3.5                1.4               0.2\n",
      "1                4.9               3.0                1.4               0.2\n",
      "2                4.7               3.2                1.3               0.2\n",
      "3                4.6               3.1                1.5               0.2\n",
      "4                5.0               3.6                1.4               0.2\n"
     ]
    }
   ],
   "source": [
    "# Convert iris.data to a pandas dataframe\n",
    "data = pd.DataFrame(iris.data, columns=iris.feature_names)\n",
    "\n",
    "# See the first 5 rows of the dataframe\n",
    "print(data.head())"
   ],
   "metadata": {
    "collapsed": false,
    "ExecuteTime": {
     "start_time": "2023-05-05T15:02:46.735891Z",
     "end_time": "2023-05-05T15:02:46.742294Z"
    }
   }
  },
  {
   "cell_type": "code",
   "execution_count": 469,
   "outputs": [
    {
     "name": "stdout",
     "output_type": "stream",
     "text": [
      "(150, 4)\n"
     ]
    }
   ],
   "source": [
    "# print the number of rows and columns\n",
    "print(data.shape)"
   ],
   "metadata": {
    "collapsed": false,
    "ExecuteTime": {
     "start_time": "2023-05-05T15:02:47.471741Z",
     "end_time": "2023-05-05T15:02:47.480005Z"
    }
   }
  },
  {
   "cell_type": "markdown",
   "source": [
    "The iris dataset contains 150 rows and 4 columns. The 4 columns are the features (sepal length, sepal width, petal length, and petal width) and the 150 rows are the samples. The dataset contains no missing values."
   ],
   "metadata": {
    "collapsed": false
   }
  },
  {
   "cell_type": "markdown",
   "source": [
    "There are 4 features and 3 classes. We will use all 4 features to predict the class of the iris flower (setosa, versicolor, or virginica)"
   ],
   "metadata": {
    "collapsed": false
   }
  },
  {
   "cell_type": "code",
   "execution_count": 470,
   "outputs": [],
   "source": [
    "# normalize the data so that all features have a mean of 0 and standard deviation of 1 (this helps with training the model)\n",
    "scaler = StandardScaler()\n",
    "X = scaler.fit_transform(data.values)"
   ],
   "metadata": {
    "collapsed": false,
    "ExecuteTime": {
     "start_time": "2023-05-05T15:02:49.286616Z",
     "end_time": "2023-05-05T15:02:49.294619Z"
    }
   }
  },
  {
   "cell_type": "code",
   "execution_count": 471,
   "outputs": [
    {
     "name": "stdout",
     "output_type": "stream",
     "text": [
      "(150, 4)\n"
     ]
    }
   ],
   "source": [
    "# print the shape of the normalized data\n",
    "print(X.shape)"
   ],
   "metadata": {
    "collapsed": false,
    "ExecuteTime": {
     "start_time": "2023-05-05T15:02:49.736198Z",
     "end_time": "2023-05-05T15:02:49.745560Z"
    }
   }
  },
  {
   "cell_type": "code",
   "execution_count": 472,
   "outputs": [
    {
     "name": "stdout",
     "output_type": "stream",
     "text": [
      "[[ 1.00671141 -0.11835884  0.87760447  0.82343066]\n",
      " [-0.11835884  1.00671141 -0.43131554 -0.36858315]\n",
      " [ 0.87760447 -0.43131554  1.00671141  0.96932762]\n",
      " [ 0.82343066 -0.36858315  0.96932762  1.00671141]]\n"
     ]
    }
   ],
   "source": [
    "# covariant matrix of the normalized data\n",
    "cov_matrix = np.cov(X.T) # transpose the data to get the features in the columns and samples in the rows\n",
    "print(cov_matrix)"
   ],
   "metadata": {
    "collapsed": false,
    "ExecuteTime": {
     "start_time": "2023-05-05T15:02:50.234203Z",
     "end_time": "2023-05-05T15:02:50.244733Z"
    }
   }
  },
  {
   "cell_type": "code",
   "execution_count": 473,
   "outputs": [
    {
     "name": "stdout",
     "output_type": "stream",
     "text": [
      "[2.93808505 0.9201649  0.14774182 0.02085386]\n"
     ]
    }
   ],
   "source": [
    "# eigenvalues and eigenvectors of the covariance matrix\n",
    "# eigen decomposition of the covariance matrix which will tell us the variance of the data in each principal component\n",
    "eigenvalues, eigenvectors = np.linalg.eig(cov_matrix)\n",
    "print(eigenvalues)"
   ],
   "metadata": {
    "collapsed": false,
    "ExecuteTime": {
     "start_time": "2023-05-05T15:02:50.767636Z",
     "end_time": "2023-05-05T15:02:50.775614Z"
    }
   }
  },
  {
   "cell_type": "code",
   "execution_count": 474,
   "outputs": [
    {
     "name": "stdout",
     "output_type": "stream",
     "text": [
      "[[ 0.52106591 -0.37741762 -0.71956635  0.26128628]\n",
      " [-0.26934744 -0.92329566  0.24438178 -0.12350962]\n",
      " [ 0.5804131  -0.02449161  0.14212637 -0.80144925]\n",
      " [ 0.56485654 -0.06694199  0.63427274  0.52359713]]\n"
     ]
    }
   ],
   "source": [
    "print(eigenvectors)"
   ],
   "metadata": {
    "collapsed": false,
    "ExecuteTime": {
     "start_time": "2023-05-05T15:02:51.312525Z",
     "end_time": "2023-05-05T15:02:51.321014Z"
    }
   }
  },
  {
   "cell_type": "markdown",
   "source": [],
   "metadata": {
    "collapsed": false
   }
  },
  {
   "cell_type": "code",
   "execution_count": 475,
   "outputs": [],
   "source": [
    "# sort the eigenvalues in descending order (highest to lowest)\n",
    "sorted_index = np.argsort(eigenvalues)[::-1]\n",
    "sorted_eigenvalues = eigenvalues[sorted_index]\n",
    "sorted_eigenvectors = eigenvectors[:, sorted_index]"
   ],
   "metadata": {
    "collapsed": false,
    "ExecuteTime": {
     "start_time": "2023-05-05T15:02:52.281417Z",
     "end_time": "2023-05-05T15:02:52.291273Z"
    }
   }
  },
  {
   "cell_type": "code",
   "execution_count": 476,
   "outputs": [
    {
     "name": "stdout",
     "output_type": "stream",
     "text": [
      "[2.93808505 0.9201649  0.14774182 0.02085386]\n"
     ]
    }
   ],
   "source": [
    "# print the sorted eigenvalues\n",
    "print(sorted_eigenvalues)"
   ],
   "metadata": {
    "collapsed": false,
    "ExecuteTime": {
     "start_time": "2023-05-05T15:02:52.788926Z",
     "end_time": "2023-05-05T15:02:52.796427Z"
    }
   }
  },
  {
   "cell_type": "code",
   "execution_count": 477,
   "outputs": [],
   "source": [
    "# select top k eigenvectors (k = number of components we want to keep)\n",
    "k = 3\n",
    "topk_eigenvectors = sorted_eigenvectors[:, 0:k]"
   ],
   "metadata": {
    "collapsed": false,
    "ExecuteTime": {
     "start_time": "2023-05-05T15:02:53.277519Z",
     "end_time": "2023-05-05T15:02:53.286000Z"
    }
   }
  },
  {
   "cell_type": "code",
   "execution_count": 478,
   "outputs": [
    {
     "data": {
      "text/plain": "array([[ 0.52106591, -0.37741762, -0.71956635],\n       [-0.26934744, -0.92329566,  0.24438178],\n       [ 0.5804131 , -0.02449161,  0.14212637],\n       [ 0.56485654, -0.06694199,  0.63427274]])"
     },
     "execution_count": 478,
     "metadata": {},
     "output_type": "execute_result"
    }
   ],
   "source": [
    "topk_eigenvectors"
   ],
   "metadata": {
    "collapsed": false,
    "ExecuteTime": {
     "start_time": "2023-05-05T15:02:53.786957Z",
     "end_time": "2023-05-05T15:02:53.795448Z"
    }
   }
  },
  {
   "cell_type": "code",
   "execution_count": 479,
   "outputs": [],
   "source": [
    "# transform the data using the top k eigenvectors (k = 3)\n",
    "X_pca = X.dot(topk_eigenvectors)"
   ],
   "metadata": {
    "collapsed": false,
    "ExecuteTime": {
     "start_time": "2023-05-05T15:02:54.317448Z",
     "end_time": "2023-05-05T15:02:54.326931Z"
    }
   }
  },
  {
   "cell_type": "code",
   "execution_count": 480,
   "outputs": [
    {
     "name": "stdout",
     "output_type": "stream",
     "text": [
      "(150, 3)\n"
     ]
    }
   ],
   "source": [
    "# print the shape of the transformed data\n",
    "print(X_pca.shape)"
   ],
   "metadata": {
    "collapsed": false,
    "ExecuteTime": {
     "start_time": "2023-05-05T15:02:54.896657Z",
     "end_time": "2023-05-05T15:02:54.906138Z"
    }
   }
  },
  {
   "cell_type": "code",
   "execution_count": 481,
   "outputs": [
    {
     "name": "stdout",
     "output_type": "stream",
     "text": [
      "[[-2.26470281 -0.4800266  -0.12770602]\n",
      " [-2.08096115  0.67413356 -0.23460885]\n",
      " [-2.36422905  0.34190802  0.04420148]\n",
      " [-2.29938422  0.59739451  0.09129011]\n",
      " [-2.38984217 -0.64683538  0.0157382 ]]\n"
     ]
    }
   ],
   "source": [
    "# print the head of the transformed data\n",
    "print(X_pca[0:5, :])"
   ],
   "metadata": {
    "collapsed": false,
    "ExecuteTime": {
     "start_time": "2023-05-05T15:02:55.456515Z",
     "end_time": "2023-05-05T15:02:55.464493Z"
    }
   }
  },
  {
   "cell_type": "code",
   "execution_count": 482,
   "outputs": [],
   "source": [
    "# create a new df including the transformed data and the target classes\n",
    "df = pd.DataFrame(X_pca, columns=['PC1', 'PC2', 'PC3'])"
   ],
   "metadata": {
    "collapsed": false,
    "ExecuteTime": {
     "start_time": "2023-05-05T15:02:55.963812Z",
     "end_time": "2023-05-05T15:02:55.972382Z"
    }
   }
  },
  {
   "cell_type": "code",
   "execution_count": 483,
   "outputs": [],
   "source": [
    "df['target'] = iris.target"
   ],
   "metadata": {
    "collapsed": false,
    "ExecuteTime": {
     "start_time": "2023-05-05T15:02:56.526394Z",
     "end_time": "2023-05-05T15:02:56.535876Z"
    }
   }
  },
  {
   "cell_type": "code",
   "execution_count": 484,
   "outputs": [
    {
     "data": {
      "text/plain": "        PC1       PC2       PC3  target\n0 -2.264703 -0.480027 -0.127706       0\n1 -2.080961  0.674134 -0.234609       0\n2 -2.364229  0.341908  0.044201       0\n3 -2.299384  0.597395  0.091290       0\n4 -2.389842 -0.646835  0.015738       0",
      "text/html": "<div>\n<style scoped>\n    .dataframe tbody tr th:only-of-type {\n        vertical-align: middle;\n    }\n\n    .dataframe tbody tr th {\n        vertical-align: top;\n    }\n\n    .dataframe thead th {\n        text-align: right;\n    }\n</style>\n<table border=\"1\" class=\"dataframe\">\n  <thead>\n    <tr style=\"text-align: right;\">\n      <th></th>\n      <th>PC1</th>\n      <th>PC2</th>\n      <th>PC3</th>\n      <th>target</th>\n    </tr>\n  </thead>\n  <tbody>\n    <tr>\n      <th>0</th>\n      <td>-2.264703</td>\n      <td>-0.480027</td>\n      <td>-0.127706</td>\n      <td>0</td>\n    </tr>\n    <tr>\n      <th>1</th>\n      <td>-2.080961</td>\n      <td>0.674134</td>\n      <td>-0.234609</td>\n      <td>0</td>\n    </tr>\n    <tr>\n      <th>2</th>\n      <td>-2.364229</td>\n      <td>0.341908</td>\n      <td>0.044201</td>\n      <td>0</td>\n    </tr>\n    <tr>\n      <th>3</th>\n      <td>-2.299384</td>\n      <td>0.597395</td>\n      <td>0.091290</td>\n      <td>0</td>\n    </tr>\n    <tr>\n      <th>4</th>\n      <td>-2.389842</td>\n      <td>-0.646835</td>\n      <td>0.015738</td>\n      <td>0</td>\n    </tr>\n  </tbody>\n</table>\n</div>"
     },
     "execution_count": 484,
     "metadata": {},
     "output_type": "execute_result"
    }
   ],
   "source": [
    "df.head()"
   ],
   "metadata": {
    "collapsed": false,
    "ExecuteTime": {
     "start_time": "2023-05-05T15:02:57.022452Z",
     "end_time": "2023-05-05T15:02:57.028376Z"
    }
   }
  },
  {
   "cell_type": "code",
   "execution_count": 485,
   "outputs": [
    {
     "data": {
      "text/plain": "<Figure size 640x480 with 1 Axes>",
      "image/png": "[encoded data removed]"
     },
     "metadata": {},
     "output_type": "display_data"
    }
   ],
   "source": [
    "# plot the data using a sns scatterplot\n",
    "import seaborn as sns\n",
    "sns.scatterplot(x='PC1', y='PC2', hue='target', data=df)\n",
    "plt.title('Iris dataset with 3 principal components')\n",
    "plt.show()"
   ],
   "metadata": {
    "collapsed": false,
    "ExecuteTime": {
     "start_time": "2023-05-05T15:02:57.573886Z",
     "end_time": "2023-05-05T15:02:57.746798Z"
    }
   }
  },
  {
   "cell_type": "code",
   "execution_count": 486,
   "outputs": [],
   "source": [
    "# now using logistic regression with PCA n=3 components\n",
    "iris = load_iris()\n",
    "X = iris.data\n",
    "y = iris.target"
   ],
   "metadata": {
    "collapsed": false,
    "ExecuteTime": {
     "start_time": "2023-05-05T15:02:58.692322Z",
     "end_time": "2023-05-05T15:02:58.701387Z"
    }
   }
  },
  {
   "cell_type": "code",
   "execution_count": 487,
   "outputs": [],
   "source": [
    "# Before applying PCA let's standardize the data\n",
    "scaler = StandardScaler()\n",
    "X_scaled = scaler.fit_transform(X)"
   ],
   "metadata": {
    "collapsed": false,
    "ExecuteTime": {
     "start_time": "2023-05-05T15:02:59.257314Z",
     "end_time": "2023-05-05T15:02:59.267794Z"
    }
   }
  },
  {
   "cell_type": "code",
   "execution_count": 488,
   "outputs": [],
   "source": [
    "# Apply PCA and keep the first 3 components\n",
    "pca = PCA(n_components=3) # keep the first 3 principal components\n",
    "X_pca = pca.fit_transform(X_scaled) # Transform the input data using the PCA fit above but with the scaled data (0-1)"
   ],
   "metadata": {
    "collapsed": false,
    "ExecuteTime": {
     "start_time": "2023-05-05T15:02:59.782353Z",
     "end_time": "2023-05-05T15:02:59.791337Z"
    }
   }
  },
  {
   "cell_type": "code",
   "execution_count": 489,
   "outputs": [
    {
     "data": {
      "text/plain": "(150, 3)"
     },
     "execution_count": 489,
     "metadata": {},
     "output_type": "execute_result"
    }
   ],
   "source": [
    "# check the shape of the transformed data\n",
    "X_pca.shape"
   ],
   "metadata": {
    "collapsed": false,
    "ExecuteTime": {
     "start_time": "2023-05-05T15:03:00.315352Z",
     "end_time": "2023-05-05T15:03:00.323722Z"
    }
   }
  },
  {
   "cell_type": "code",
   "execution_count": 490,
   "outputs": [],
   "source": [
    "# Split the data into training/testing sets (70% for training and 30% for testing)\n",
    "X_train_pca, X_test_pca, y_train_pca, y_test_pca = train_test_split(X_pca, y, test_size=0.3, random_state=42)"
   ],
   "metadata": {
    "collapsed": false,
    "ExecuteTime": {
     "start_time": "2023-05-05T15:03:00.814793Z",
     "end_time": "2023-05-05T15:03:00.825234Z"
    }
   }
  },
  {
   "cell_type": "code",
   "execution_count": 491,
   "outputs": [],
   "source": [
    "# Create logistic regression object\n",
    "model_pca = LogisticRegression()\n"
   ],
   "metadata": {
    "collapsed": false,
    "ExecuteTime": {
     "start_time": "2023-05-05T15:03:01.340323Z",
     "end_time": "2023-05-05T15:03:01.349346Z"
    }
   }
  },
  {
   "cell_type": "code",
   "execution_count": 492,
   "outputs": [
    {
     "data": {
      "text/plain": "LogisticRegression()",
      "text/html": "<style>#sk-container-id-31 {color: black;background-color: white;}#sk-container-id-31 pre{padding: 0;}#sk-container-id-31 div.sk-toggleable {background-color: white;}#sk-container-id-31 label.sk-toggleable__label {cursor: pointer;display: block;width: 100%;margin-bottom: 0;padding: 0.3em;box-sizing: border-box;text-align: center;}#sk-container-id-31 label.sk-toggleable__label-arrow:before {content: \"▸\";float: left;margin-right: 0.25em;color: #696969;}#sk-container-id-31 label.sk-toggleable__label-arrow:hover:before {color: black;}#sk-container-id-31 div.sk-estimator:hover label.sk-toggleable__label-arrow:before {color: black;}#sk-container-id-31 div.sk-toggleable__content {max-height: 0;max-width: 0;overflow: hidden;text-align: left;background-color: #f0f8ff;}#sk-container-id-31 div.sk-toggleable__content pre {margin: 0.2em;color: black;border-radius: 0.25em;background-color: #f0f8ff;}#sk-container-id-31 input.sk-toggleable__control:checked~div.sk-toggleable__content {max-height: 200px;max-width: 100%;overflow: auto;}#sk-container-id-31 input.sk-toggleable__control:checked~label.sk-toggleable__label-arrow:before {content: \"▾\";}#sk-container-id-31 div.sk-estimator input.sk-toggleable__control:checked~label.sk-toggleable__label {background-color: #d4ebff;}#sk-container-id-31 div.sk-label input.sk-toggleable__control:checked~label.sk-toggleable__label {background-color: #d4ebff;}#sk-container-id-31 input.sk-hidden--visually {border: 0;clip: rect(1px 1px 1px 1px);clip: rect(1px, 1px, 1px, 1px);height: 1px;margin: -1px;overflow: hidden;padding: 0;position: absolute;width: 1px;}#sk-container-id-31 div.sk-estimator {font-family: monospace;background-color: #f0f8ff;border: 1px dotted black;border-radius: 0.25em;box-sizing: border-box;margin-bottom: 0.5em;}#sk-container-id-31 div.sk-estimator:hover {background-color: #d4ebff;}#sk-container-id-31 div.sk-parallel-item::after {content: \"\";width: 100%;border-bottom: 1px solid gray;flex-grow: 1;}#sk-container-id-31 div.sk-label:hover label.sk-toggleable__label {background-color: #d4ebff;}#sk-container-id-31 div.sk-serial::before {content: \"\";position: absolute;border-left: 1px solid gray;box-sizing: border-box;top: 0;bottom: 0;left: 50%;z-index: 0;}#sk-container-id-31 div.sk-serial {display: flex;flex-direction: column;align-items: center;background-color: white;padding-right: 0.2em;padding-left: 0.2em;position: relative;}#sk-container-id-31 div.sk-item {position: relative;z-index: 1;}#sk-container-id-31 div.sk-parallel {display: flex;align-items: stretch;justify-content: center;background-color: white;position: relative;}#sk-container-id-31 div.sk-item::before, #sk-container-id-31 div.sk-parallel-item::before {content: \"\";position: absolute;border-left: 1px solid gray;box-sizing: border-box;top: 0;bottom: 0;left: 50%;z-index: -1;}#sk-container-id-31 div.sk-parallel-item {display: flex;flex-direction: column;z-index: 1;position: relative;background-color: white;}#sk-container-id-31 div.sk-parallel-item:first-child::after {align-self: flex-end;width: 50%;}#sk-container-id-31 div.sk-parallel-item:last-child::after {align-self: flex-start;width: 50%;}#sk-container-id-31 div.sk-parallel-item:only-child::after {width: 0;}#sk-container-id-31 div.sk-dashed-wrapped {border: 1px dashed gray;margin: 0 0.4em 0.5em 0.4em;box-sizing: border-box;padding-bottom: 0.4em;background-color: white;}#sk-container-id-31 div.sk-label label {font-family: monospace;font-weight: bold;display: inline-block;line-height: 1.2em;}#sk-container-id-31 div.sk-label-container {text-align: center;}#sk-container-id-31 div.sk-container {/* jupyter's `normalize.less` sets `[hidden] { display: none; }` but bootstrap.min.css set `[hidden] { display: none !important; }` so we also need the `!important` here to be able to override the default hidden behavior on the sphinx rendered scikit-learn.org. See: https://github.com/scikit-learn/scikit-learn/issues/21755 */display: inline-block !important;position: relative;}#sk-container-id-31 div.sk-text-repr-fallback {display: none;}</style><div id=\"sk-container-id-31\" class=\"sk-top-container\"><div class=\"sk-text-repr-fallback\"><pre>LogisticRegression()</pre><b>In a Jupyter environment, please rerun this cell to show the HTML representation or trust the notebook. <br />On GitHub, the HTML representation is unable to render, please try loading this page with nbviewer.org.</b></div><div class=\"sk-container\" hidden><div class=\"sk-item\"><div class=\"sk-estimator sk-toggleable\"><input class=\"sk-toggleable__control sk-hidden--visually\" id=\"sk-estimator-id-31\" type=\"checkbox\" checked><label for=\"sk-estimator-id-31\" class=\"sk-toggleable__label sk-toggleable__label-arrow\">LogisticRegression</label><div class=\"sk-toggleable__content\"><pre>LogisticRegression()</pre></div></div></div></div></div>"
     },
     "execution_count": 492,
     "metadata": {},
     "output_type": "execute_result"
    }
   ],
   "source": [
    "# Fit the model using the training sets\n",
    "model_pca.fit(X_train_pca, y_train_pca)"
   ],
   "metadata": {
    "collapsed": false,
    "ExecuteTime": {
     "start_time": "2023-05-05T15:03:01.877298Z",
     "end_time": "2023-05-05T15:03:01.887777Z"
    }
   }
  },
  {
   "cell_type": "code",
   "execution_count": 493,
   "outputs": [],
   "source": [
    "# Make predictions using the testing set\n",
    "y_pred_pca = model_pca.predict(X_test_pca)"
   ],
   "metadata": {
    "collapsed": false,
    "ExecuteTime": {
     "start_time": "2023-05-05T15:03:02.997347Z",
     "end_time": "2023-05-05T15:03:03.007432Z"
    }
   }
  },
  {
   "cell_type": "code",
   "execution_count": 494,
   "outputs": [
    {
     "name": "stdout",
     "output_type": "stream",
     "text": [
      "Accuracy: 1.00\n",
      "Precision: 1.00\n",
      "Recall: 1.00\n",
      "F1-Score: 1.00\n"
     ]
    }
   ],
   "source": [
    "# report the performance using 4 metrics (accuracy, precision, recall, f1-score)\n",
    "print(\"Accuracy: %.2f\" % accuracy_score(y_test_pca, y_pred_pca))\n",
    "print(\"Precision: %.2f\" % precision_score(y_test_pca, y_pred_pca, average='weighted'))\n",
    "print(\"Recall: %.2f\" % recall_score(y_test_pca, y_pred_pca, average='weighted'))\n",
    "print(\"F1-Score: %.2f\" % f1_score(y_test_pca, y_pred_pca, average='weighted'))"
   ],
   "metadata": {
    "collapsed": false,
    "ExecuteTime": {
     "start_time": "2023-05-05T15:03:03.634244Z",
     "end_time": "2023-05-05T15:03:03.643754Z"
    }
   }
  },
  {
   "cell_type": "markdown",
   "source": [
    "Based on these scores we can see basically perfect results but there are many reasons to this: (small dataset, overfitting, random_state, etc.)"
   ],
   "metadata": {
    "collapsed": false
   }
  },
  {
   "cell_type": "markdown",
   "source": [
    "I will be using cross-validation to get a better idea of the model's performance and recheck the scores."
   ],
   "metadata": {
    "collapsed": false
   }
  },
  {
   "cell_type": "code",
   "execution_count": 495,
   "outputs": [],
   "source": [
    "# cross-validation\n",
    "from sklearn.model_selection import cross_val_score\n",
    "# standardize the data\n",
    "scaler = StandardScaler()\n",
    "X_scaled = scaler.fit_transform(X)"
   ],
   "metadata": {
    "collapsed": false,
    "ExecuteTime": {
     "start_time": "2023-05-05T15:03:05.922374Z",
     "end_time": "2023-05-05T15:03:05.930273Z"
    }
   }
  },
  {
   "cell_type": "code",
   "execution_count": 496,
   "outputs": [],
   "source": [
    "# Apply PCA and keep the first 3 components\n",
    "pca = PCA(n_components=3) # keep the first 3 principal components\n",
    "X_pca = pca.fit_transform(X_scaled) # Transform the input data using the PCA fit above but with the scaled data (0-1)"
   ],
   "metadata": {
    "collapsed": false,
    "ExecuteTime": {
     "start_time": "2023-05-05T15:03:06.495476Z",
     "end_time": "2023-05-05T15:03:06.506082Z"
    }
   }
  },
  {
   "cell_type": "code",
   "execution_count": 497,
   "outputs": [],
   "source": [
    "# create a new logistic regression object\n",
    "log_reg = LogisticRegression()"
   ],
   "metadata": {
    "collapsed": false,
    "ExecuteTime": {
     "start_time": "2023-05-05T15:03:07.156300Z",
     "end_time": "2023-05-05T15:03:07.166805Z"
    }
   }
  },
  {
   "cell_type": "code",
   "execution_count": 498,
   "outputs": [],
   "source": [
    "accuracy_scores = cross_val_score(log_reg, X_pca, y, cv=5, scoring='accuracy')\n",
    "precision_scores = cross_val_score(log_reg, X_pca, y, cv=5, scoring='precision_weighted')\n",
    "recall_scores = cross_val_score(log_reg, X_pca, y, cv=5, scoring='recall_weighted')\n",
    "f1_scores = cross_val_score(log_reg, X_pca, y, cv=5, scoring='f1_weighted')"
   ],
   "metadata": {
    "collapsed": false,
    "ExecuteTime": {
     "start_time": "2023-05-05T15:03:07.780014Z",
     "end_time": "2023-05-05T15:03:07.855142Z"
    }
   }
  },
  {
   "cell_type": "code",
   "execution_count": 499,
   "outputs": [
    {
     "name": "stdout",
     "output_type": "stream",
     "text": [
      "Accuracy: 0.96 +/- 0.04\n",
      "Precision: 0.96 +/- 0.04\n",
      "Recall: 0.96 +/- 0.04\n",
      "F1-score: 0.96 +/- 0.04\n"
     ]
    }
   ],
   "source": [
    "print(f\"Accuracy: {accuracy_scores.mean():.2f} +/- {accuracy_scores.std():.2f}\")\n",
    "print(f\"Precision: {precision_scores.mean():.2f} +/- {precision_scores.std():.2f}\")\n",
    "print(f\"Recall: {recall_scores.mean():.2f} +/- {recall_scores.std():.2f}\")\n",
    "print(f\"F1-score: {f1_scores.mean():.2f} +/- {f1_scores.std():.2f}\")"
   ],
   "metadata": {
    "collapsed": false,
    "ExecuteTime": {
     "start_time": "2023-05-05T15:03:08.383392Z",
     "end_time": "2023-05-05T15:03:08.397912Z"
    }
   }
  },
  {
   "cell_type": "markdown",
   "source": [
    "These results indicate that the model is performing quite well on the Iris dataset. The cross-validation scores provide a more accurate and reliable estimate of the model's performance, compared to using a single train-test split. We must keep in mind though that the performance may differ significantly if applied to a much larger dataset which is more complex."
   ],
   "metadata": {
    "collapsed": false
   }
  },
  {
   "cell_type": "markdown",
   "source": [
    "QUESTION 4:"
   ],
   "metadata": {
    "collapsed": false
   }
  },
  {
   "cell_type": "code",
   "execution_count": 500,
   "outputs": [
    {
     "name": "stdout",
     "output_type": "stream",
     "text": [
      "L1 Regularized Model:\n",
      "Accuracy: 0.91\n",
      "Precision: 0.93\n",
      "Recall: 0.91\n",
      "F1-score: 0.91\n",
      "\n",
      "L2 Regularized Model:\n",
      "Accuracy: 1.00\n",
      "Precision: 1.00\n",
      "Recall: 1.00\n",
      "F1-score: 1.00\n"
     ]
    }
   ],
   "source": [
    "# Train it using L1 and L2 regularization and compare the results\n",
    "iris = load_iris()\n",
    "X = iris.data\n",
    "y = iris.target\n",
    "\n",
    "scaler = StandardScaler()\n",
    "X_scaled = scaler.fit_transform(X)\n",
    "\n",
    "pca = PCA(n_components=3)\n",
    "X_pca = pca.fit_transform(X_scaled)\n",
    "\n",
    "X_train, X_test, y_train, y_test = train_test_split(X_pca, y, test_size=0.3, random_state=42)\n",
    "\n",
    "# Train and evaluate models with L1 and L2 regularization\n",
    "log_reg_l1 = LogisticRegression(penalty='l1', solver='liblinear')\n",
    "log_reg_l1.fit(X_train, y_train)\n",
    "y_pred_l1 = log_reg_l1.predict(X_test)\n",
    "\n",
    "accuracy_l1 = accuracy_score(y_test, y_pred_l1)\n",
    "precision_l1 = precision_score(y_test, y_pred_l1, average='weighted')\n",
    "recall_l1 = recall_score(y_test, y_pred_l1, average='weighted')\n",
    "f1_l1 = f1_score(y_test, y_pred_l1, average='weighted')\n",
    "\n",
    "log_reg_l2 = LogisticRegression(penalty='l2')\n",
    "log_reg_l2.fit(X_train, y_train)\n",
    "y_pred_l2 = log_reg_l2.predict(X_test)\n",
    "\n",
    "accuracy_l2 = accuracy_score(y_test, y_pred_l2)\n",
    "precision_l2 = precision_score(y_test, y_pred_l2, average='weighted')\n",
    "recall_l2 = recall_score(y_test, y_pred_l2, average='weighted')\n",
    "f1_l2 = f1_score(y_test, y_pred_l2, average='weighted')\n",
    "\n",
    "# Compare the performance of the L1 and L2 regularized models\n",
    "print(\"L1 Regularized Model:\")\n",
    "print(f\"Accuracy: {accuracy_l1:.2f}\")\n",
    "print(f\"Precision: {precision_l1:.2f}\")\n",
    "print(f\"Recall: {recall_l1:.2f}\")\n",
    "print(f\"F1-score: {f1_l1:.2f}\")\n",
    "\n",
    "print(\"\\nL2 Regularized Model:\")\n",
    "print(f\"Accuracy: {accuracy_l2:.2f}\")\n",
    "print(f\"Precision: {precision_l2:.2f}\")\n",
    "print(f\"Recall: {recall_l2:.2f}\")\n",
    "print(f\"F1-score: {f1_l2:.2f}\")\n"
   ],
   "metadata": {
    "collapsed": false,
    "ExecuteTime": {
     "start_time": "2023-05-05T15:03:11.200814Z",
     "end_time": "2023-05-05T15:03:11.237110Z"
    }
   }
  },
  {
   "cell_type": "markdown",
   "source": [
    "As we can see, the L2 regularized model has the same performance as the previous model from Q3. This is because, by default, logistic regression in scikit-learn uses L2 regularization with the LogisticRegression() function. Therefore, the performance remains unchanged.\n",
    "\n",
    "On the other hand, the L1 regularized model has slightly lower performance metrics than the L2 regularized and previous models. This could be due to L1 regularization driving some of the model's weights to zero, which may have led to slightly less accurate predictions."
   ],
   "metadata": {
    "collapsed": false
   }
  }
 ],
 "metadata": {
  "kernelspec": {
   "display_name": "Python 3",
   "language": "python",
   "name": "python3"
  },
  "language_info": {
   "codemirror_mode": {
    "name": "ipython",
    "version": 2
   },
   "file_extension": ".py",
   "mimetype": "text/x-python",
   "name": "python",
   "nbconvert_exporter": "python",
   "pygments_lexer": "ipython2",
   "version": "2.7.6"
  }
 },
 "nbformat": 4,
 "nbformat_minor": 0
}
